{
  "nbformat": 4,
  "nbformat_minor": 0,
  "metadata": {
    "colab": {
      "name": "diabetes.ipynb",
      "provenance": [],
      "collapsed_sections": []
    },
    "kernelspec": {
      "name": "python3",
      "display_name": "Python 3"
    }
  },
  "cells": [
    {
      "cell_type": "code",
      "metadata": {
        "id": "sgRKRcqBK3GF"
      },
      "source": [
        "from sklearn.preprocessing import StandardScaler\n",
        "import pandas as pd\n",
        "import itertools\n",
        "import numpy as np\n",
        "import matplotlib.pyplot as plt\n",
        "from itertools import combinations \n",
        "from sklearn.preprocessing import LabelEncoder\n",
        "from sklearn.preprocessing import OneHotEncoder\n",
        "from sklearn.metrics import confusion_matrix\n",
        "from sklearn.preprocessing import PolynomialFeatures\n",
        "from sklearn.preprocessing import StandardScaler\n",
        "from sklearn.svm import SVR\n",
        "from sklearn.preprocessing import LabelEncoder, OneHotEncoder\n",
        "from sklearn.compose import ColumnTransformer\n",
        "from sklearn.impute import SimpleImputer\n",
        "from sklearn.preprocessing import StandardScaler\n",
        "import seaborn as sns\n",
        "import matplotlib.colors as mcolors\n",
        "import matplotlib.ticker as ticker\n",
        "import matplotlib.cm as cm\n",
        "import matplotlib as mpl\n",
        "from matplotlib.gridspec import GridSpec\n",
        "import os\n",
        "import zipfile\n",
        "import tensorflow as tf\n"
      ],
      "execution_count": 67,
      "outputs": []
    },
    {
      "cell_type": "code",
      "metadata": {
        "id": "flmbZKJ2UKtw"
      },
      "source": [
        "Main_data = pd.read_csv( 'drive/My Drive/kaggle/diabetes/diabetes.csv')"
      ],
      "execution_count": 68,
      "outputs": []
    },
    {
      "cell_type": "code",
      "metadata": {
        "id": "KUNGPWUOV4td",
        "colab": {
          "base_uri": "https://localhost:8080/",
          "height": 198
        },
        "outputId": "c326ad13-af41-4716-c7f5-563c9721fbf0"
      },
      "source": [
        "Main_data.head()"
      ],
      "execution_count": 69,
      "outputs": [
        {
          "output_type": "execute_result",
          "data": {
            "text/html": [
              "<div>\n",
              "<style scoped>\n",
              "    .dataframe tbody tr th:only-of-type {\n",
              "        vertical-align: middle;\n",
              "    }\n",
              "\n",
              "    .dataframe tbody tr th {\n",
              "        vertical-align: top;\n",
              "    }\n",
              "\n",
              "    .dataframe thead th {\n",
              "        text-align: right;\n",
              "    }\n",
              "</style>\n",
              "<table border=\"1\" class=\"dataframe\">\n",
              "  <thead>\n",
              "    <tr style=\"text-align: right;\">\n",
              "      <th></th>\n",
              "      <th>Pregnancies</th>\n",
              "      <th>Glucose</th>\n",
              "      <th>BloodPressure</th>\n",
              "      <th>SkinThickness</th>\n",
              "      <th>Insulin</th>\n",
              "      <th>BMI</th>\n",
              "      <th>DiabetesPedigreeFunction</th>\n",
              "      <th>Age</th>\n",
              "      <th>Outcome</th>\n",
              "    </tr>\n",
              "  </thead>\n",
              "  <tbody>\n",
              "    <tr>\n",
              "      <th>0</th>\n",
              "      <td>6</td>\n",
              "      <td>148</td>\n",
              "      <td>72</td>\n",
              "      <td>35</td>\n",
              "      <td>0</td>\n",
              "      <td>33.6</td>\n",
              "      <td>0.627</td>\n",
              "      <td>50</td>\n",
              "      <td>1</td>\n",
              "    </tr>\n",
              "    <tr>\n",
              "      <th>1</th>\n",
              "      <td>1</td>\n",
              "      <td>85</td>\n",
              "      <td>66</td>\n",
              "      <td>29</td>\n",
              "      <td>0</td>\n",
              "      <td>26.6</td>\n",
              "      <td>0.351</td>\n",
              "      <td>31</td>\n",
              "      <td>0</td>\n",
              "    </tr>\n",
              "    <tr>\n",
              "      <th>2</th>\n",
              "      <td>8</td>\n",
              "      <td>183</td>\n",
              "      <td>64</td>\n",
              "      <td>0</td>\n",
              "      <td>0</td>\n",
              "      <td>23.3</td>\n",
              "      <td>0.672</td>\n",
              "      <td>32</td>\n",
              "      <td>1</td>\n",
              "    </tr>\n",
              "    <tr>\n",
              "      <th>3</th>\n",
              "      <td>1</td>\n",
              "      <td>89</td>\n",
              "      <td>66</td>\n",
              "      <td>23</td>\n",
              "      <td>94</td>\n",
              "      <td>28.1</td>\n",
              "      <td>0.167</td>\n",
              "      <td>21</td>\n",
              "      <td>0</td>\n",
              "    </tr>\n",
              "    <tr>\n",
              "      <th>4</th>\n",
              "      <td>0</td>\n",
              "      <td>137</td>\n",
              "      <td>40</td>\n",
              "      <td>35</td>\n",
              "      <td>168</td>\n",
              "      <td>43.1</td>\n",
              "      <td>2.288</td>\n",
              "      <td>33</td>\n",
              "      <td>1</td>\n",
              "    </tr>\n",
              "  </tbody>\n",
              "</table>\n",
              "</div>"
            ],
            "text/plain": [
              "   Pregnancies  Glucose  BloodPressure  ...  DiabetesPedigreeFunction  Age  Outcome\n",
              "0            6      148             72  ...                     0.627   50        1\n",
              "1            1       85             66  ...                     0.351   31        0\n",
              "2            8      183             64  ...                     0.672   32        1\n",
              "3            1       89             66  ...                     0.167   21        0\n",
              "4            0      137             40  ...                     2.288   33        1\n",
              "\n",
              "[5 rows x 9 columns]"
            ]
          },
          "metadata": {
            "tags": []
          },
          "execution_count": 69
        }
      ]
    },
    {
      "cell_type": "code",
      "metadata": {
        "id": "2OpBN5XlV899",
        "colab": {
          "base_uri": "https://localhost:8080/"
        },
        "outputId": "f0f8133c-41ad-4d9f-b4b5-5098ffd88328"
      },
      "source": [
        "Main_data.shape"
      ],
      "execution_count": 70,
      "outputs": [
        {
          "output_type": "execute_result",
          "data": {
            "text/plain": [
              "(768, 9)"
            ]
          },
          "metadata": {
            "tags": []
          },
          "execution_count": 70
        }
      ]
    },
    {
      "cell_type": "code",
      "metadata": {
        "id": "jpU6ciL3WFFG",
        "colab": {
          "base_uri": "https://localhost:8080/"
        },
        "outputId": "af7c8a9a-41ad-4ea8-df36-8ccadf8e3831"
      },
      "source": [
        "Main_data.info()"
      ],
      "execution_count": 71,
      "outputs": [
        {
          "output_type": "stream",
          "text": [
            "<class 'pandas.core.frame.DataFrame'>\n",
            "RangeIndex: 768 entries, 0 to 767\n",
            "Data columns (total 9 columns):\n",
            " #   Column                    Non-Null Count  Dtype  \n",
            "---  ------                    --------------  -----  \n",
            " 0   Pregnancies               768 non-null    int64  \n",
            " 1   Glucose                   768 non-null    int64  \n",
            " 2   BloodPressure             768 non-null    int64  \n",
            " 3   SkinThickness             768 non-null    int64  \n",
            " 4   Insulin                   768 non-null    int64  \n",
            " 5   BMI                       768 non-null    float64\n",
            " 6   DiabetesPedigreeFunction  768 non-null    float64\n",
            " 7   Age                       768 non-null    int64  \n",
            " 8   Outcome                   768 non-null    int64  \n",
            "dtypes: float64(2), int64(7)\n",
            "memory usage: 54.1 KB\n"
          ],
          "name": "stdout"
        }
      ]
    },
    {
      "cell_type": "markdown",
      "metadata": {
        "id": "6fMMXFja4ZtL"
      },
      "source": [
        "**Heatmap of Correlation**"
      ]
    },
    {
      "cell_type": "code",
      "metadata": {
        "id": "c7-mR_LgZYSk",
        "colab": {
          "base_uri": "https://localhost:8080/",
          "height": 1000
        },
        "outputId": "a58d59be-97c1-4830-b500-7a2b2db29621"
      },
      "source": [
        "plt.subplots(figsize=(18,18))\n",
        "sns.heatmap(Main_data.corr(), annot=True, fmt=\".2f\")\n",
        "plt.show()"
      ],
      "execution_count": 72,
      "outputs": [
        {
          "output_type": "display_data",
          "data": {
            "image/png": "[encoded data removed]",
            "text/plain": [
              "<Figure size 1296x1296 with 2 Axes>"
            ]
          },
          "metadata": {
            "tags": [],
            "needs_background": "light"
          }
        }
      ]
    },
    {
      "cell_type": "code",
      "metadata": {
        "id": "Z8dWuhsFWqza",
        "colab": {
          "base_uri": "https://localhost:8080/",
          "height": 605
        },
        "outputId": "c1f4fe65-0d87-4226-cef1-b3cbfd8ec89a"
      },
      "source": [
        "Outcome = Main_data[['Outcome']]\n",
        "\n",
        "outcome = Outcome.groupby(['Outcome']).size().reset_index()\n",
        "outcome.plot(kind='pie' ,y = 0, autopct='%1.1f%%',  title = \"Outcome Percentage\",\n",
        "startangle=90, shadow=False, labels=  outcome['Outcome'], legend = False, fontsize=14, figsize=(10, 10))\n",
        "plt.xlabel('Outcome ')\n",
        "plt.show()"
      ],
      "execution_count": 73,
      "outputs": [
        {
          "output_type": "display_data",
          "data": {
            "image/png": "[encoded data removed]",
            "text/plain": [
              "<Figure size 720x720 with 1 Axes>"
            ]
          },
          "metadata": {
            "tags": []
          }
        }
      ]
    },
    {
      "cell_type": "code",
      "metadata": {
        "id": "qdMJeHLC5mXp"
      },
      "source": [
        "start = 0\n",
        "stop = 12\n",
        "number_of_lines=  Main_data['SkinThickness'].shape[0]\n",
        "cm_subsection = np.linspace(start, stop, number_of_lines) \n",
        "colors = [ cm.jet(x) for x in cm_subsection ]"
      ],
      "execution_count": 74,
      "outputs": []
    },
    {
      "cell_type": "code",
      "metadata": {
        "id": "ZXN6LJ0X5ccw",
        "colab": {
          "base_uri": "https://localhost:8080/",
          "height": 392
        },
        "outputId": "d2934674-f489-4b02-af5c-5ed3cce8a9eb"
      },
      "source": [
        "plt.subplots(figsize=(12,6))\n",
        "SkinThickness =  Main_data['SkinThickness'].value_counts()\n",
        "plt.bar( SkinThickness.index ,    SkinThickness.values ,color= colors  )\n",
        "plt.title(\" SkinThickness scala\" ,fontsize=15 )\n",
        "\n",
        "plt.show()"
      ],
      "execution_count": 75,
      "outputs": [
        {
          "output_type": "display_data",
          "data": {
            "image/png": "[encoded data removed]",
            "text/plain": [
              "<Figure size 864x432 with 1 Axes>"
            ]
          },
          "metadata": {
            "tags": [],
            "needs_background": "light"
          }
        }
      ]
    },
    {
      "cell_type": "code",
      "metadata": {
        "id": "Dts_YXpGeTPC"
      },
      "source": [
        "start = 0\n",
        "stop = 12\n",
        "number_of_lines=  Main_data['Age'].shape[0]\n",
        "cm_subsection = np.linspace(start, stop, number_of_lines) \n",
        "colors = [ cm.jet(x) for x in cm_subsection ]"
      ],
      "execution_count": 76,
      "outputs": []
    },
    {
      "cell_type": "code",
      "metadata": {
        "id": "rXNQ_TOZZZFQ",
        "colab": {
          "base_uri": "https://localhost:8080/",
          "height": 392
        },
        "outputId": "e15aa06a-6cb2-470c-8f96-2cff39d60a05"
      },
      "source": [
        "plt.subplots(figsize=(12,6))\n",
        "Age =  Main_data['Age'].value_counts()\n",
        "plt.bar(Age.index ,  Age .values ,color= colors  )\n",
        "plt.title(\"Age scala\" ,fontsize=15 )\n",
        "\n",
        "plt.show()"
      ],
      "execution_count": 77,
      "outputs": [
        {
          "output_type": "display_data",
          "data": {
            "image/png": "[encoded data removed]",
            "text/plain": [
              "<Figure size 864x432 with 1 Axes>"
            ]
          },
          "metadata": {
            "tags": [],
            "needs_background": "light"
          }
        }
      ]
    },
    {
      "cell_type": "code",
      "metadata": {
        "id": "wzPyn_BwgeRg"
      },
      "source": [
        "start = 0\n",
        "stop = 10\n",
        "number_of_lines=  Main_data['Glucose'].shape[0]\n",
        "cm_subsection = np.linspace(start, stop, number_of_lines) \n",
        "colors = [ cm.jet(x) for x in cm_subsection ]"
      ],
      "execution_count": 78,
      "outputs": []
    },
    {
      "cell_type": "code",
      "metadata": {
        "id": "weHcJXzPfbBf",
        "colab": {
          "base_uri": "https://localhost:8080/",
          "height": 392
        },
        "outputId": "f9c6e327-222e-4da9-95cd-f36486b6e556"
      },
      "source": [
        "plt.subplots(figsize=(12,6))\n",
        "glucose =  Main_data['Glucose'].value_counts()\n",
        "plt.bar(glucose.index ,  glucose.values ,color= colors  )\n",
        "plt.title(\"glucose scala\" ,fontsize=15 )\n",
        "\n",
        "plt.show()"
      ],
      "execution_count": 79,
      "outputs": [
        {
          "output_type": "display_data",
          "data": {
            "image/png": "[encoded data removed]",
            "text/plain": [
              "<Figure size 864x432 with 1 Axes>"
            ]
          },
          "metadata": {
            "tags": [],
            "needs_background": "light"
          }
        }
      ]
    },
    {
      "cell_type": "code",
      "metadata": {
        "id": "GCCiCL8YhoAO"
      },
      "source": [
        "start = 0\n",
        "stop = 12\n",
        "number_of_lines=  Main_data['BMI'].shape[0]\n",
        "cm_subsection = np.linspace(start, stop, number_of_lines) \n",
        "colors = [ cm.jet(x) for x in cm_subsection ]"
      ],
      "execution_count": 80,
      "outputs": []
    },
    {
      "cell_type": "code",
      "metadata": {
        "id": "CYHmYt9ahqaY",
        "colab": {
          "base_uri": "https://localhost:8080/",
          "height": 392
        },
        "outputId": "7f30955f-09af-44e1-bb49-abef34995d01"
      },
      "source": [
        "plt.subplots(figsize=(12,6))\n",
        "BMI =  Main_data['BMI'].value_counts()\n",
        "plt.bar(BMI.index ,  BMI.values ,color= colors  )\n",
        "plt.title(\"BMI scala\" ,fontsize=15 )\n",
        "\n",
        "plt.show()"
      ],
      "execution_count": 81,
      "outputs": [
        {
          "output_type": "display_data",
          "data": {
            "image/png": "[encoded data removed]",
            "text/plain": [
              "<Figure size 864x432 with 1 Axes>"
            ]
          },
          "metadata": {
            "tags": [],
            "needs_background": "light"
          }
        }
      ]
    },
    {
      "cell_type": "code",
      "metadata": {
        "id": "LfVBvu8Ui_C9"
      },
      "source": [
        "start = 0\n",
        "stop = 112\n",
        "number_of_lines=  Main_data['Pregnancies'].shape[0]\n",
        "cm_subsection = np.linspace(start, stop, number_of_lines) \n",
        "colors = [ cm.jet(x) for x in cm_subsection ]"
      ],
      "execution_count": 82,
      "outputs": []
    },
    {
      "cell_type": "code",
      "metadata": {
        "id": "P2c3enPXi_Lu",
        "colab": {
          "base_uri": "https://localhost:8080/",
          "height": 392
        },
        "outputId": "826716d6-678b-4c14-b501-28eaf476c752"
      },
      "source": [
        "plt.subplots(figsize=(12,6))\n",
        "Pregnancies =  Main_data['Pregnancies'].value_counts()\n",
        "plt.bar( Pregnancies.index ,  Pregnancies.values ,color= colors  )\n",
        "plt.title(\"Pregnancies scala\" ,fontsize=15 )\n",
        "\n",
        "plt.show()"
      ],
      "execution_count": 83,
      "outputs": [
        {
          "output_type": "display_data",
          "data": {
            "image/png": "[encoded data removed]",
            "text/plain": [
              "<Figure size 864x432 with 1 Axes>"
            ]
          },
          "metadata": {
            "tags": [],
            "needs_background": "light"
          }
        }
      ]
    },
    {
      "cell_type": "code",
      "metadata": {
        "id": "yyDextD7oSCO",
        "colab": {
          "base_uri": "https://localhost:8080/",
          "height": 448
        },
        "outputId": "ca7ba34f-725e-4acf-e915-ed5a0a41c82f"
      },
      "source": [
        "plt.subplots(figsize=(12,6))\n",
        "DiabetesPedigreeFunction =  Main_data['DiabetesPedigreeFunction'].value_counts()\n",
        "sns.lineplot( DiabetesPedigreeFunction.index ,  DiabetesPedigreeFunction.values   )\n",
        "plt.title(\"DiabetesPedigreeFunction scala\" ,fontsize=15 )\n",
        "\n",
        "plt.show()"
      ],
      "execution_count": 84,
      "outputs": [
        {
          "output_type": "stream",
          "text": [
            "/usr/local/lib/python3.6/dist-packages/seaborn/_decorators.py:43: FutureWarning: Pass the following variables as keyword args: x, y. From version 0.12, the only valid positional argument will be `data`, and passing other arguments without an explicit keyword will result in an error or misinterpretation.\n",
            "  FutureWarning\n"
          ],
          "name": "stderr"
        },
        {
          "output_type": "display_data",
          "data": {
            "image/png": "[encoded data removed]",
            "text/plain": [
              "<Figure size 864x432 with 1 Axes>"
            ]
          },
          "metadata": {
            "tags": [],
            "needs_background": "light"
          }
        }
      ]
    },
    {
      "cell_type": "code",
      "metadata": {
        "id": "gSLIMw1owOdu",
        "colab": {
          "base_uri": "https://localhost:8080/",
          "height": 448
        },
        "outputId": "3aa4997d-fa1d-4c5e-d51d-e89607dc16c7"
      },
      "source": [
        "plt.subplots(figsize=(12,6))\n",
        "Insulin =  Main_data['Insulin'].value_counts()\n",
        "sns.lineplot( Insulin.index ,  Insulin.values  )\n",
        "plt.title(\" Insulin scala\" ,fontsize=15 )\n",
        "plt.show()"
      ],
      "execution_count": 85,
      "outputs": [
        {
          "output_type": "stream",
          "text": [
            "/usr/local/lib/python3.6/dist-packages/seaborn/_decorators.py:43: FutureWarning: Pass the following variables as keyword args: x, y. From version 0.12, the only valid positional argument will be `data`, and passing other arguments without an explicit keyword will result in an error or misinterpretation.\n",
            "  FutureWarning\n"
          ],
          "name": "stderr"
        },
        {
          "output_type": "display_data",
          "data": {
            "image/png": "[encoded data removed]",
            "text/plain": [
              "<Figure size 864x432 with 1 Axes>"
            ]
          },
          "metadata": {
            "tags": [],
            "needs_background": "light"
          }
        }
      ]
    },
    {
      "cell_type": "code",
      "metadata": {
        "id": "omkH7U1816EL"
      },
      "source": [
        "start = 0\n",
        "stop = 15\n",
        "number_of_lines=  Main_data['BloodPressure'].shape[0]\n",
        "cm_subsection = np.linspace(start, stop, number_of_lines) \n",
        "colors = [ cm.jet(x) for x in cm_subsection ]"
      ],
      "execution_count": 86,
      "outputs": []
    },
    {
      "cell_type": "code",
      "metadata": {
        "id": "MtorAsf21jts",
        "colab": {
          "base_uri": "https://localhost:8080/",
          "height": 392
        },
        "outputId": "453bb9fc-ba7d-4236-c8b5-d353bf8c4359"
      },
      "source": [
        "plt.subplots(figsize=(12,6))\n",
        "BloodPressure =  Main_data['BloodPressure'].value_counts()\n",
        "plt.bar( BloodPressure.index ,  BloodPressure.values , color = colors  )\n",
        "plt.title(\" BloodPressure scala\" ,fontsize=15 )\n",
        "plt.show()"
      ],
      "execution_count": 87,
      "outputs": [
        {
          "output_type": "display_data",
          "data": {
            "image/png": "[encoded data removed]",
            "text/plain": [
              "<Figure size 864x432 with 1 Axes>"
            ]
          },
          "metadata": {
            "tags": [],
            "needs_background": "light"
          }
        }
      ]
    },
    {
      "cell_type": "markdown",
      "metadata": {
        "id": "turVMct72vcm"
      },
      "source": [
        "Some features does contain too many '0' value. That probably means these values actually are 'nan' values. We have to convert these values ,  before the next step."
      ]
    },
    {
      "cell_type": "markdown",
      "metadata": {
        "id": "nl_WSEcmFtDt"
      },
      "source": [
        "#**Feature Encoding**"
      ]
    },
    {
      "cell_type": "code",
      "metadata": {
        "id": "W-RZclgHXGVV"
      },
      "source": [
        "Mean_Data = Main_data[ (Main_data['BMI'] != 0) &  (Main_data['Glucose'] != 0) & (Main_data['Insulin'] != 0) & (Main_data['BloodPressure'] != 0) & (Main_data['SkinThickness'] !=0)   ].copy()"
      ],
      "execution_count": 88,
      "outputs": []
    },
    {
      "cell_type": "code",
      "metadata": {
        "id": "B78nYPenYHS9",
        "colab": {
          "base_uri": "https://localhost:8080/"
        },
        "outputId": "4316d7ed-7c43-47b6-f888-0a3c1c8934f0"
      },
      "source": [
        "Mean_Data.mean()"
      ],
      "execution_count": 89,
      "outputs": [
        {
          "output_type": "execute_result",
          "data": {
            "text/plain": [
              "Pregnancies                   3.301020\n",
              "Glucose                     122.627551\n",
              "BloodPressure                70.663265\n",
              "SkinThickness                29.145408\n",
              "Insulin                     156.056122\n",
              "BMI                          33.086224\n",
              "DiabetesPedigreeFunction      0.523046\n",
              "Age                          30.864796\n",
              "Outcome                       0.331633\n",
              "dtype: float64"
            ]
          },
          "metadata": {
            "tags": []
          },
          "execution_count": 89
        }
      ]
    },
    {
      "cell_type": "markdown",
      "metadata": {
        "id": "xL2Oq-xqCnR1"
      },
      "source": [
        "**BMI**"
      ]
    },
    {
      "cell_type": "code",
      "metadata": {
        "id": "XLONWemTA5nw"
      },
      "source": [
        "Main_data['BMI'].replace(0,33.08, inplace =True)"
      ],
      "execution_count": 90,
      "outputs": []
    },
    {
      "cell_type": "markdown",
      "metadata": {
        "id": "LfGxNELfCqNC"
      },
      "source": [
        "**Glucose**"
      ]
    },
    {
      "cell_type": "code",
      "metadata": {
        "id": "LVJilUFABKjC"
      },
      "source": [
        "Main_data['Glucose'].replace(0,122, inplace =True)"
      ],
      "execution_count": 91,
      "outputs": []
    },
    {
      "cell_type": "markdown",
      "metadata": {
        "id": "Vi4T1JkUCsuE"
      },
      "source": [
        "**Insulin**"
      ]
    },
    {
      "cell_type": "code",
      "metadata": {
        "id": "vXIeg_x44590"
      },
      "source": [
        "Main_data['Insulin'].replace(0,156, inplace =True)"
      ],
      "execution_count": 92,
      "outputs": []
    },
    {
      "cell_type": "markdown",
      "metadata": {
        "id": "ixUruJXFDSBU"
      },
      "source": [
        "**BloodPressure**"
      ]
    },
    {
      "cell_type": "code",
      "metadata": {
        "id": "wYGEDCxDDgiE"
      },
      "source": [
        "Main_data['BloodPressure'].replace(0,71, inplace =True)"
      ],
      "execution_count": 93,
      "outputs": []
    },
    {
      "cell_type": "markdown",
      "metadata": {
        "id": "p3-vejgPDuKo"
      },
      "source": [
        "**SkinThickness**"
      ]
    },
    {
      "cell_type": "code",
      "metadata": {
        "id": "ig-JFEf1D8g1"
      },
      "source": [
        "Main_data['SkinThickness'].replace(0,29, inplace =True)"
      ],
      "execution_count": 94,
      "outputs": []
    },
    {
      "cell_type": "code",
      "metadata": {
        "id": "vWOOvhVjtZDr"
      },
      "source": [
        "Main_test = Main_data[['Outcome']].copy()"
      ],
      "execution_count": 95,
      "outputs": []
    },
    {
      "cell_type": "code",
      "metadata": {
        "id": "tDgn9v82tg1F"
      },
      "source": [
        "Main_data.drop(['Outcome'] , axis = 1,inplace= True)"
      ],
      "execution_count": 96,
      "outputs": []
    },
    {
      "cell_type": "code",
      "metadata": {
        "id": "HCNJE9V2FvpW"
      },
      "source": [
        "Main_data['Age'].replace([ _ for _ in range(0,25)],'very young', inplace =True)\n",
        "Main_data['Age'].replace([ _ for _ in range(25,30)],'young', inplace =True)\n",
        "Main_data['Age'].replace([ _ for _ in range(30,45)],'middle', inplace =True)\n",
        "Main_data['Age'].replace([ _ for _ in range(45,60)],'old', inplace =True)\n",
        "Main_data['Age'].replace([ _ for _ in range(60,100)],'very old', inplace =True)"
      ],
      "execution_count": 97,
      "outputs": []
    },
    {
      "cell_type": "code",
      "metadata": {
        "id": "lLbd3CX-Hi89"
      },
      "source": [
        "Main_data['BloodPressure'].replace([ _ for _ in range(0,55)],'very low', inplace =True)\n",
        "Main_data['BloodPressure'].replace([ _ for _ in range(55,60)],'low', inplace =True)\n",
        "Main_data['BloodPressure'].replace([ _ for _ in range(60,75)],'medium', inplace =True)\n",
        "Main_data['BloodPressure'].replace([ _ for _ in range(75,85)],'high', inplace =True)\n",
        "Main_data['BloodPressure'].replace([ _ for _ in range(85,1000)],'very high', inplace =True)"
      ],
      "execution_count": 98,
      "outputs": []
    },
    {
      "cell_type": "code",
      "metadata": {
        "id": "qPSrBTAmMALP"
      },
      "source": [
        "Main_data['Glucose'].replace([ _ for _ in range(0,80)],'very low', inplace =True)\n",
        "Main_data['Glucose'].replace([ _ for _ in range(80,120)],'low', inplace =True)\n",
        "Main_data['Glucose'].replace([ _ for _ in range(120,123)],'medium', inplace =True)\n",
        "Main_data['Glucose'].replace([ _ for _ in range(123,130)],'high', inplace =True)\n",
        "Main_data['Glucose'].replace([ _ for _ in range(130,1000)],'very high', inplace =True)"
      ],
      "execution_count": 99,
      "outputs": []
    },
    {
      "cell_type": "code",
      "metadata": {
        "id": "xulTsabPT2cU"
      },
      "source": [
        "Main_data['Insulin'].replace([ _ for _ in range(0,80)],'very low', inplace =True)\n",
        "Main_data['Insulin'].replace([ _ for _ in range(80,150)],'low', inplace =True)\n",
        "Main_data['Insulin'].replace([ _ for _ in range(150,158)],'medium', inplace =True)\n",
        "Main_data['Insulin'].replace([ _ for _ in range(158,230)],'high', inplace =True)\n",
        "Main_data['Insulin'].replace([ _ for _ in range(230,1000)],'very high', inplace =True)"
      ],
      "execution_count": 100,
      "outputs": []
    },
    {
      "cell_type": "code",
      "metadata": {
        "id": "I41hGVXAVB4T"
      },
      "source": [
        "Main_data['Pregnancies'].replace([ _ for _ in range(0,1)],'very low', inplace =True)\n",
        "Main_data['Pregnancies'].replace([ _ for _ in range(1,2)],'low', inplace =True)\n",
        "Main_data['Pregnancies'].replace([ _ for _ in range(2,4)],'medium', inplace =True)\n",
        "Main_data['Pregnancies'].replace([ _ for _ in range(4,6)],'high', inplace =True)\n",
        "Main_data['Pregnancies'].replace([ _ for _ in range(6,1000)],'very high', inplace =True)"
      ],
      "execution_count": 101,
      "outputs": []
    },
    {
      "cell_type": "code",
      "metadata": {
        "id": "CmOSs1grVX7N"
      },
      "source": [
        "Main_data['SkinThickness'].replace([ _ for _ in range(0,10)],'very low', inplace =True)\n",
        "Main_data['SkinThickness'].replace([ _ for _ in range(10,28)],'low', inplace =True)\n",
        "Main_data['SkinThickness'].replace([ _ for _ in range(28,30)],'medium', inplace =True)\n",
        "Main_data['SkinThickness'].replace([ _ for _ in range(30,40)],'high', inplace =True)\n",
        "Main_data['SkinThickness'].replace([ _ for _ in range(40,1000)],'very high', inplace =True)"
      ],
      "execution_count": 102,
      "outputs": []
    },
    {
      "cell_type": "code",
      "metadata": {
        "id": "4t71XqRyRfON",
        "colab": {
          "base_uri": "https://localhost:8080/",
          "height": 138
        },
        "outputId": "2888bc41-6047-4be5-80a0-e3ff55a3c89d"
      },
      "source": [
        "Main_data.head(3)"
      ],
      "execution_count": 103,
      "outputs": [
        {
          "output_type": "execute_result",
          "data": {
            "text/html": [
              "<div>\n",
              "<style scoped>\n",
              "    .dataframe tbody tr th:only-of-type {\n",
              "        vertical-align: middle;\n",
              "    }\n",
              "\n",
              "    .dataframe tbody tr th {\n",
              "        vertical-align: top;\n",
              "    }\n",
              "\n",
              "    .dataframe thead th {\n",
              "        text-align: right;\n",
              "    }\n",
              "</style>\n",
              "<table border=\"1\" class=\"dataframe\">\n",
              "  <thead>\n",
              "    <tr style=\"text-align: right;\">\n",
              "      <th></th>\n",
              "      <th>Pregnancies</th>\n",
              "      <th>Glucose</th>\n",
              "      <th>BloodPressure</th>\n",
              "      <th>SkinThickness</th>\n",
              "      <th>Insulin</th>\n",
              "      <th>BMI</th>\n",
              "      <th>DiabetesPedigreeFunction</th>\n",
              "      <th>Age</th>\n",
              "    </tr>\n",
              "  </thead>\n",
              "  <tbody>\n",
              "    <tr>\n",
              "      <th>0</th>\n",
              "      <td>very high</td>\n",
              "      <td>very high</td>\n",
              "      <td>medium</td>\n",
              "      <td>high</td>\n",
              "      <td>medium</td>\n",
              "      <td>33.6</td>\n",
              "      <td>0.627</td>\n",
              "      <td>old</td>\n",
              "    </tr>\n",
              "    <tr>\n",
              "      <th>1</th>\n",
              "      <td>low</td>\n",
              "      <td>low</td>\n",
              "      <td>medium</td>\n",
              "      <td>medium</td>\n",
              "      <td>medium</td>\n",
              "      <td>26.6</td>\n",
              "      <td>0.351</td>\n",
              "      <td>middle</td>\n",
              "    </tr>\n",
              "    <tr>\n",
              "      <th>2</th>\n",
              "      <td>very high</td>\n",
              "      <td>very high</td>\n",
              "      <td>medium</td>\n",
              "      <td>medium</td>\n",
              "      <td>medium</td>\n",
              "      <td>23.3</td>\n",
              "      <td>0.672</td>\n",
              "      <td>middle</td>\n",
              "    </tr>\n",
              "  </tbody>\n",
              "</table>\n",
              "</div>"
            ],
            "text/plain": [
              "  Pregnancies    Glucose BloodPressure  ...   BMI DiabetesPedigreeFunction     Age\n",
              "0   very high  very high        medium  ...  33.6                    0.627     old\n",
              "1         low        low        medium  ...  26.6                    0.351  middle\n",
              "2   very high  very high        medium  ...  23.3                    0.672  middle\n",
              "\n",
              "[3 rows x 8 columns]"
            ]
          },
          "metadata": {
            "tags": []
          },
          "execution_count": 103
        }
      ]
    },
    {
      "cell_type": "markdown",
      "metadata": {
        "id": "o4PM7zfwabli"
      },
      "source": [
        "**Defining to Categorical Columns**"
      ]
    },
    {
      "cell_type": "code",
      "metadata": {
        "id": "C7BJG-YFWgtg"
      },
      "source": [
        "def labeler(data):\n",
        "  cat_col = []\n",
        "  bin_col = []\n",
        "  columns = data.columns.tolist()\n",
        "  for col in columns:\n",
        "    if (type(data[col].values[0]) == str )  and (np.unique(data[col].values).any != 2):\n",
        "      cat_col.append(col)\n",
        "    else:\n",
        "      bin_col.append(col)  \n",
        "  return cat_col , bin_col    "
      ],
      "execution_count": 104,
      "outputs": []
    },
    {
      "cell_type": "code",
      "metadata": {
        "id": "yZQfqJUvX6Y5"
      },
      "source": [
        "cat_col , bin_col   = labeler(Main_data)"
      ],
      "execution_count": 105,
      "outputs": []
    },
    {
      "cell_type": "markdown",
      "metadata": {
        "id": "ajSjoPGhaL6d"
      },
      "source": [
        "**One Hot Encoding**"
      ]
    },
    {
      "cell_type": "code",
      "metadata": {
        "id": "I09SgtlHZ_l2"
      },
      "source": [
        "Main_data = pd.get_dummies(Main_data , columns = cat_col)"
      ],
      "execution_count": 106,
      "outputs": []
    },
    {
      "cell_type": "code",
      "metadata": {
        "id": "57qpPTPaaQtH",
        "colab": {
          "base_uri": "https://localhost:8080/",
          "height": 175
        },
        "outputId": "81f62d61-c7d8-4c87-c8da-657285a92b48"
      },
      "source": [
        "Main_data.head(3)"
      ],
      "execution_count": 107,
      "outputs": [
        {
          "output_type": "execute_result",
          "data": {
            "text/html": [
              "<div>\n",
              "<style scoped>\n",
              "    .dataframe tbody tr th:only-of-type {\n",
              "        vertical-align: middle;\n",
              "    }\n",
              "\n",
              "    .dataframe tbody tr th {\n",
              "        vertical-align: top;\n",
              "    }\n",
              "\n",
              "    .dataframe thead th {\n",
              "        text-align: right;\n",
              "    }\n",
              "</style>\n",
              "<table border=\"1\" class=\"dataframe\">\n",
              "  <thead>\n",
              "    <tr style=\"text-align: right;\">\n",
              "      <th></th>\n",
              "      <th>BMI</th>\n",
              "      <th>DiabetesPedigreeFunction</th>\n",
              "      <th>Pregnancies_high</th>\n",
              "      <th>Pregnancies_low</th>\n",
              "      <th>Pregnancies_medium</th>\n",
              "      <th>Pregnancies_very high</th>\n",
              "      <th>Pregnancies_very low</th>\n",
              "      <th>Glucose_high</th>\n",
              "      <th>Glucose_low</th>\n",
              "      <th>Glucose_medium</th>\n",
              "      <th>Glucose_very high</th>\n",
              "      <th>Glucose_very low</th>\n",
              "      <th>BloodPressure_high</th>\n",
              "      <th>BloodPressure_low</th>\n",
              "      <th>BloodPressure_medium</th>\n",
              "      <th>BloodPressure_very high</th>\n",
              "      <th>BloodPressure_very low</th>\n",
              "      <th>SkinThickness_high</th>\n",
              "      <th>SkinThickness_low</th>\n",
              "      <th>SkinThickness_medium</th>\n",
              "      <th>SkinThickness_very high</th>\n",
              "      <th>SkinThickness_very low</th>\n",
              "      <th>Insulin_high</th>\n",
              "      <th>Insulin_low</th>\n",
              "      <th>Insulin_medium</th>\n",
              "      <th>Insulin_very high</th>\n",
              "      <th>Insulin_very low</th>\n",
              "      <th>Age_middle</th>\n",
              "      <th>Age_old</th>\n",
              "      <th>Age_very old</th>\n",
              "      <th>Age_very young</th>\n",
              "      <th>Age_young</th>\n",
              "    </tr>\n",
              "  </thead>\n",
              "  <tbody>\n",
              "    <tr>\n",
              "      <th>0</th>\n",
              "      <td>33.6</td>\n",
              "      <td>0.627</td>\n",
              "      <td>0</td>\n",
              "      <td>0</td>\n",
              "      <td>0</td>\n",
              "      <td>1</td>\n",
              "      <td>0</td>\n",
              "      <td>0</td>\n",
              "      <td>0</td>\n",
              "      <td>0</td>\n",
              "      <td>1</td>\n",
              "      <td>0</td>\n",
              "      <td>0</td>\n",
              "      <td>0</td>\n",
              "      <td>1</td>\n",
              "      <td>0</td>\n",
              "      <td>0</td>\n",
              "      <td>1</td>\n",
              "      <td>0</td>\n",
              "      <td>0</td>\n",
              "      <td>0</td>\n",
              "      <td>0</td>\n",
              "      <td>0</td>\n",
              "      <td>0</td>\n",
              "      <td>1</td>\n",
              "      <td>0</td>\n",
              "      <td>0</td>\n",
              "      <td>0</td>\n",
              "      <td>1</td>\n",
              "      <td>0</td>\n",
              "      <td>0</td>\n",
              "      <td>0</td>\n",
              "    </tr>\n",
              "    <tr>\n",
              "      <th>1</th>\n",
              "      <td>26.6</td>\n",
              "      <td>0.351</td>\n",
              "      <td>0</td>\n",
              "      <td>1</td>\n",
              "      <td>0</td>\n",
              "      <td>0</td>\n",
              "      <td>0</td>\n",
              "      <td>0</td>\n",
              "      <td>1</td>\n",
              "      <td>0</td>\n",
              "      <td>0</td>\n",
              "      <td>0</td>\n",
              "      <td>0</td>\n",
              "      <td>0</td>\n",
              "      <td>1</td>\n",
              "      <td>0</td>\n",
              "      <td>0</td>\n",
              "      <td>0</td>\n",
              "      <td>0</td>\n",
              "      <td>1</td>\n",
              "      <td>0</td>\n",
              "      <td>0</td>\n",
              "      <td>0</td>\n",
              "      <td>0</td>\n",
              "      <td>1</td>\n",
              "      <td>0</td>\n",
              "      <td>0</td>\n",
              "      <td>1</td>\n",
              "      <td>0</td>\n",
              "      <td>0</td>\n",
              "      <td>0</td>\n",
              "      <td>0</td>\n",
              "    </tr>\n",
              "    <tr>\n",
              "      <th>2</th>\n",
              "      <td>23.3</td>\n",
              "      <td>0.672</td>\n",
              "      <td>0</td>\n",
              "      <td>0</td>\n",
              "      <td>0</td>\n",
              "      <td>1</td>\n",
              "      <td>0</td>\n",
              "      <td>0</td>\n",
              "      <td>0</td>\n",
              "      <td>0</td>\n",
              "      <td>1</td>\n",
              "      <td>0</td>\n",
              "      <td>0</td>\n",
              "      <td>0</td>\n",
              "      <td>1</td>\n",
              "      <td>0</td>\n",
              "      <td>0</td>\n",
              "      <td>0</td>\n",
              "      <td>0</td>\n",
              "      <td>1</td>\n",
              "      <td>0</td>\n",
              "      <td>0</td>\n",
              "      <td>0</td>\n",
              "      <td>0</td>\n",
              "      <td>1</td>\n",
              "      <td>0</td>\n",
              "      <td>0</td>\n",
              "      <td>1</td>\n",
              "      <td>0</td>\n",
              "      <td>0</td>\n",
              "      <td>0</td>\n",
              "      <td>0</td>\n",
              "    </tr>\n",
              "  </tbody>\n",
              "</table>\n",
              "</div>"
            ],
            "text/plain": [
              "    BMI  DiabetesPedigreeFunction  ...  Age_very young  Age_young\n",
              "0  33.6                     0.627  ...               0          0\n",
              "1  26.6                     0.351  ...               0          0\n",
              "2  23.3                     0.672  ...               0          0\n",
              "\n",
              "[3 rows x 32 columns]"
            ]
          },
          "metadata": {
            "tags": []
          },
          "execution_count": 107
        }
      ]
    },
    {
      "cell_type": "markdown",
      "metadata": {
        "id": "ayV3HB83e1Fu"
      },
      "source": [
        "**Separating dataset**"
      ]
    },
    {
      "cell_type": "code",
      "metadata": {
        "id": "Lt8_NVoCe0e-"
      },
      "source": [
        "from sklearn.model_selection import train_test_split"
      ],
      "execution_count": 108,
      "outputs": []
    },
    {
      "cell_type": "code",
      "metadata": {
        "id": "E6F1kOsAq8nk"
      },
      "source": [
        "X_train, X_test, y_train, y_test = train_test_split( Main_data, Main_test , test_size=0.2, random_state=42)"
      ],
      "execution_count": 109,
      "outputs": []
    },
    {
      "cell_type": "code",
      "metadata": {
        "id": "cbYL6mmfKSKb",
        "colab": {
          "base_uri": "https://localhost:8080/",
          "height": 235
        },
        "outputId": "a557b2a5-ae62-4c8f-9288-f8e675b0bbc5"
      },
      "source": [
        "X_train.head()"
      ],
      "execution_count": 110,
      "outputs": [
        {
          "output_type": "execute_result",
          "data": {
            "text/html": [
              "<div>\n",
              "<style scoped>\n",
              "    .dataframe tbody tr th:only-of-type {\n",
              "        vertical-align: middle;\n",
              "    }\n",
              "\n",
              "    .dataframe tbody tr th {\n",
              "        vertical-align: top;\n",
              "    }\n",
              "\n",
              "    .dataframe thead th {\n",
              "        text-align: right;\n",
              "    }\n",
              "</style>\n",
              "<table border=\"1\" class=\"dataframe\">\n",
              "  <thead>\n",
              "    <tr style=\"text-align: right;\">\n",
              "      <th></th>\n",
              "      <th>BMI</th>\n",
              "      <th>DiabetesPedigreeFunction</th>\n",
              "      <th>Pregnancies_high</th>\n",
              "      <th>Pregnancies_low</th>\n",
              "      <th>Pregnancies_medium</th>\n",
              "      <th>Pregnancies_very high</th>\n",
              "      <th>Pregnancies_very low</th>\n",
              "      <th>Glucose_high</th>\n",
              "      <th>Glucose_low</th>\n",
              "      <th>Glucose_medium</th>\n",
              "      <th>Glucose_very high</th>\n",
              "      <th>Glucose_very low</th>\n",
              "      <th>BloodPressure_high</th>\n",
              "      <th>BloodPressure_low</th>\n",
              "      <th>BloodPressure_medium</th>\n",
              "      <th>BloodPressure_very high</th>\n",
              "      <th>BloodPressure_very low</th>\n",
              "      <th>SkinThickness_high</th>\n",
              "      <th>SkinThickness_low</th>\n",
              "      <th>SkinThickness_medium</th>\n",
              "      <th>SkinThickness_very high</th>\n",
              "      <th>SkinThickness_very low</th>\n",
              "      <th>Insulin_high</th>\n",
              "      <th>Insulin_low</th>\n",
              "      <th>Insulin_medium</th>\n",
              "      <th>Insulin_very high</th>\n",
              "      <th>Insulin_very low</th>\n",
              "      <th>Age_middle</th>\n",
              "      <th>Age_old</th>\n",
              "      <th>Age_very old</th>\n",
              "      <th>Age_very young</th>\n",
              "      <th>Age_young</th>\n",
              "    </tr>\n",
              "  </thead>\n",
              "  <tbody>\n",
              "    <tr>\n",
              "      <th>60</th>\n",
              "      <td>33.08</td>\n",
              "      <td>0.304</td>\n",
              "      <td>0</td>\n",
              "      <td>0</td>\n",
              "      <td>1</td>\n",
              "      <td>0</td>\n",
              "      <td>0</td>\n",
              "      <td>0</td>\n",
              "      <td>1</td>\n",
              "      <td>0</td>\n",
              "      <td>0</td>\n",
              "      <td>0</td>\n",
              "      <td>0</td>\n",
              "      <td>0</td>\n",
              "      <td>1</td>\n",
              "      <td>0</td>\n",
              "      <td>0</td>\n",
              "      <td>0</td>\n",
              "      <td>0</td>\n",
              "      <td>1</td>\n",
              "      <td>0</td>\n",
              "      <td>0</td>\n",
              "      <td>0</td>\n",
              "      <td>0</td>\n",
              "      <td>1</td>\n",
              "      <td>0</td>\n",
              "      <td>0</td>\n",
              "      <td>0</td>\n",
              "      <td>0</td>\n",
              "      <td>0</td>\n",
              "      <td>1</td>\n",
              "      <td>0</td>\n",
              "    </tr>\n",
              "    <tr>\n",
              "      <th>618</th>\n",
              "      <td>28.20</td>\n",
              "      <td>1.282</td>\n",
              "      <td>0</td>\n",
              "      <td>0</td>\n",
              "      <td>0</td>\n",
              "      <td>1</td>\n",
              "      <td>0</td>\n",
              "      <td>0</td>\n",
              "      <td>1</td>\n",
              "      <td>0</td>\n",
              "      <td>0</td>\n",
              "      <td>0</td>\n",
              "      <td>1</td>\n",
              "      <td>0</td>\n",
              "      <td>0</td>\n",
              "      <td>0</td>\n",
              "      <td>0</td>\n",
              "      <td>0</td>\n",
              "      <td>1</td>\n",
              "      <td>0</td>\n",
              "      <td>0</td>\n",
              "      <td>0</td>\n",
              "      <td>0</td>\n",
              "      <td>0</td>\n",
              "      <td>1</td>\n",
              "      <td>0</td>\n",
              "      <td>0</td>\n",
              "      <td>0</td>\n",
              "      <td>1</td>\n",
              "      <td>0</td>\n",
              "      <td>0</td>\n",
              "      <td>0</td>\n",
              "    </tr>\n",
              "    <tr>\n",
              "      <th>346</th>\n",
              "      <td>28.70</td>\n",
              "      <td>0.654</td>\n",
              "      <td>0</td>\n",
              "      <td>1</td>\n",
              "      <td>0</td>\n",
              "      <td>0</td>\n",
              "      <td>0</td>\n",
              "      <td>0</td>\n",
              "      <td>0</td>\n",
              "      <td>0</td>\n",
              "      <td>1</td>\n",
              "      <td>0</td>\n",
              "      <td>0</td>\n",
              "      <td>0</td>\n",
              "      <td>0</td>\n",
              "      <td>0</td>\n",
              "      <td>1</td>\n",
              "      <td>0</td>\n",
              "      <td>1</td>\n",
              "      <td>0</td>\n",
              "      <td>0</td>\n",
              "      <td>0</td>\n",
              "      <td>0</td>\n",
              "      <td>1</td>\n",
              "      <td>0</td>\n",
              "      <td>0</td>\n",
              "      <td>0</td>\n",
              "      <td>0</td>\n",
              "      <td>0</td>\n",
              "      <td>0</td>\n",
              "      <td>1</td>\n",
              "      <td>0</td>\n",
              "    </tr>\n",
              "    <tr>\n",
              "      <th>294</th>\n",
              "      <td>21.90</td>\n",
              "      <td>0.254</td>\n",
              "      <td>0</td>\n",
              "      <td>0</td>\n",
              "      <td>0</td>\n",
              "      <td>0</td>\n",
              "      <td>1</td>\n",
              "      <td>0</td>\n",
              "      <td>0</td>\n",
              "      <td>0</td>\n",
              "      <td>1</td>\n",
              "      <td>0</td>\n",
              "      <td>0</td>\n",
              "      <td>0</td>\n",
              "      <td>0</td>\n",
              "      <td>0</td>\n",
              "      <td>1</td>\n",
              "      <td>0</td>\n",
              "      <td>0</td>\n",
              "      <td>1</td>\n",
              "      <td>0</td>\n",
              "      <td>0</td>\n",
              "      <td>0</td>\n",
              "      <td>0</td>\n",
              "      <td>1</td>\n",
              "      <td>0</td>\n",
              "      <td>0</td>\n",
              "      <td>0</td>\n",
              "      <td>0</td>\n",
              "      <td>1</td>\n",
              "      <td>0</td>\n",
              "      <td>0</td>\n",
              "    </tr>\n",
              "    <tr>\n",
              "      <th>231</th>\n",
              "      <td>46.20</td>\n",
              "      <td>0.238</td>\n",
              "      <td>0</td>\n",
              "      <td>0</td>\n",
              "      <td>0</td>\n",
              "      <td>1</td>\n",
              "      <td>0</td>\n",
              "      <td>0</td>\n",
              "      <td>0</td>\n",
              "      <td>0</td>\n",
              "      <td>1</td>\n",
              "      <td>0</td>\n",
              "      <td>1</td>\n",
              "      <td>0</td>\n",
              "      <td>0</td>\n",
              "      <td>0</td>\n",
              "      <td>0</td>\n",
              "      <td>1</td>\n",
              "      <td>0</td>\n",
              "      <td>0</td>\n",
              "      <td>0</td>\n",
              "      <td>0</td>\n",
              "      <td>0</td>\n",
              "      <td>0</td>\n",
              "      <td>0</td>\n",
              "      <td>1</td>\n",
              "      <td>0</td>\n",
              "      <td>0</td>\n",
              "      <td>1</td>\n",
              "      <td>0</td>\n",
              "      <td>0</td>\n",
              "      <td>0</td>\n",
              "    </tr>\n",
              "  </tbody>\n",
              "</table>\n",
              "</div>"
            ],
            "text/plain": [
              "       BMI  DiabetesPedigreeFunction  ...  Age_very young  Age_young\n",
              "60   33.08                     0.304  ...               1          0\n",
              "618  28.20                     1.282  ...               0          0\n",
              "346  28.70                     0.654  ...               1          0\n",
              "294  21.90                     0.254  ...               0          0\n",
              "231  46.20                     0.238  ...               0          0\n",
              "\n",
              "[5 rows x 32 columns]"
            ]
          },
          "metadata": {
            "tags": []
          },
          "execution_count": 110
        }
      ]
    },
    {
      "cell_type": "markdown",
      "metadata": {
        "id": "k2fwicfWeW64"
      },
      "source": [
        "# **Defining Models**"
      ]
    },
    {
      "cell_type": "markdown",
      "metadata": {
        "id": "yr56oMRVji85"
      },
      "source": [
        "We are going to define different types of models and train them. After the training, we are going to compare  accuracy score of each of these models"
      ]
    },
    {
      "cell_type": "code",
      "metadata": {
        "id": "CXe9XCIXevOI"
      },
      "source": [
        "from sklearn.ensemble import RandomForestClassifier\n",
        "import lightgbm as lgb\n",
        "from xgboost import XGBClassifier\n",
        "from sklearn.svm import SVC\n",
        "from sklearn.metrics import accuracy_score\n",
        "from sklearn.linear_model import LinearRegression\n",
        "predictinons_scores = dict()"
      ],
      "execution_count": 111,
      "outputs": []
    },
    {
      "cell_type": "markdown",
      "metadata": {
        "id": "mqL9GbxXlH3B"
      },
      "source": [
        "**Training**\n",
        "\n",
        "---\n",
        "\n"
      ]
    },
    {
      "cell_type": "markdown",
      "metadata": {
        "id": "Q0oOU1JC2Lux"
      },
      "source": [
        "**Random Forest Classifier**"
      ]
    },
    {
      "cell_type": "code",
      "metadata": {
        "id": "wM3n6qtj1oTm",
        "colab": {
          "base_uri": "https://localhost:8080/"
        },
        "outputId": "c00aa455-3444-4203-88f7-b86791249feb"
      },
      "source": [
        "classifier = RandomForestClassifier()\n",
        "classifier.fit(X_train,y_train)\n",
        "RFC_pred = classifier.predict(X_test)\n",
        "RFC_score = accuracy_score(y_test,RFC_pred,normalize= True)\n",
        "predictinons_scores['RFC_score'] = RFC_score"
      ],
      "execution_count": 112,
      "outputs": [
        {
          "output_type": "stream",
          "text": [
            "/usr/local/lib/python3.6/dist-packages/ipykernel_launcher.py:2: DataConversionWarning: A column-vector y was passed when a 1d array was expected. Please change the shape of y to (n_samples,), for example using ravel().\n",
            "  \n"
          ],
          "name": "stderr"
        }
      ]
    },
    {
      "cell_type": "markdown",
      "metadata": {
        "id": "Ay-Z9wLT_gL6"
      },
      "source": [
        "**XGBOOST**"
      ]
    },
    {
      "cell_type": "code",
      "metadata": {
        "id": "1tci0Vvp9YEn",
        "colab": {
          "base_uri": "https://localhost:8080/"
        },
        "outputId": "d187ba2b-3ffe-401b-ce31-a9151816bafd"
      },
      "source": [
        "classifier = XGBClassifier()\n",
        "classifier.fit(X_train,y_train)\n",
        "XG_pred = classifier.predict(X_test)\n",
        "XG_score = accuracy_score(y_test,XG_pred,normalize=True)\n",
        "predictinons_scores['XG_score'] = XG_score"
      ],
      "execution_count": 113,
      "outputs": [
        {
          "output_type": "stream",
          "text": [
            "/usr/local/lib/python3.6/dist-packages/sklearn/preprocessing/_label.py:235: DataConversionWarning: A column-vector y was passed when a 1d array was expected. Please change the shape of y to (n_samples, ), for example using ravel().\n",
            "  y = column_or_1d(y, warn=True)\n",
            "/usr/local/lib/python3.6/dist-packages/sklearn/preprocessing/_label.py:268: DataConversionWarning: A column-vector y was passed when a 1d array was expected. Please change the shape of y to (n_samples, ), for example using ravel().\n",
            "  y = column_or_1d(y, warn=True)\n"
          ],
          "name": "stderr"
        }
      ]
    },
    {
      "cell_type": "markdown",
      "metadata": {
        "id": "sOCBPjzYA_Uj"
      },
      "source": [
        "standardization"
      ]
    },
    {
      "cell_type": "code",
      "metadata": {
        "id": "VZq-3i9x-kML"
      },
      "source": [
        "sc = StandardScaler()\n",
        "X_train = sc.fit_transform(X_train)\n",
        "X_test = sc.fit_transform(X_test)"
      ],
      "execution_count": 114,
      "outputs": []
    },
    {
      "cell_type": "markdown",
      "metadata": {
        "id": "7uzfdzoJBQ07"
      },
      "source": [
        "**Support Vector Machine Classifier**"
      ]
    },
    {
      "cell_type": "code",
      "metadata": {
        "id": "ehQM7esfBQVi",
        "colab": {
          "base_uri": "https://localhost:8080/"
        },
        "outputId": "b1c44ac2-1ac1-4bee-e8a9-cb5ace169214"
      },
      "source": [
        "classifier = SVC()\n",
        "classifier.fit(X_train,y_train)\n",
        "SVC_pred = classifier.predict(X_test)\n",
        "SVC_score = accuracy_score(y_test,SVC_pred,normalize=True)\n",
        "predictinons_scores['SVC_score '] = SVC_score "
      ],
      "execution_count": 115,
      "outputs": [
        {
          "output_type": "stream",
          "text": [
            "/usr/local/lib/python3.6/dist-packages/sklearn/utils/validation.py:760: DataConversionWarning: A column-vector y was passed when a 1d array was expected. Please change the shape of y to (n_samples, ), for example using ravel().\n",
            "  y = column_or_1d(y, warn=True)\n"
          ],
          "name": "stderr"
        }
      ]
    },
    {
      "cell_type": "markdown",
      "metadata": {
        "id": "NCwAeZ5qBydq"
      },
      "source": [
        "**LightGBM**"
      ]
    },
    {
      "cell_type": "code",
      "metadata": {
        "id": "iqf_IH8BBx9E",
        "colab": {
          "base_uri": "https://localhost:8080/"
        },
        "outputId": "232965dc-9e20-48d4-bfe9-9bc5c7bcf746"
      },
      "source": [
        "classifier = lgb.LGBMClassifier()\n",
        "classifier.fit(X_train,y_train)\n",
        "lgb_pred = classifier.predict(X_test)\n",
        "lgb_score = accuracy_score(y_test,lgb_pred,normalize=True)\n",
        "predictinons_scores['lgb_score'] = lgb_score"
      ],
      "execution_count": 116,
      "outputs": [
        {
          "output_type": "stream",
          "text": [
            "/usr/local/lib/python3.6/dist-packages/sklearn/preprocessing/_label.py:235: DataConversionWarning: A column-vector y was passed when a 1d array was expected. Please change the shape of y to (n_samples, ), for example using ravel().\n",
            "  y = column_or_1d(y, warn=True)\n",
            "/usr/local/lib/python3.6/dist-packages/sklearn/preprocessing/_label.py:268: DataConversionWarning: A column-vector y was passed when a 1d array was expected. Please change the shape of y to (n_samples, ), for example using ravel().\n",
            "  y = column_or_1d(y, warn=True)\n"
          ],
          "name": "stderr"
        }
      ]
    },
    {
      "cell_type": "markdown",
      "metadata": {
        "id": "_MCeaCCKe_sg"
      },
      "source": [
        "**Neural Network**"
      ]
    },
    {
      "cell_type": "code",
      "metadata": {
        "id": "J9_wuWkJZbWG",
        "colab": {
          "base_uri": "https://localhost:8080/"
        },
        "outputId": "eb2d8829-8e9a-4a22-928e-815fba309178"
      },
      "source": [
        "model = tf.keras.models.Sequential([\n",
        "        tf.keras.layers.Flatten(), \n",
        "        tf.keras.layers.Dense(512, activation='relu'),\n",
        "        tf.keras.layers.Dense(1, activation='sigmoid')  \n",
        "    ])\n",
        "model.compile(optimizer='adam',\n",
        "              loss='binary_crossentropy',metrics=['accuracy' ]\n",
        "              )\n",
        "model.fit( X_train , y_train, epochs=8 )\n",
        "TF_pred = model.predict_classes(X_test)\n",
        "TF_score = accuracy_score(y_test,TF_pred,normalize=True)\n",
        "predictinons_scores['Neural-Network_score'] = TF_score"
      ],
      "execution_count": 117,
      "outputs": [
        {
          "output_type": "stream",
          "text": [
            "Epoch 1/8\n",
            "20/20 [==============================] - 0s 1ms/step - loss: 0.6260 - accuracy: 0.6375\n",
            "Epoch 2/8\n",
            "20/20 [==============================] - 0s 1ms/step - loss: 0.4593 - accuracy: 0.7869\n",
            "Epoch 3/8\n",
            "20/20 [==============================] - 0s 1ms/step - loss: 0.4421 - accuracy: 0.7748\n",
            "Epoch 4/8\n",
            "20/20 [==============================] - 0s 1ms/step - loss: 0.4242 - accuracy: 0.8040\n",
            "Epoch 5/8\n",
            "20/20 [==============================] - 0s 1ms/step - loss: 0.3997 - accuracy: 0.8022\n",
            "Epoch 6/8\n",
            "20/20 [==============================] - 0s 1ms/step - loss: 0.3819 - accuracy: 0.8116\n",
            "Epoch 7/8\n",
            "20/20 [==============================] - 0s 2ms/step - loss: 0.3505 - accuracy: 0.8605\n",
            "Epoch 8/8\n",
            "20/20 [==============================] - 0s 1ms/step - loss: 0.3807 - accuracy: 0.8179\n"
          ],
          "name": "stdout"
        },
        {
          "output_type": "stream",
          "text": [
            "/usr/local/lib/python3.6/dist-packages/tensorflow/python/keras/engine/sequential.py:450: UserWarning: `model.predict_classes()` is deprecated and will be removed after 2021-01-01. Please use instead:* `np.argmax(model.predict(x), axis=-1)`,   if your model does multi-class classification   (e.g. if it uses a `softmax` last-layer activation).* `(model.predict(x) > 0.5).astype(\"int32\")`,   if your model does binary classification   (e.g. if it uses a `sigmoid` last-layer activation).\n",
            "  warnings.warn('`model.predict_classes()` is deprecated and '\n"
          ],
          "name": "stderr"
        }
      ]
    },
    {
      "cell_type": "code",
      "metadata": {
        "id": "O9gO8h4pVob2"
      },
      "source": [
        "df_score = pd.DataFrame( data = predictinons_scores ,index=[0])"
      ],
      "execution_count": 118,
      "outputs": []
    },
    {
      "cell_type": "code",
      "metadata": {
        "id": "WyKomgm_3xZR",
        "colab": {
          "base_uri": "https://localhost:8080/",
          "height": 78
        },
        "outputId": "fe061cd8-128c-4064-bb3d-5c40dd168fe9"
      },
      "source": [
        "df_score"
      ],
      "execution_count": 119,
      "outputs": [
        {
          "output_type": "execute_result",
          "data": {
            "text/html": [
              "<div>\n",
              "<style scoped>\n",
              "    .dataframe tbody tr th:only-of-type {\n",
              "        vertical-align: middle;\n",
              "    }\n",
              "\n",
              "    .dataframe tbody tr th {\n",
              "        vertical-align: top;\n",
              "    }\n",
              "\n",
              "    .dataframe thead th {\n",
              "        text-align: right;\n",
              "    }\n",
              "</style>\n",
              "<table border=\"1\" class=\"dataframe\">\n",
              "  <thead>\n",
              "    <tr style=\"text-align: right;\">\n",
              "      <th></th>\n",
              "      <th>RFC_score</th>\n",
              "      <th>XG_score</th>\n",
              "      <th>SVC_score</th>\n",
              "      <th>lgb_score</th>\n",
              "      <th>Neural-Network_score</th>\n",
              "    </tr>\n",
              "  </thead>\n",
              "  <tbody>\n",
              "    <tr>\n",
              "      <th>0</th>\n",
              "      <td>0.779221</td>\n",
              "      <td>0.792208</td>\n",
              "      <td>0.798701</td>\n",
              "      <td>0.733766</td>\n",
              "      <td>0.766234</td>\n",
              "    </tr>\n",
              "  </tbody>\n",
              "</table>\n",
              "</div>"
            ],
            "text/plain": [
              "   RFC_score  XG_score  SVC_score   lgb_score  Neural-Network_score\n",
              "0   0.779221  0.792208    0.798701   0.733766              0.766234"
            ]
          },
          "metadata": {
            "tags": []
          },
          "execution_count": 119
        }
      ]
    },
    {
      "cell_type": "code",
      "metadata": {
        "id": "KMjPwTuJznq9",
        "colab": {
          "base_uri": "https://localhost:8080/",
          "height": 393
        },
        "outputId": "f9a447e0-3be4-4047-b461-6b069c8d0b96"
      },
      "source": [
        "plt.subplots(figsize=(12,6))\n",
        "\n",
        "sns.barplot(data = df_score  ,   order= ['RFC_score', 'XG_score', 'SVC_score ', 'lgb_score' , 'Neural-Network_score'] )\n",
        "plt.title(\"Models Acc Scores\" ,fontsize=15 )\n",
        "\n",
        "plt.show()"
      ],
      "execution_count": 120,
      "outputs": [
        {
          "output_type": "display_data",
          "data": {
            "image/png": "[encoded data removed]",
            "text/plain": [
              "<Figure size 864x432 with 1 Axes>"
            ]
          },
          "metadata": {
            "tags": [],
            "needs_background": "light"
          }
        }
      ]
    },
    {
      "cell_type": "code",
      "metadata": {
        "id": "H-vg9CL8bvAh"
      },
      "source": [
        "df_score = pd.DataFrame(df_score.iloc[0].values  , columns=['FE_score'])"
      ],
      "execution_count": 121,
      "outputs": []
    },
    {
      "cell_type": "markdown",
      "metadata": {
        "id": "ojtl-ipIBGm0"
      },
      "source": [
        "**All models showed good accuracy, but what would be accuracy rates of the models if we didn't use feature engineering?**"
      ]
    },
    {
      "cell_type": "code",
      "metadata": {
        "id": "vc-B8LfQIKif"
      },
      "source": [
        "Ex_data = pd.read_csv( 'drive/My Drive/kaggle/diabetes/diabetes.csv')"
      ],
      "execution_count": 122,
      "outputs": []
    },
    {
      "cell_type": "code",
      "metadata": {
        "id": "w0rVdeT0IMoP"
      },
      "source": [
        "X_train1, X_test1, y_train1, y_test1 = train_test_split( Ex_data.iloc[:,:-1], Ex_data[[\"Outcome\"]] , test_size=0.2, random_state=42)\n",
        "Non_FE_predictinons_scores = dict()"
      ],
      "execution_count": 123,
      "outputs": []
    },
    {
      "cell_type": "markdown",
      "metadata": {
        "id": "lQHRR30IlQM5"
      },
      "source": [
        "**Training (Non Fe)**\n",
        "\n",
        "---\n",
        "\n"
      ]
    },
    {
      "cell_type": "markdown",
      "metadata": {
        "id": "PhbhBOoseNvd"
      },
      "source": [
        "**Random Forest Classifier (Non FE)**"
      ]
    },
    {
      "cell_type": "code",
      "metadata": {
        "id": "49ArlvIVIhBi",
        "colab": {
          "base_uri": "https://localhost:8080/"
        },
        "outputId": "5ea6c6c4-d6f5-4343-87a2-2a0702a598a6"
      },
      "source": [
        "Non_FE_classifier = RandomForestClassifier()\n",
        "Non_FE_classifier.fit(X_train1,y_train1)\n",
        "Non_FE_RFC_pred = Non_FE_classifier.predict(X_test1)\n",
        "Non_FE_RFC_score = accuracy_score(y_test1,Non_FE_RFC_pred,normalize=True)\n",
        "Non_FE_predictinons_scores['Non_FE_RFC'] = Non_FE_RFC_score"
      ],
      "execution_count": 124,
      "outputs": [
        {
          "output_type": "stream",
          "text": [
            "/usr/local/lib/python3.6/dist-packages/ipykernel_launcher.py:2: DataConversionWarning: A column-vector y was passed when a 1d array was expected. Please change the shape of y to (n_samples,), for example using ravel().\n",
            "  \n"
          ],
          "name": "stderr"
        }
      ]
    },
    {
      "cell_type": "markdown",
      "metadata": {
        "id": "m8Xe1CipeWw4"
      },
      "source": [
        "**XGBOOST (Non FE)**"
      ]
    },
    {
      "cell_type": "code",
      "metadata": {
        "id": "qy2bX5qSAKl-",
        "colab": {
          "base_uri": "https://localhost:8080/"
        },
        "outputId": "92decfef-bcb6-4c19-c0c7-2bd258f59bc6"
      },
      "source": [
        "Non_FE_classifier = XGBClassifier()\n",
        "Non_FE_classifier.fit(X_train1,y_train1)\n",
        "Non_FE_XG_pred = Non_FE_classifier.predict(X_test1)\n",
        "Non_FE_XG_score = accuracy_score(y_test1,Non_FE_XG_pred,normalize=True)\n",
        "Non_FE_predictinons_scores['Non_FE_XG'] = Non_FE_XG_score "
      ],
      "execution_count": 125,
      "outputs": [
        {
          "output_type": "stream",
          "text": [
            "/usr/local/lib/python3.6/dist-packages/sklearn/preprocessing/_label.py:235: DataConversionWarning: A column-vector y was passed when a 1d array was expected. Please change the shape of y to (n_samples, ), for example using ravel().\n",
            "  y = column_or_1d(y, warn=True)\n",
            "/usr/local/lib/python3.6/dist-packages/sklearn/preprocessing/_label.py:268: DataConversionWarning: A column-vector y was passed when a 1d array was expected. Please change the shape of y to (n_samples, ), for example using ravel().\n",
            "  y = column_or_1d(y, warn=True)\n"
          ],
          "name": "stderr"
        }
      ]
    },
    {
      "cell_type": "markdown",
      "metadata": {
        "id": "UwlPwgAsfIM5"
      },
      "source": [
        "standardization"
      ]
    },
    {
      "cell_type": "code",
      "metadata": {
        "id": "0ix3x1P4jKFa"
      },
      "source": [
        "sc = StandardScaler()\n",
        "X_train1 = sc.fit_transform(X_train1)\n",
        "X_test1 = sc.fit_transform(X_test1)"
      ],
      "execution_count": 126,
      "outputs": []
    },
    {
      "cell_type": "markdown",
      "metadata": {
        "id": "U6SrjItLeZxk"
      },
      "source": [
        "**Support Vector Machine Classifier (Non FE)**"
      ]
    },
    {
      "cell_type": "code",
      "metadata": {
        "id": "HrV9pJ6wjN_T",
        "colab": {
          "base_uri": "https://localhost:8080/"
        },
        "outputId": "a0130368-632f-4f11-bdec-e99275c2e0dd"
      },
      "source": [
        "Non_FE_classifier = SVC()\n",
        "Non_FE_classifier.fit(X_train1,y_train1)\n",
        "Non_FE_SVC_pred = Non_FE_classifier.predict(X_test1)\n",
        "Non_FE_SVC_score = accuracy_score(y_test1,Non_FE_SVC_pred,normalize=True)\n",
        "Non_FE_predictinons_scores['Non_FE_SVC'] = Non_FE_SVC_score "
      ],
      "execution_count": 127,
      "outputs": [
        {
          "output_type": "stream",
          "text": [
            "/usr/local/lib/python3.6/dist-packages/sklearn/utils/validation.py:760: DataConversionWarning: A column-vector y was passed when a 1d array was expected. Please change the shape of y to (n_samples, ), for example using ravel().\n",
            "  y = column_or_1d(y, warn=True)\n"
          ],
          "name": "stderr"
        }
      ]
    },
    {
      "cell_type": "markdown",
      "metadata": {
        "id": "r4e-_jwGesoX"
      },
      "source": [
        "**LightGBM (Non FE)**"
      ]
    },
    {
      "cell_type": "code",
      "metadata": {
        "id": "FBzxPQGdrjS3",
        "colab": {
          "base_uri": "https://localhost:8080/"
        },
        "outputId": "1447b7d4-21bc-409f-fa3d-a4316f77951c"
      },
      "source": [
        "Non_FE_classifier = lgb.LGBMClassifier()\n",
        "Non_FE_classifier.fit(X_train1,y_train1)\n",
        "Non_FE_lgb_pred = Non_FE_classifier.predict(X_test1)\n",
        "Non_FE_lgb_score = accuracy_score(y_test1,Non_FE_lgb_pred,normalize=True)\n",
        "Non_FE_predictinons_scores['Non_FE_lgb'] = Non_FE_lgb_score"
      ],
      "execution_count": 128,
      "outputs": [
        {
          "output_type": "stream",
          "text": [
            "/usr/local/lib/python3.6/dist-packages/sklearn/preprocessing/_label.py:235: DataConversionWarning: A column-vector y was passed when a 1d array was expected. Please change the shape of y to (n_samples, ), for example using ravel().\n",
            "  y = column_or_1d(y, warn=True)\n",
            "/usr/local/lib/python3.6/dist-packages/sklearn/preprocessing/_label.py:268: DataConversionWarning: A column-vector y was passed when a 1d array was expected. Please change the shape of y to (n_samples, ), for example using ravel().\n",
            "  y = column_or_1d(y, warn=True)\n"
          ],
          "name": "stderr"
        }
      ]
    },
    {
      "cell_type": "markdown",
      "metadata": {
        "id": "aknnwAjFe19l"
      },
      "source": [
        "**Neural Network (Non FE)**"
      ]
    },
    {
      "cell_type": "code",
      "metadata": {
        "id": "ql9FXHz-d_0G",
        "colab": {
          "base_uri": "https://localhost:8080/"
        },
        "outputId": "5e6d297b-0545-4c5e-9842-e38c2517f60e"
      },
      "source": [
        "model = tf.keras.models.Sequential([\n",
        "        tf.keras.layers.Flatten(), \n",
        "        tf.keras.layers.Dense(512, activation='relu'),\n",
        "        tf.keras.layers.Dense(1, activation='sigmoid')  \n",
        "    ])\n",
        "model.compile(optimizer='adam',\n",
        "              loss='binary_crossentropy',metrics=['accuracy' ]\n",
        "              )\n",
        "model.fit( X_train1 , y_train1, epochs=8 )\n",
        "Non_Fe_TF_pred = model.predict_classes(X_test1)\n",
        "Non_Fe_TF_score = accuracy_score(y_test1,Non_Fe_TF_pred,normalize=True)\n",
        "Non_FE_predictinons_scores['Non_Fe_TF_score'] = Non_Fe_TF_score"
      ],
      "execution_count": 129,
      "outputs": [
        {
          "output_type": "stream",
          "text": [
            "Epoch 1/8\n",
            "20/20 [==============================] - 0s 1ms/step - loss: 0.6408 - accuracy: 0.6596\n",
            "Epoch 2/8\n",
            "20/20 [==============================] - 0s 1ms/step - loss: 0.5187 - accuracy: 0.7525\n",
            "Epoch 3/8\n",
            "20/20 [==============================] - 0s 1ms/step - loss: 0.4630 - accuracy: 0.7826\n",
            "Epoch 4/8\n",
            "20/20 [==============================] - 0s 1ms/step - loss: 0.4824 - accuracy: 0.7574\n",
            "Epoch 5/8\n",
            "20/20 [==============================] - 0s 1ms/step - loss: 0.4449 - accuracy: 0.7844\n",
            "Epoch 6/8\n",
            "20/20 [==============================] - 0s 1ms/step - loss: 0.4206 - accuracy: 0.7860\n",
            "Epoch 7/8\n",
            "20/20 [==============================] - 0s 1ms/step - loss: 0.4288 - accuracy: 0.7857\n",
            "Epoch 8/8\n",
            "20/20 [==============================] - 0s 1ms/step - loss: 0.4012 - accuracy: 0.8048\n"
          ],
          "name": "stdout"
        },
        {
          "output_type": "stream",
          "text": [
            "/usr/local/lib/python3.6/dist-packages/tensorflow/python/keras/engine/sequential.py:450: UserWarning: `model.predict_classes()` is deprecated and will be removed after 2021-01-01. Please use instead:* `np.argmax(model.predict(x), axis=-1)`,   if your model does multi-class classification   (e.g. if it uses a `softmax` last-layer activation).* `(model.predict(x) > 0.5).astype(\"int32\")`,   if your model does binary classification   (e.g. if it uses a `sigmoid` last-layer activation).\n",
            "  warnings.warn('`model.predict_classes()` is deprecated and '\n"
          ],
          "name": "stderr"
        }
      ]
    },
    {
      "cell_type": "code",
      "metadata": {
        "id": "mLwSGp5yr8VY"
      },
      "source": [
        "df_Non_FE_score = pd.DataFrame( data = Non_FE_predictinons_scores ,index=[0])"
      ],
      "execution_count": 130,
      "outputs": []
    },
    {
      "cell_type": "code",
      "metadata": {
        "id": "EV6Xg5vOyvWQ",
        "colab": {
          "base_uri": "https://localhost:8080/",
          "height": 393
        },
        "outputId": "f2434765-6915-4838-f7dd-40431ff6c3fa"
      },
      "source": [
        "plt.subplots(figsize=(12,6))\n",
        "\n",
        "sns.barplot(data = df_Non_FE_score  ,   order= ['Non_FE_RFC'\t,'Non_FE_XG',\t'Non_FE_SVC',\t'Non_FE_lgb' , 'Non_Fe_TF_score'] )\n",
        "plt.title(\"Models Acc Scores (Non FE)\" ,fontsize=15 )\n",
        "\n",
        "plt.show()"
      ],
      "execution_count": 131,
      "outputs": [
        {
          "output_type": "display_data",
          "data": {
            "image/png": "[encoded data removed]",
            "text/plain": [
              "<Figure size 864x432 with 1 Axes>"
            ]
          },
          "metadata": {
            "tags": [],
            "needs_background": "light"
          }
        }
      ]
    },
    {
      "cell_type": "code",
      "metadata": {
        "id": "eX5PEPUyzCkp"
      },
      "source": [
        "df_Non_FE_score  = pd.DataFrame(df_Non_FE_score.iloc[0].values  , columns=['Non_FE_score'])"
      ],
      "execution_count": 132,
      "outputs": []
    },
    {
      "cell_type": "code",
      "metadata": {
        "id": "ljpEPaqJ3eL6"
      },
      "source": [
        "df_total_scores = pd.concat( [ df_score, df_Non_FE_score] , axis = 1)"
      ],
      "execution_count": 133,
      "outputs": []
    },
    {
      "cell_type": "markdown",
      "metadata": {
        "id": "3EYCvsgMfeGB"
      },
      "source": [
        "# Comparison of FE and Non FE Accuracy Scores"
      ]
    },
    {
      "cell_type": "code",
      "metadata": {
        "id": "GvpbtSiE7xcY",
        "colab": {
          "base_uri": "https://localhost:8080/",
          "height": 395
        },
        "outputId": "c66fdeec-4fcd-4ee3-ce2a-951a47069e9c"
      },
      "source": [
        "fig , ax = plt.subplots(figsize = (12,5))\n",
        "for i, v in enumerate( df_total_scores.iloc[0].values):\n",
        "  ax.text(v, i, \" \"+str(\"%.4f\" % v), color='blue', va='center', fontweight='bold',fontsize = 14)\n",
        "\n",
        "plt.barh( df_total_scores.columns , df_total_scores.iloc[0].values,color = 'rg')\n",
        "plt.title(\"Comparison of Two RFC Accuracy Scores\" ,fontsize=15 )\n",
        "plt.xlim(0,0.9)\n",
        "plt.show()"
      ],
      "execution_count": 134,
      "outputs": [
        {
          "output_type": "stream",
          "text": [
            "/usr/local/lib/python3.6/dist-packages/ipykernel_launcher.py:5: MatplotlibDeprecationWarning: Using a string of single character colors as a color sequence is deprecated. Use an explicit list instead.\n",
            "  \"\"\"\n"
          ],
          "name": "stderr"
        },
        {
          "output_type": "display_data",
          "data": {
            "image/png": "[encoded data removed]",
            "text/plain": [
              "<Figure size 864x360 with 1 Axes>"
            ]
          },
          "metadata": {
            "tags": [],
            "needs_background": "light"
          }
        }
      ]
    },
    {
      "cell_type": "markdown",
      "metadata": {
        "id": "3HQF4e1pF9pa"
      },
      "source": [
        ""
      ]
    },
    {
      "cell_type": "code",
      "metadata": {
        "id": "2xOfhUFjVwhT",
        "colab": {
          "base_uri": "https://localhost:8080/",
          "height": 395
        },
        "outputId": "2623ff54-6cb4-4981-d741-b1f5e2edc0e9"
      },
      "source": [
        "fig , ax = plt.subplots(figsize = (12,5))\n",
        "for i, v in enumerate( df_total_scores.iloc[1].values):\n",
        "  ax.text(v, i, \" \"+str(\"%.4f\" % v), color='blue', va='center', fontweight='bold', fontsize = 14)\n",
        "\n",
        "plt.barh( df_total_scores.columns , df_total_scores.iloc[1].values,color = 'rg')\n",
        "plt.title(\"Comparison of Two XGBOOST Accuracy Scores\" ,fontsize=15 )\n",
        "plt.xlim(0,0.9)\n",
        "plt.show()"
      ],
      "execution_count": 135,
      "outputs": [
        {
          "output_type": "stream",
          "text": [
            "/usr/local/lib/python3.6/dist-packages/ipykernel_launcher.py:5: MatplotlibDeprecationWarning: Using a string of single character colors as a color sequence is deprecated. Use an explicit list instead.\n",
            "  \"\"\"\n"
          ],
          "name": "stderr"
        },
        {
          "output_type": "display_data",
          "data": {
            "image/png": "[encoded data removed]",
            "text/plain": [
              "<Figure size 864x360 with 1 Axes>"
            ]
          },
          "metadata": {
            "tags": [],
            "needs_background": "light"
          }
        }
      ]
    },
    {
      "cell_type": "code",
      "metadata": {
        "id": "fNcBivvKUcD3",
        "colab": {
          "base_uri": "https://localhost:8080/",
          "height": 395
        },
        "outputId": "29f7dca4-07a8-437c-e8ca-0b3aef8be70d"
      },
      "source": [
        "fig , ax = plt.subplots(figsize = (12,5))\n",
        "for i, v in enumerate( df_total_scores.iloc[2].values):\n",
        "  ax.text(v, i, \" \"+str(\"%.4f\" % v), color='blue', va='center', fontweight='bold', fontsize = 14)\n",
        "\n",
        "plt.barh( df_total_scores.columns , df_total_scores.iloc[2].values,color = 'rg')\n",
        "plt.title(\"Comparison of Two Support Vector Machine Accuracy Scores\" ,fontsize=15 )\n",
        "plt.xlim(0,0.9)\n",
        "plt.show()"
      ],
      "execution_count": 136,
      "outputs": [
        {
          "output_type": "stream",
          "text": [
            "/usr/local/lib/python3.6/dist-packages/ipykernel_launcher.py:5: MatplotlibDeprecationWarning: Using a string of single character colors as a color sequence is deprecated. Use an explicit list instead.\n",
            "  \"\"\"\n"
          ],
          "name": "stderr"
        },
        {
          "output_type": "display_data",
          "data": {
            "image/png": "[encoded data removed]",
            "text/plain": [
              "<Figure size 864x360 with 1 Axes>"
            ]
          },
          "metadata": {
            "tags": [],
            "needs_background": "light"
          }
        }
      ]
    },
    {
      "cell_type": "code",
      "metadata": {
        "id": "tVjkf9TrXGzQ",
        "colab": {
          "base_uri": "https://localhost:8080/",
          "height": 395
        },
        "outputId": "36fe567a-2a54-4feb-ca7e-9aa8c4b12829"
      },
      "source": [
        "fig , ax = plt.subplots(figsize = (12,5))\n",
        "for i, v in enumerate( df_total_scores.iloc[3].values):\n",
        "  ax.text(v, i, \" \"+str(\"%.4f\" % v), color='blue', va='center', fontweight='bold', fontsize = 14)\n",
        "\n",
        "plt.barh( df_total_scores.columns , df_total_scores.iloc[3].values,color = 'rg')\n",
        "plt.title(\"Comparison of Two LightGBM Accuracy Scores\" ,fontsize=15 )\n",
        "plt.xlim(0,0.9)\n",
        "plt.show()"
      ],
      "execution_count": 137,
      "outputs": [
        {
          "output_type": "stream",
          "text": [
            "/usr/local/lib/python3.6/dist-packages/ipykernel_launcher.py:5: MatplotlibDeprecationWarning: Using a string of single character colors as a color sequence is deprecated. Use an explicit list instead.\n",
            "  \"\"\"\n"
          ],
          "name": "stderr"
        },
        {
          "output_type": "display_data",
          "data": {
            "image/png": "[encoded data removed]",
            "text/plain": [
              "<Figure size 864x360 with 1 Axes>"
            ]
          },
          "metadata": {
            "tags": [],
            "needs_background": "light"
          }
        }
      ]
    },
    {
      "cell_type": "code",
      "metadata": {
        "id": "LZhBg__kfyBC",
        "colab": {
          "base_uri": "https://localhost:8080/",
          "height": 395
        },
        "outputId": "f3ad93fa-9bbf-49fb-886f-a8af1f147a85"
      },
      "source": [
        "fig , ax = plt.subplots(figsize = (12,5))\n",
        "for i, v in enumerate( df_total_scores.iloc[4].values):\n",
        "  ax.text(v, i, \" \"+str(\"%.4f\" % v), color='blue', va='center', fontweight='bold', fontsize = 14)\n",
        "\n",
        "plt.barh( df_total_scores.columns , df_total_scores.iloc[4].values,color = 'rg')\n",
        "plt.title(\"Comparison of Two Neural Network Models Accuracy Scores\" ,fontsize=15 )\n",
        "plt.xlim(0,0.9)\n",
        "plt.show()"
      ],
      "execution_count": 138,
      "outputs": [
        {
          "output_type": "stream",
          "text": [
            "/usr/local/lib/python3.6/dist-packages/ipykernel_launcher.py:5: MatplotlibDeprecationWarning: Using a string of single character colors as a color sequence is deprecated. Use an explicit list instead.\n",
            "  \"\"\"\n"
          ],
          "name": "stderr"
        },
        {
          "output_type": "display_data",
          "data": {
            "image/png": "[encoded data removed]",
            "text/plain": [
              "<Figure size 864x360 with 1 Axes>"
            ]
          },
          "metadata": {
            "tags": [],
            "needs_background": "light"
          }
        }
      ]
    }
  ]
}