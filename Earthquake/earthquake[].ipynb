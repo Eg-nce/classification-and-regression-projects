{
  "nbformat": 4,
  "nbformat_minor": 0,
  "metadata": {
    "colab": {
      "name": "earthquake[].ipynb",
      "provenance": [],
      "collapsed_sections": []
    },
    "kernelspec": {
      "name": "python3",
      "display_name": "Python 3"
    },
    "accelerator": "GPU"
  },
  "cells": [
    {
      "cell_type": "markdown",
      "metadata": {
        "id": "XDiER8ZxC3wC"
      },
      "source": [
        "# Importing libraries"
      ]
    },
    {
      "cell_type": "code",
      "metadata": {
        "id": "Vb0svGKFC5Iy"
      },
      "source": [
        "from sklearn.preprocessing import StandardScaler\n",
        "import pandas as pd\n",
        "import itertools\n",
        "import numpy as np\n",
        "import matplotlib.pyplot as plt\n",
        "from itertools import combinations \n",
        "from sklearn.preprocessing import LabelEncoder\n",
        "from sklearn.preprocessing import OneHotEncoder\n",
        "from sklearn.metrics import confusion_matrix\n",
        "from sklearn.preprocessing import PolynomialFeatures\n",
        "from sklearn.preprocessing import StandardScaler\n",
        "from sklearn.svm import SVR\n",
        "from sklearn.preprocessing import LabelEncoder, OneHotEncoder\n",
        "from sklearn.compose import ColumnTransformer\n",
        "from sklearn.impute import SimpleImputer\n",
        "from sklearn.preprocessing import StandardScaler\n",
        "import seaborn as sns\n",
        "import matplotlib.colors as mcolors\n",
        "import matplotlib.ticker as ticker\n",
        "import matplotlib.cm as cm\n",
        "import matplotlib as mpl\n",
        "from matplotlib.gridspec import GridSpec\n",
        "import tensorflow as tf\n",
        "import tensorflow_addons as tfa\n",
        "from tensorflow.keras.callbacks import ReduceLROnPlateau, ModelCheckpoint\n",
        "from tensorflow.keras.callbacks import EarlyStopping, LearningRateScheduler\n",
        "from tensorflow import keras"
      ],
      "execution_count": 65,
      "outputs": []
    },
    {
      "cell_type": "markdown",
      "metadata": {
        "id": "sQ1ryZPYC9k0"
      },
      "source": [
        "# Data loading"
      ]
    },
    {
      "cell_type": "code",
      "metadata": {
        "id": "TiPHua2_C-Cf"
      },
      "source": [
        "x_train= pd.read_csv('drive/My Drive/earthquake/train_values.csv')\n",
        "y_train = pd.read_csv('drive/My Drive/earthquake/train_labels.csv')\n",
        "x_test = pd.read_csv('drive/My Drive/earthquake/test_values.csv')"
      ],
      "execution_count": 66,
      "outputs": []
    },
    {
      "cell_type": "markdown",
      "metadata": {
        "id": "XCJIpJUTDBG7"
      },
      "source": [
        "# Data Exploration"
      ]
    },
    {
      "cell_type": "code",
      "metadata": {
        "id": "GHqEmJD2C_ox",
        "colab": {
          "base_uri": "https://localhost:8080/",
          "height": 218
        },
        "outputId": "c2821189-d6b5-46fe-ea3e-3196e3931bf6"
      },
      "source": [
        "x_train.head()"
      ],
      "execution_count": 67,
      "outputs": [
        {
          "output_type": "execute_result",
          "data": {
            "text/html": [
              "<div>\n",
              "<style scoped>\n",
              "    .dataframe tbody tr th:only-of-type {\n",
              "        vertical-align: middle;\n",
              "    }\n",
              "\n",
              "    .dataframe tbody tr th {\n",
              "        vertical-align: top;\n",
              "    }\n",
              "\n",
              "    .dataframe thead th {\n",
              "        text-align: right;\n",
              "    }\n",
              "</style>\n",
              "<table border=\"1\" class=\"dataframe\">\n",
              "  <thead>\n",
              "    <tr style=\"text-align: right;\">\n",
              "      <th></th>\n",
              "      <th>building_id</th>\n",
              "      <th>geo_level_1_id</th>\n",
              "      <th>geo_level_2_id</th>\n",
              "      <th>geo_level_3_id</th>\n",
              "      <th>count_floors_pre_eq</th>\n",
              "      <th>age</th>\n",
              "      <th>area_percentage</th>\n",
              "      <th>height_percentage</th>\n",
              "      <th>land_surface_condition</th>\n",
              "      <th>foundation_type</th>\n",
              "      <th>roof_type</th>\n",
              "      <th>ground_floor_type</th>\n",
              "      <th>other_floor_type</th>\n",
              "      <th>position</th>\n",
              "      <th>plan_configuration</th>\n",
              "      <th>has_superstructure_adobe_mud</th>\n",
              "      <th>has_superstructure_mud_mortar_stone</th>\n",
              "      <th>has_superstructure_stone_flag</th>\n",
              "      <th>has_superstructure_cement_mortar_stone</th>\n",
              "      <th>has_superstructure_mud_mortar_brick</th>\n",
              "      <th>has_superstructure_cement_mortar_brick</th>\n",
              "      <th>has_superstructure_timber</th>\n",
              "      <th>has_superstructure_bamboo</th>\n",
              "      <th>has_superstructure_rc_non_engineered</th>\n",
              "      <th>has_superstructure_rc_engineered</th>\n",
              "      <th>has_superstructure_other</th>\n",
              "      <th>legal_ownership_status</th>\n",
              "      <th>count_families</th>\n",
              "      <th>has_secondary_use</th>\n",
              "      <th>has_secondary_use_agriculture</th>\n",
              "      <th>has_secondary_use_hotel</th>\n",
              "      <th>has_secondary_use_rental</th>\n",
              "      <th>has_secondary_use_institution</th>\n",
              "      <th>has_secondary_use_school</th>\n",
              "      <th>has_secondary_use_industry</th>\n",
              "      <th>has_secondary_use_health_post</th>\n",
              "      <th>has_secondary_use_gov_office</th>\n",
              "      <th>has_secondary_use_use_police</th>\n",
              "      <th>has_secondary_use_other</th>\n",
              "    </tr>\n",
              "  </thead>\n",
              "  <tbody>\n",
              "    <tr>\n",
              "      <th>0</th>\n",
              "      <td>802906</td>\n",
              "      <td>6</td>\n",
              "      <td>487</td>\n",
              "      <td>12198</td>\n",
              "      <td>2</td>\n",
              "      <td>30</td>\n",
              "      <td>6</td>\n",
              "      <td>5</td>\n",
              "      <td>t</td>\n",
              "      <td>r</td>\n",
              "      <td>n</td>\n",
              "      <td>f</td>\n",
              "      <td>q</td>\n",
              "      <td>t</td>\n",
              "      <td>d</td>\n",
              "      <td>1</td>\n",
              "      <td>1</td>\n",
              "      <td>0</td>\n",
              "      <td>0</td>\n",
              "      <td>0</td>\n",
              "      <td>0</td>\n",
              "      <td>0</td>\n",
              "      <td>0</td>\n",
              "      <td>0</td>\n",
              "      <td>0</td>\n",
              "      <td>0</td>\n",
              "      <td>v</td>\n",
              "      <td>1</td>\n",
              "      <td>0</td>\n",
              "      <td>0</td>\n",
              "      <td>0</td>\n",
              "      <td>0</td>\n",
              "      <td>0</td>\n",
              "      <td>0</td>\n",
              "      <td>0</td>\n",
              "      <td>0</td>\n",
              "      <td>0</td>\n",
              "      <td>0</td>\n",
              "      <td>0</td>\n",
              "    </tr>\n",
              "    <tr>\n",
              "      <th>1</th>\n",
              "      <td>28830</td>\n",
              "      <td>8</td>\n",
              "      <td>900</td>\n",
              "      <td>2812</td>\n",
              "      <td>2</td>\n",
              "      <td>10</td>\n",
              "      <td>8</td>\n",
              "      <td>7</td>\n",
              "      <td>o</td>\n",
              "      <td>r</td>\n",
              "      <td>n</td>\n",
              "      <td>x</td>\n",
              "      <td>q</td>\n",
              "      <td>s</td>\n",
              "      <td>d</td>\n",
              "      <td>0</td>\n",
              "      <td>1</td>\n",
              "      <td>0</td>\n",
              "      <td>0</td>\n",
              "      <td>0</td>\n",
              "      <td>0</td>\n",
              "      <td>0</td>\n",
              "      <td>0</td>\n",
              "      <td>0</td>\n",
              "      <td>0</td>\n",
              "      <td>0</td>\n",
              "      <td>v</td>\n",
              "      <td>1</td>\n",
              "      <td>0</td>\n",
              "      <td>0</td>\n",
              "      <td>0</td>\n",
              "      <td>0</td>\n",
              "      <td>0</td>\n",
              "      <td>0</td>\n",
              "      <td>0</td>\n",
              "      <td>0</td>\n",
              "      <td>0</td>\n",
              "      <td>0</td>\n",
              "      <td>0</td>\n",
              "    </tr>\n",
              "    <tr>\n",
              "      <th>2</th>\n",
              "      <td>94947</td>\n",
              "      <td>21</td>\n",
              "      <td>363</td>\n",
              "      <td>8973</td>\n",
              "      <td>2</td>\n",
              "      <td>10</td>\n",
              "      <td>5</td>\n",
              "      <td>5</td>\n",
              "      <td>t</td>\n",
              "      <td>r</td>\n",
              "      <td>n</td>\n",
              "      <td>f</td>\n",
              "      <td>x</td>\n",
              "      <td>t</td>\n",
              "      <td>d</td>\n",
              "      <td>0</td>\n",
              "      <td>1</td>\n",
              "      <td>0</td>\n",
              "      <td>0</td>\n",
              "      <td>0</td>\n",
              "      <td>0</td>\n",
              "      <td>0</td>\n",
              "      <td>0</td>\n",
              "      <td>0</td>\n",
              "      <td>0</td>\n",
              "      <td>0</td>\n",
              "      <td>v</td>\n",
              "      <td>1</td>\n",
              "      <td>0</td>\n",
              "      <td>0</td>\n",
              "      <td>0</td>\n",
              "      <td>0</td>\n",
              "      <td>0</td>\n",
              "      <td>0</td>\n",
              "      <td>0</td>\n",
              "      <td>0</td>\n",
              "      <td>0</td>\n",
              "      <td>0</td>\n",
              "      <td>0</td>\n",
              "    </tr>\n",
              "    <tr>\n",
              "      <th>3</th>\n",
              "      <td>590882</td>\n",
              "      <td>22</td>\n",
              "      <td>418</td>\n",
              "      <td>10694</td>\n",
              "      <td>2</td>\n",
              "      <td>10</td>\n",
              "      <td>6</td>\n",
              "      <td>5</td>\n",
              "      <td>t</td>\n",
              "      <td>r</td>\n",
              "      <td>n</td>\n",
              "      <td>f</td>\n",
              "      <td>x</td>\n",
              "      <td>s</td>\n",
              "      <td>d</td>\n",
              "      <td>0</td>\n",
              "      <td>1</td>\n",
              "      <td>0</td>\n",
              "      <td>0</td>\n",
              "      <td>0</td>\n",
              "      <td>0</td>\n",
              "      <td>1</td>\n",
              "      <td>1</td>\n",
              "      <td>0</td>\n",
              "      <td>0</td>\n",
              "      <td>0</td>\n",
              "      <td>v</td>\n",
              "      <td>1</td>\n",
              "      <td>0</td>\n",
              "      <td>0</td>\n",
              "      <td>0</td>\n",
              "      <td>0</td>\n",
              "      <td>0</td>\n",
              "      <td>0</td>\n",
              "      <td>0</td>\n",
              "      <td>0</td>\n",
              "      <td>0</td>\n",
              "      <td>0</td>\n",
              "      <td>0</td>\n",
              "    </tr>\n",
              "    <tr>\n",
              "      <th>4</th>\n",
              "      <td>201944</td>\n",
              "      <td>11</td>\n",
              "      <td>131</td>\n",
              "      <td>1488</td>\n",
              "      <td>3</td>\n",
              "      <td>30</td>\n",
              "      <td>8</td>\n",
              "      <td>9</td>\n",
              "      <td>t</td>\n",
              "      <td>r</td>\n",
              "      <td>n</td>\n",
              "      <td>f</td>\n",
              "      <td>x</td>\n",
              "      <td>s</td>\n",
              "      <td>d</td>\n",
              "      <td>1</td>\n",
              "      <td>0</td>\n",
              "      <td>0</td>\n",
              "      <td>0</td>\n",
              "      <td>0</td>\n",
              "      <td>0</td>\n",
              "      <td>0</td>\n",
              "      <td>0</td>\n",
              "      <td>0</td>\n",
              "      <td>0</td>\n",
              "      <td>0</td>\n",
              "      <td>v</td>\n",
              "      <td>1</td>\n",
              "      <td>0</td>\n",
              "      <td>0</td>\n",
              "      <td>0</td>\n",
              "      <td>0</td>\n",
              "      <td>0</td>\n",
              "      <td>0</td>\n",
              "      <td>0</td>\n",
              "      <td>0</td>\n",
              "      <td>0</td>\n",
              "      <td>0</td>\n",
              "      <td>0</td>\n",
              "    </tr>\n",
              "  </tbody>\n",
              "</table>\n",
              "</div>"
            ],
            "text/plain": [
              "   building_id  ...  has_secondary_use_other\n",
              "0       802906  ...                        0\n",
              "1        28830  ...                        0\n",
              "2        94947  ...                        0\n",
              "3       590882  ...                        0\n",
              "4       201944  ...                        0\n",
              "\n",
              "[5 rows x 39 columns]"
            ]
          },
          "metadata": {
            "tags": []
          },
          "execution_count": 67
        }
      ]
    },
    {
      "cell_type": "code",
      "metadata": {
        "id": "J-TVU9J5DDMX"
      },
      "source": [
        "y_train.drop(['building_id'],axis = 1,inplace= True)\n",
        "x_test.drop(['building_id'],axis = 1,inplace= True)\n",
        "x_train.drop(['building_id'],axis = 1,inplace= True)"
      ],
      "execution_count": 68,
      "outputs": []
    },
    {
      "cell_type": "code",
      "metadata": {
        "id": "zLfIYWwBDGcr",
        "colab": {
          "base_uri": "https://localhost:8080/",
          "height": 218
        },
        "outputId": "a38ad622-bda0-4fa7-f231-520bade339e9"
      },
      "source": [
        "total_train = pd.concat([x_train,y_train],axis = 1)\n",
        "total_train.head()"
      ],
      "execution_count": 69,
      "outputs": [
        {
          "output_type": "execute_result",
          "data": {
            "text/html": [
              "<div>\n",
              "<style scoped>\n",
              "    .dataframe tbody tr th:only-of-type {\n",
              "        vertical-align: middle;\n",
              "    }\n",
              "\n",
              "    .dataframe tbody tr th {\n",
              "        vertical-align: top;\n",
              "    }\n",
              "\n",
              "    .dataframe thead th {\n",
              "        text-align: right;\n",
              "    }\n",
              "</style>\n",
              "<table border=\"1\" class=\"dataframe\">\n",
              "  <thead>\n",
              "    <tr style=\"text-align: right;\">\n",
              "      <th></th>\n",
              "      <th>geo_level_1_id</th>\n",
              "      <th>geo_level_2_id</th>\n",
              "      <th>geo_level_3_id</th>\n",
              "      <th>count_floors_pre_eq</th>\n",
              "      <th>age</th>\n",
              "      <th>area_percentage</th>\n",
              "      <th>height_percentage</th>\n",
              "      <th>land_surface_condition</th>\n",
              "      <th>foundation_type</th>\n",
              "      <th>roof_type</th>\n",
              "      <th>ground_floor_type</th>\n",
              "      <th>other_floor_type</th>\n",
              "      <th>position</th>\n",
              "      <th>plan_configuration</th>\n",
              "      <th>has_superstructure_adobe_mud</th>\n",
              "      <th>has_superstructure_mud_mortar_stone</th>\n",
              "      <th>has_superstructure_stone_flag</th>\n",
              "      <th>has_superstructure_cement_mortar_stone</th>\n",
              "      <th>has_superstructure_mud_mortar_brick</th>\n",
              "      <th>has_superstructure_cement_mortar_brick</th>\n",
              "      <th>has_superstructure_timber</th>\n",
              "      <th>has_superstructure_bamboo</th>\n",
              "      <th>has_superstructure_rc_non_engineered</th>\n",
              "      <th>has_superstructure_rc_engineered</th>\n",
              "      <th>has_superstructure_other</th>\n",
              "      <th>legal_ownership_status</th>\n",
              "      <th>count_families</th>\n",
              "      <th>has_secondary_use</th>\n",
              "      <th>has_secondary_use_agriculture</th>\n",
              "      <th>has_secondary_use_hotel</th>\n",
              "      <th>has_secondary_use_rental</th>\n",
              "      <th>has_secondary_use_institution</th>\n",
              "      <th>has_secondary_use_school</th>\n",
              "      <th>has_secondary_use_industry</th>\n",
              "      <th>has_secondary_use_health_post</th>\n",
              "      <th>has_secondary_use_gov_office</th>\n",
              "      <th>has_secondary_use_use_police</th>\n",
              "      <th>has_secondary_use_other</th>\n",
              "      <th>damage_grade</th>\n",
              "    </tr>\n",
              "  </thead>\n",
              "  <tbody>\n",
              "    <tr>\n",
              "      <th>0</th>\n",
              "      <td>6</td>\n",
              "      <td>487</td>\n",
              "      <td>12198</td>\n",
              "      <td>2</td>\n",
              "      <td>30</td>\n",
              "      <td>6</td>\n",
              "      <td>5</td>\n",
              "      <td>t</td>\n",
              "      <td>r</td>\n",
              "      <td>n</td>\n",
              "      <td>f</td>\n",
              "      <td>q</td>\n",
              "      <td>t</td>\n",
              "      <td>d</td>\n",
              "      <td>1</td>\n",
              "      <td>1</td>\n",
              "      <td>0</td>\n",
              "      <td>0</td>\n",
              "      <td>0</td>\n",
              "      <td>0</td>\n",
              "      <td>0</td>\n",
              "      <td>0</td>\n",
              "      <td>0</td>\n",
              "      <td>0</td>\n",
              "      <td>0</td>\n",
              "      <td>v</td>\n",
              "      <td>1</td>\n",
              "      <td>0</td>\n",
              "      <td>0</td>\n",
              "      <td>0</td>\n",
              "      <td>0</td>\n",
              "      <td>0</td>\n",
              "      <td>0</td>\n",
              "      <td>0</td>\n",
              "      <td>0</td>\n",
              "      <td>0</td>\n",
              "      <td>0</td>\n",
              "      <td>0</td>\n",
              "      <td>3</td>\n",
              "    </tr>\n",
              "    <tr>\n",
              "      <th>1</th>\n",
              "      <td>8</td>\n",
              "      <td>900</td>\n",
              "      <td>2812</td>\n",
              "      <td>2</td>\n",
              "      <td>10</td>\n",
              "      <td>8</td>\n",
              "      <td>7</td>\n",
              "      <td>o</td>\n",
              "      <td>r</td>\n",
              "      <td>n</td>\n",
              "      <td>x</td>\n",
              "      <td>q</td>\n",
              "      <td>s</td>\n",
              "      <td>d</td>\n",
              "      <td>0</td>\n",
              "      <td>1</td>\n",
              "      <td>0</td>\n",
              "      <td>0</td>\n",
              "      <td>0</td>\n",
              "      <td>0</td>\n",
              "      <td>0</td>\n",
              "      <td>0</td>\n",
              "      <td>0</td>\n",
              "      <td>0</td>\n",
              "      <td>0</td>\n",
              "      <td>v</td>\n",
              "      <td>1</td>\n",
              "      <td>0</td>\n",
              "      <td>0</td>\n",
              "      <td>0</td>\n",
              "      <td>0</td>\n",
              "      <td>0</td>\n",
              "      <td>0</td>\n",
              "      <td>0</td>\n",
              "      <td>0</td>\n",
              "      <td>0</td>\n",
              "      <td>0</td>\n",
              "      <td>0</td>\n",
              "      <td>2</td>\n",
              "    </tr>\n",
              "    <tr>\n",
              "      <th>2</th>\n",
              "      <td>21</td>\n",
              "      <td>363</td>\n",
              "      <td>8973</td>\n",
              "      <td>2</td>\n",
              "      <td>10</td>\n",
              "      <td>5</td>\n",
              "      <td>5</td>\n",
              "      <td>t</td>\n",
              "      <td>r</td>\n",
              "      <td>n</td>\n",
              "      <td>f</td>\n",
              "      <td>x</td>\n",
              "      <td>t</td>\n",
              "      <td>d</td>\n",
              "      <td>0</td>\n",
              "      <td>1</td>\n",
              "      <td>0</td>\n",
              "      <td>0</td>\n",
              "      <td>0</td>\n",
              "      <td>0</td>\n",
              "      <td>0</td>\n",
              "      <td>0</td>\n",
              "      <td>0</td>\n",
              "      <td>0</td>\n",
              "      <td>0</td>\n",
              "      <td>v</td>\n",
              "      <td>1</td>\n",
              "      <td>0</td>\n",
              "      <td>0</td>\n",
              "      <td>0</td>\n",
              "      <td>0</td>\n",
              "      <td>0</td>\n",
              "      <td>0</td>\n",
              "      <td>0</td>\n",
              "      <td>0</td>\n",
              "      <td>0</td>\n",
              "      <td>0</td>\n",
              "      <td>0</td>\n",
              "      <td>3</td>\n",
              "    </tr>\n",
              "    <tr>\n",
              "      <th>3</th>\n",
              "      <td>22</td>\n",
              "      <td>418</td>\n",
              "      <td>10694</td>\n",
              "      <td>2</td>\n",
              "      <td>10</td>\n",
              "      <td>6</td>\n",
              "      <td>5</td>\n",
              "      <td>t</td>\n",
              "      <td>r</td>\n",
              "      <td>n</td>\n",
              "      <td>f</td>\n",
              "      <td>x</td>\n",
              "      <td>s</td>\n",
              "      <td>d</td>\n",
              "      <td>0</td>\n",
              "      <td>1</td>\n",
              "      <td>0</td>\n",
              "      <td>0</td>\n",
              "      <td>0</td>\n",
              "      <td>0</td>\n",
              "      <td>1</td>\n",
              "      <td>1</td>\n",
              "      <td>0</td>\n",
              "      <td>0</td>\n",
              "      <td>0</td>\n",
              "      <td>v</td>\n",
              "      <td>1</td>\n",
              "      <td>0</td>\n",
              "      <td>0</td>\n",
              "      <td>0</td>\n",
              "      <td>0</td>\n",
              "      <td>0</td>\n",
              "      <td>0</td>\n",
              "      <td>0</td>\n",
              "      <td>0</td>\n",
              "      <td>0</td>\n",
              "      <td>0</td>\n",
              "      <td>0</td>\n",
              "      <td>2</td>\n",
              "    </tr>\n",
              "    <tr>\n",
              "      <th>4</th>\n",
              "      <td>11</td>\n",
              "      <td>131</td>\n",
              "      <td>1488</td>\n",
              "      <td>3</td>\n",
              "      <td>30</td>\n",
              "      <td>8</td>\n",
              "      <td>9</td>\n",
              "      <td>t</td>\n",
              "      <td>r</td>\n",
              "      <td>n</td>\n",
              "      <td>f</td>\n",
              "      <td>x</td>\n",
              "      <td>s</td>\n",
              "      <td>d</td>\n",
              "      <td>1</td>\n",
              "      <td>0</td>\n",
              "      <td>0</td>\n",
              "      <td>0</td>\n",
              "      <td>0</td>\n",
              "      <td>0</td>\n",
              "      <td>0</td>\n",
              "      <td>0</td>\n",
              "      <td>0</td>\n",
              "      <td>0</td>\n",
              "      <td>0</td>\n",
              "      <td>v</td>\n",
              "      <td>1</td>\n",
              "      <td>0</td>\n",
              "      <td>0</td>\n",
              "      <td>0</td>\n",
              "      <td>0</td>\n",
              "      <td>0</td>\n",
              "      <td>0</td>\n",
              "      <td>0</td>\n",
              "      <td>0</td>\n",
              "      <td>0</td>\n",
              "      <td>0</td>\n",
              "      <td>0</td>\n",
              "      <td>3</td>\n",
              "    </tr>\n",
              "  </tbody>\n",
              "</table>\n",
              "</div>"
            ],
            "text/plain": [
              "   geo_level_1_id  geo_level_2_id  ...  has_secondary_use_other  damage_grade\n",
              "0               6             487  ...                        0             3\n",
              "1               8             900  ...                        0             2\n",
              "2              21             363  ...                        0             3\n",
              "3              22             418  ...                        0             2\n",
              "4              11             131  ...                        0             3\n",
              "\n",
              "[5 rows x 39 columns]"
            ]
          },
          "metadata": {
            "tags": []
          },
          "execution_count": 69
        }
      ]
    },
    {
      "cell_type": "code",
      "metadata": {
        "id": "3mexzFzaDIk3",
        "colab": {
          "base_uri": "https://localhost:8080/"
        },
        "outputId": "7a09d98e-6ff8-4ef2-c884-a5684201e332"
      },
      "source": [
        "total_train.shape"
      ],
      "execution_count": 70,
      "outputs": [
        {
          "output_type": "execute_result",
          "data": {
            "text/plain": [
              "(260601, 39)"
            ]
          },
          "metadata": {
            "tags": []
          },
          "execution_count": 70
        }
      ]
    },
    {
      "cell_type": "code",
      "metadata": {
        "id": "oG_J9fv7DKQ-",
        "colab": {
          "base_uri": "https://localhost:8080/",
          "height": 308
        },
        "outputId": "d160248d-2919-47e2-b5a0-992a3c106c5b"
      },
      "source": [
        "total_train.describe()"
      ],
      "execution_count": 71,
      "outputs": [
        {
          "output_type": "execute_result",
          "data": {
            "text/html": [
              "<div>\n",
              "<style scoped>\n",
              "    .dataframe tbody tr th:only-of-type {\n",
              "        vertical-align: middle;\n",
              "    }\n",
              "\n",
              "    .dataframe tbody tr th {\n",
              "        vertical-align: top;\n",
              "    }\n",
              "\n",
              "    .dataframe thead th {\n",
              "        text-align: right;\n",
              "    }\n",
              "</style>\n",
              "<table border=\"1\" class=\"dataframe\">\n",
              "  <thead>\n",
              "    <tr style=\"text-align: right;\">\n",
              "      <th></th>\n",
              "      <th>geo_level_1_id</th>\n",
              "      <th>geo_level_2_id</th>\n",
              "      <th>geo_level_3_id</th>\n",
              "      <th>count_floors_pre_eq</th>\n",
              "      <th>age</th>\n",
              "      <th>area_percentage</th>\n",
              "      <th>height_percentage</th>\n",
              "      <th>has_superstructure_adobe_mud</th>\n",
              "      <th>has_superstructure_mud_mortar_stone</th>\n",
              "      <th>has_superstructure_stone_flag</th>\n",
              "      <th>has_superstructure_cement_mortar_stone</th>\n",
              "      <th>has_superstructure_mud_mortar_brick</th>\n",
              "      <th>has_superstructure_cement_mortar_brick</th>\n",
              "      <th>has_superstructure_timber</th>\n",
              "      <th>has_superstructure_bamboo</th>\n",
              "      <th>has_superstructure_rc_non_engineered</th>\n",
              "      <th>has_superstructure_rc_engineered</th>\n",
              "      <th>has_superstructure_other</th>\n",
              "      <th>count_families</th>\n",
              "      <th>has_secondary_use</th>\n",
              "      <th>has_secondary_use_agriculture</th>\n",
              "      <th>has_secondary_use_hotel</th>\n",
              "      <th>has_secondary_use_rental</th>\n",
              "      <th>has_secondary_use_institution</th>\n",
              "      <th>has_secondary_use_school</th>\n",
              "      <th>has_secondary_use_industry</th>\n",
              "      <th>has_secondary_use_health_post</th>\n",
              "      <th>has_secondary_use_gov_office</th>\n",
              "      <th>has_secondary_use_use_police</th>\n",
              "      <th>has_secondary_use_other</th>\n",
              "      <th>damage_grade</th>\n",
              "    </tr>\n",
              "  </thead>\n",
              "  <tbody>\n",
              "    <tr>\n",
              "      <th>count</th>\n",
              "      <td>260601.000000</td>\n",
              "      <td>260601.000000</td>\n",
              "      <td>260601.000000</td>\n",
              "      <td>260601.000000</td>\n",
              "      <td>260601.000000</td>\n",
              "      <td>260601.000000</td>\n",
              "      <td>260601.000000</td>\n",
              "      <td>260601.000000</td>\n",
              "      <td>260601.000000</td>\n",
              "      <td>260601.000000</td>\n",
              "      <td>260601.000000</td>\n",
              "      <td>260601.000000</td>\n",
              "      <td>260601.000000</td>\n",
              "      <td>260601.000000</td>\n",
              "      <td>260601.000000</td>\n",
              "      <td>260601.000000</td>\n",
              "      <td>260601.000000</td>\n",
              "      <td>260601.000000</td>\n",
              "      <td>260601.000000</td>\n",
              "      <td>260601.000000</td>\n",
              "      <td>260601.000000</td>\n",
              "      <td>260601.000000</td>\n",
              "      <td>260601.000000</td>\n",
              "      <td>260601.000000</td>\n",
              "      <td>260601.000000</td>\n",
              "      <td>260601.000000</td>\n",
              "      <td>260601.000000</td>\n",
              "      <td>260601.000000</td>\n",
              "      <td>260601.000000</td>\n",
              "      <td>260601.000000</td>\n",
              "      <td>260601.000000</td>\n",
              "    </tr>\n",
              "    <tr>\n",
              "      <th>mean</th>\n",
              "      <td>13.900353</td>\n",
              "      <td>701.074685</td>\n",
              "      <td>6257.876148</td>\n",
              "      <td>2.129723</td>\n",
              "      <td>26.535029</td>\n",
              "      <td>8.018051</td>\n",
              "      <td>5.434365</td>\n",
              "      <td>0.088645</td>\n",
              "      <td>0.761935</td>\n",
              "      <td>0.034332</td>\n",
              "      <td>0.018235</td>\n",
              "      <td>0.068154</td>\n",
              "      <td>0.075268</td>\n",
              "      <td>0.254988</td>\n",
              "      <td>0.085011</td>\n",
              "      <td>0.042590</td>\n",
              "      <td>0.015859</td>\n",
              "      <td>0.014985</td>\n",
              "      <td>0.983949</td>\n",
              "      <td>0.111880</td>\n",
              "      <td>0.064378</td>\n",
              "      <td>0.033626</td>\n",
              "      <td>0.008101</td>\n",
              "      <td>0.000940</td>\n",
              "      <td>0.000361</td>\n",
              "      <td>0.001071</td>\n",
              "      <td>0.000188</td>\n",
              "      <td>0.000146</td>\n",
              "      <td>0.000088</td>\n",
              "      <td>0.005119</td>\n",
              "      <td>2.238272</td>\n",
              "    </tr>\n",
              "    <tr>\n",
              "      <th>std</th>\n",
              "      <td>8.033617</td>\n",
              "      <td>412.710734</td>\n",
              "      <td>3646.369645</td>\n",
              "      <td>0.727665</td>\n",
              "      <td>73.565937</td>\n",
              "      <td>4.392231</td>\n",
              "      <td>1.918418</td>\n",
              "      <td>0.284231</td>\n",
              "      <td>0.425900</td>\n",
              "      <td>0.182081</td>\n",
              "      <td>0.133800</td>\n",
              "      <td>0.252010</td>\n",
              "      <td>0.263824</td>\n",
              "      <td>0.435855</td>\n",
              "      <td>0.278899</td>\n",
              "      <td>0.201931</td>\n",
              "      <td>0.124932</td>\n",
              "      <td>0.121491</td>\n",
              "      <td>0.418389</td>\n",
              "      <td>0.315219</td>\n",
              "      <td>0.245426</td>\n",
              "      <td>0.180265</td>\n",
              "      <td>0.089638</td>\n",
              "      <td>0.030647</td>\n",
              "      <td>0.018989</td>\n",
              "      <td>0.032703</td>\n",
              "      <td>0.013711</td>\n",
              "      <td>0.012075</td>\n",
              "      <td>0.009394</td>\n",
              "      <td>0.071364</td>\n",
              "      <td>0.611814</td>\n",
              "    </tr>\n",
              "    <tr>\n",
              "      <th>min</th>\n",
              "      <td>0.000000</td>\n",
              "      <td>0.000000</td>\n",
              "      <td>0.000000</td>\n",
              "      <td>1.000000</td>\n",
              "      <td>0.000000</td>\n",
              "      <td>1.000000</td>\n",
              "      <td>2.000000</td>\n",
              "      <td>0.000000</td>\n",
              "      <td>0.000000</td>\n",
              "      <td>0.000000</td>\n",
              "      <td>0.000000</td>\n",
              "      <td>0.000000</td>\n",
              "      <td>0.000000</td>\n",
              "      <td>0.000000</td>\n",
              "      <td>0.000000</td>\n",
              "      <td>0.000000</td>\n",
              "      <td>0.000000</td>\n",
              "      <td>0.000000</td>\n",
              "      <td>0.000000</td>\n",
              "      <td>0.000000</td>\n",
              "      <td>0.000000</td>\n",
              "      <td>0.000000</td>\n",
              "      <td>0.000000</td>\n",
              "      <td>0.000000</td>\n",
              "      <td>0.000000</td>\n",
              "      <td>0.000000</td>\n",
              "      <td>0.000000</td>\n",
              "      <td>0.000000</td>\n",
              "      <td>0.000000</td>\n",
              "      <td>0.000000</td>\n",
              "      <td>1.000000</td>\n",
              "    </tr>\n",
              "    <tr>\n",
              "      <th>25%</th>\n",
              "      <td>7.000000</td>\n",
              "      <td>350.000000</td>\n",
              "      <td>3073.000000</td>\n",
              "      <td>2.000000</td>\n",
              "      <td>10.000000</td>\n",
              "      <td>5.000000</td>\n",
              "      <td>4.000000</td>\n",
              "      <td>0.000000</td>\n",
              "      <td>1.000000</td>\n",
              "      <td>0.000000</td>\n",
              "      <td>0.000000</td>\n",
              "      <td>0.000000</td>\n",
              "      <td>0.000000</td>\n",
              "      <td>0.000000</td>\n",
              "      <td>0.000000</td>\n",
              "      <td>0.000000</td>\n",
              "      <td>0.000000</td>\n",
              "      <td>0.000000</td>\n",
              "      <td>1.000000</td>\n",
              "      <td>0.000000</td>\n",
              "      <td>0.000000</td>\n",
              "      <td>0.000000</td>\n",
              "      <td>0.000000</td>\n",
              "      <td>0.000000</td>\n",
              "      <td>0.000000</td>\n",
              "      <td>0.000000</td>\n",
              "      <td>0.000000</td>\n",
              "      <td>0.000000</td>\n",
              "      <td>0.000000</td>\n",
              "      <td>0.000000</td>\n",
              "      <td>2.000000</td>\n",
              "    </tr>\n",
              "    <tr>\n",
              "      <th>50%</th>\n",
              "      <td>12.000000</td>\n",
              "      <td>702.000000</td>\n",
              "      <td>6270.000000</td>\n",
              "      <td>2.000000</td>\n",
              "      <td>15.000000</td>\n",
              "      <td>7.000000</td>\n",
              "      <td>5.000000</td>\n",
              "      <td>0.000000</td>\n",
              "      <td>1.000000</td>\n",
              "      <td>0.000000</td>\n",
              "      <td>0.000000</td>\n",
              "      <td>0.000000</td>\n",
              "      <td>0.000000</td>\n",
              "      <td>0.000000</td>\n",
              "      <td>0.000000</td>\n",
              "      <td>0.000000</td>\n",
              "      <td>0.000000</td>\n",
              "      <td>0.000000</td>\n",
              "      <td>1.000000</td>\n",
              "      <td>0.000000</td>\n",
              "      <td>0.000000</td>\n",
              "      <td>0.000000</td>\n",
              "      <td>0.000000</td>\n",
              "      <td>0.000000</td>\n",
              "      <td>0.000000</td>\n",
              "      <td>0.000000</td>\n",
              "      <td>0.000000</td>\n",
              "      <td>0.000000</td>\n",
              "      <td>0.000000</td>\n",
              "      <td>0.000000</td>\n",
              "      <td>2.000000</td>\n",
              "    </tr>\n",
              "    <tr>\n",
              "      <th>75%</th>\n",
              "      <td>21.000000</td>\n",
              "      <td>1050.000000</td>\n",
              "      <td>9412.000000</td>\n",
              "      <td>2.000000</td>\n",
              "      <td>30.000000</td>\n",
              "      <td>9.000000</td>\n",
              "      <td>6.000000</td>\n",
              "      <td>0.000000</td>\n",
              "      <td>1.000000</td>\n",
              "      <td>0.000000</td>\n",
              "      <td>0.000000</td>\n",
              "      <td>0.000000</td>\n",
              "      <td>0.000000</td>\n",
              "      <td>1.000000</td>\n",
              "      <td>0.000000</td>\n",
              "      <td>0.000000</td>\n",
              "      <td>0.000000</td>\n",
              "      <td>0.000000</td>\n",
              "      <td>1.000000</td>\n",
              "      <td>0.000000</td>\n",
              "      <td>0.000000</td>\n",
              "      <td>0.000000</td>\n",
              "      <td>0.000000</td>\n",
              "      <td>0.000000</td>\n",
              "      <td>0.000000</td>\n",
              "      <td>0.000000</td>\n",
              "      <td>0.000000</td>\n",
              "      <td>0.000000</td>\n",
              "      <td>0.000000</td>\n",
              "      <td>0.000000</td>\n",
              "      <td>3.000000</td>\n",
              "    </tr>\n",
              "    <tr>\n",
              "      <th>max</th>\n",
              "      <td>30.000000</td>\n",
              "      <td>1427.000000</td>\n",
              "      <td>12567.000000</td>\n",
              "      <td>9.000000</td>\n",
              "      <td>995.000000</td>\n",
              "      <td>100.000000</td>\n",
              "      <td>32.000000</td>\n",
              "      <td>1.000000</td>\n",
              "      <td>1.000000</td>\n",
              "      <td>1.000000</td>\n",
              "      <td>1.000000</td>\n",
              "      <td>1.000000</td>\n",
              "      <td>1.000000</td>\n",
              "      <td>1.000000</td>\n",
              "      <td>1.000000</td>\n",
              "      <td>1.000000</td>\n",
              "      <td>1.000000</td>\n",
              "      <td>1.000000</td>\n",
              "      <td>9.000000</td>\n",
              "      <td>1.000000</td>\n",
              "      <td>1.000000</td>\n",
              "      <td>1.000000</td>\n",
              "      <td>1.000000</td>\n",
              "      <td>1.000000</td>\n",
              "      <td>1.000000</td>\n",
              "      <td>1.000000</td>\n",
              "      <td>1.000000</td>\n",
              "      <td>1.000000</td>\n",
              "      <td>1.000000</td>\n",
              "      <td>1.000000</td>\n",
              "      <td>3.000000</td>\n",
              "    </tr>\n",
              "  </tbody>\n",
              "</table>\n",
              "</div>"
            ],
            "text/plain": [
              "       geo_level_1_id  geo_level_2_id  ...  has_secondary_use_other   damage_grade\n",
              "count   260601.000000   260601.000000  ...            260601.000000  260601.000000\n",
              "mean        13.900353      701.074685  ...                 0.005119       2.238272\n",
              "std          8.033617      412.710734  ...                 0.071364       0.611814\n",
              "min          0.000000        0.000000  ...                 0.000000       1.000000\n",
              "25%          7.000000      350.000000  ...                 0.000000       2.000000\n",
              "50%         12.000000      702.000000  ...                 0.000000       2.000000\n",
              "75%         21.000000     1050.000000  ...                 0.000000       3.000000\n",
              "max         30.000000     1427.000000  ...                 1.000000       3.000000\n",
              "\n",
              "[8 rows x 31 columns]"
            ]
          },
          "metadata": {
            "tags": []
          },
          "execution_count": 71
        }
      ]
    },
    {
      "cell_type": "markdown",
      "metadata": {
        "id": "k7Zg2roeDNuP"
      },
      "source": [
        "# Data Visualization \n",
        "\n",
        "---\n",
        "\n"
      ]
    },
    {
      "cell_type": "code",
      "metadata": {
        "id": "PfwGZWIYDL45",
        "colab": {
          "base_uri": "https://localhost:8080/",
          "height": 605
        },
        "outputId": "ea5c652c-d2e4-4401-8bfb-5010330c1e1e"
      },
      "source": [
        "damage_df = total_train[['damage_grade']]\n",
        "\n",
        "damage = damage_df.groupby(['damage_grade']).size().reset_index()\n",
        "damage.plot(kind='pie' ,y = 0, autopct='%1.1f%%',  title = \"Damage Dispersion Percentage\",\n",
        "startangle=90, shadow=False, labels=  damage['damage_grade'], legend = False, fontsize=14, figsize=(10, 10))\n",
        "plt.xlabel('1 represents low damage , 2 represents a medium amount of damage , 3 represents almost complete destruction')\n",
        "plt.show()"
      ],
      "execution_count": 72,
      "outputs": [
        {
          "output_type": "display_data",
          "data": {
            "image/png": "[encoded data removed]",
            "text/plain": [
              "<Figure size 720x720 with 1 Axes>"
            ]
          },
          "metadata": {
            "tags": []
          }
        }
      ]
    },
    {
      "cell_type": "markdown",
      "metadata": {
        "id": "6IURAP395H_L"
      },
      "source": [
        " **Heatmap** **of** **Correlation**"
      ]
    },
    {
      "cell_type": "code",
      "metadata": {
        "id": "-qd8AwW2D6uO",
        "colab": {
          "base_uri": "https://localhost:8080/",
          "height": 1000
        },
        "outputId": "4948ab6d-c78b-4822-ad0f-4297c082f6d5"
      },
      "source": [
        "plt.subplots(figsize=(18,18))\n",
        "sns.heatmap(total_train.corr(), annot=True, fmt=\".2f\")\n",
        "plt.show()"
      ],
      "execution_count": 73,
      "outputs": [
        {
          "output_type": "display_data",
          "data": {
            "image/png": "[encoded data removed]",
            "text/plain": [
              "<Figure size 1296x1296 with 2 Axes>"
            ]
          },
          "metadata": {
            "tags": [],
            "needs_background": "light"
          }
        }
      ]
    },
    {
      "cell_type": "code",
      "metadata": {
        "id": "fCkh0YBhD778"
      },
      "source": [
        "corr=total_train.corr().abs()\n",
        "n_cor = 10\n",
        "Most_correlated_features=corr['damage_grade'].sort_values(ascending=False)[:n_cor].drop('damage_grade')\n",
        "Most_correlated_features_name= Most_correlated_features.index.values"
      ],
      "execution_count": 74,
      "outputs": []
    },
    {
      "cell_type": "code",
      "metadata": {
        "id": "x5URPXeRNFFU"
      },
      "source": [
        "\n",
        "start = 0.0\n",
        "stop = 1.0\n",
        "number_of_lines= len(Most_correlated_features)\n",
        "cm_subsection = np.linspace(start, stop, number_of_lines) \n",
        "colors = [ cm.jet(x) for x in cm_subsection ]"
      ],
      "execution_count": 75,
      "outputs": []
    },
    {
      "cell_type": "code",
      "metadata": {
        "id": "PNcDxAY27k4_"
      },
      "source": [
        "age_df = total_train['age']\n",
        "\n"
      ],
      "execution_count": 76,
      "outputs": []
    },
    {
      "cell_type": "markdown",
      "metadata": {
        "id": "HRQ8kTTM5sTs"
      },
      "source": [
        "**Bar** **Graphs**"
      ]
    },
    {
      "cell_type": "code",
      "metadata": {
        "id": "GBj-0GvKD9Gt",
        "colab": {
          "base_uri": "https://localhost:8080/",
          "height": 659
        },
        "outputId": "9b7dd10c-4c47-43ea-90a9-c1f4820ba504"
      },
      "source": [
        "plt.figure(figsize = (14,10))\n",
        "plt.xticks(rotation='90')\n",
        "plt.get_cmap('jet')\n",
        "plt.barh(y= Most_correlated_features.index.values, width= Most_correlated_features , color = colors )\n",
        "plt.title(\"10 features most correlated to damage\",fontsize = 16)\n",
        "\n",
        "plt.xlabel('correlation rate',fontsize = 16)"
      ],
      "execution_count": 77,
      "outputs": [
        {
          "output_type": "execute_result",
          "data": {
            "text/plain": [
              "Text(0.5, 0, 'correlation rate')"
            ]
          },
          "metadata": {
            "tags": []
          },
          "execution_count": 77
        },
        {
          "output_type": "display_data",
          "data": {
            "image/png": "[encoded data removed]",
            "text/plain": [
              "<Figure size 1008x720 with 1 Axes>"
            ]
          },
          "metadata": {
            "tags": [],
            "needs_background": "light"
          }
        }
      ]
    },
    {
      "cell_type": "code",
      "metadata": {
        "id": "LdoM-G-WSV3i"
      },
      "source": [
        "cm_subsection = np.linspace(start, stop, 2) \n",
        "colors = [ cm.coolwarm(x) for x in cm_subsection ]"
      ],
      "execution_count": 78,
      "outputs": []
    },
    {
      "cell_type": "code",
      "metadata": {
        "id": "ZpShvuj-PWS1",
        "colab": {
          "base_uri": "https://localhost:8080/",
          "height": 406
        },
        "outputId": "86f1c112-e13c-42ff-deac-cd194220eec6"
      },
      "source": [
        "\n",
        "plt.subplots(figsize=(8,6))\n",
        "has_secondary_use =  total_train['has_secondary_use'].value_counts()\n",
        "plt.bar(has_secondary_use.index ,  has_secondary_use.values ,color= colors  )\n",
        "plt.title(\"Was the building used for any secondary purpose\" ,fontsize=15 )\n",
        "\n",
        "plt.xlabel(\"0 = no ; 1 = yes\")\n",
        "plt.show()"
      ],
      "execution_count": 79,
      "outputs": [
        {
          "output_type": "display_data",
          "data": {
            "image/png": "[encoded data removed]",
            "text/plain": [
              "<Figure size 576x432 with 1 Axes>"
            ]
          },
          "metadata": {
            "tags": [],
            "needs_background": "light"
          }
        }
      ]
    },
    {
      "cell_type": "code",
      "metadata": {
        "id": "RQIZMR_hTgEH",
        "colab": {
          "base_uri": "https://localhost:8080/",
          "height": 406
        },
        "outputId": "d65ca918-1115-4b9b-ca8b-3460e3fd57c5"
      },
      "source": [
        "plt.subplots(figsize=(8,6))\n",
        "has_secondary_use_rental =  total_train['has_secondary_use_rental'].value_counts()\n",
        "plt.bar(has_secondary_use_rental.index ,  has_secondary_use_rental.values ,color= colors  )\n",
        "plt.title(\"Was the building used for rental secondary purpose\" ,fontsize=15 )\n",
        "\n",
        "plt.xlabel(\"0 = no ; 1 = yes\")\n",
        "plt.show()"
      ],
      "execution_count": 80,
      "outputs": [
        {
          "output_type": "display_data",
          "data": {
            "image/png": "[encoded data removed]",
            "text/plain": [
              "<Figure size 576x432 with 1 Axes>"
            ]
          },
          "metadata": {
            "tags": [],
            "needs_background": "light"
          }
        }
      ]
    },
    {
      "cell_type": "code",
      "metadata": {
        "id": "viu29Qq1ewTZ",
        "colab": {
          "base_uri": "https://localhost:8080/",
          "height": 406
        },
        "outputId": "aa024a6d-53dc-426d-c9fb-7412e7bb90b5"
      },
      "source": [
        "plt.subplots(figsize=(8,6))\n",
        "has_secondary_use_hotel =  total_train['has_secondary_use_hotel'].value_counts()\n",
        "plt.bar(has_secondary_use_hotel.index ,  has_secondary_use_hotel.values ,color= colors  )\n",
        "plt.title(\"Was the building used for hotel secondary purpose ?\" ,fontsize=15 )\n",
        "\n",
        "plt.xlabel(\"0 = no ; 1 = yes\")\n",
        "plt.show()"
      ],
      "execution_count": 81,
      "outputs": [
        {
          "output_type": "display_data",
          "data": {
            "image/png": "[encoded data removed]",
            "text/plain": [
              "<Figure size 576x432 with 1 Axes>"
            ]
          },
          "metadata": {
            "tags": [],
            "needs_background": "light"
          }
        }
      ]
    },
    {
      "cell_type": "code",
      "metadata": {
        "id": "8yjsHa4lexgA",
        "colab": {
          "base_uri": "https://localhost:8080/",
          "height": 392
        },
        "outputId": "8859a59c-c4c9-408e-96be-99c9903ef7d5"
      },
      "source": [
        "start = 0.0\n",
        "stop = 1.0\n",
        "number_of_lines= 8\n",
        "cm_subsection = np.linspace(start, stop, number_of_lines) \n",
        "colors1 = [ cm.jet(x) for x in cm_subsection ]\n",
        "\n",
        "\n",
        "plt.subplots(figsize=(8,6))\n",
        "count_floors_pre_eq =  total_train['count_floors_pre_eq'].value_counts()\n",
        "plt.bar(count_floors_pre_eq.index ,  count_floors_pre_eq.values ,color= colors1  )\n",
        "plt.title(\"Number of floors in the building\" ,fontsize=15 )\n",
        "plt.show()"
      ],
      "execution_count": 82,
      "outputs": [
        {
          "output_type": "display_data",
          "data": {
            "image/png": "[encoded data removed]",
            "text/plain": [
              "<Figure size 576x432 with 1 Axes>"
            ]
          },
          "metadata": {
            "tags": [],
            "needs_background": "light"
          }
        }
      ]
    },
    {
      "cell_type": "code",
      "metadata": {
        "id": "aiFQy49Ji8vr",
        "colab": {
          "base_uri": "https://localhost:8080/",
          "height": 501
        },
        "outputId": "eae5ba48-2a0e-4d08-d8b5-9b2b883eed56"
      },
      "source": [
        "start = 0.0\n",
        "stop = 1.0\n",
        "number_of_lines= 60\n",
        "cm_subsection = np.linspace(start, stop, number_of_lines) \n",
        "colors2 = [ cm.jet(x) for x in cm_subsection ]\n",
        "\n",
        "plt.subplots(figsize=(14,8))\n",
        "area_percentage = total_train[(total_train['area_percentage']<50)]\n",
        "area_percentage =  area_percentage['area_percentage'].value_counts() \n",
        "plt.bar(area_percentage.index ,  area_percentage.values ,color= colors2  )\n",
        "plt.title(\"Normalized area of the building footprint\" ,fontsize=15 )\n",
        "\n",
        "plt.xlabel('')\n",
        "plt.show()"
      ],
      "execution_count": 83,
      "outputs": [
        {
          "output_type": "display_data",
          "data": {
            "image/png": "[encoded data removed]",
            "text/plain": [
              "<Figure size 1008x576 with 1 Axes>"
            ]
          },
          "metadata": {
            "tags": [],
            "needs_background": "light"
          }
        }
      ]
    },
    {
      "cell_type": "code",
      "metadata": {
        "id": "o9LkGVhmfd8L",
        "colab": {
          "base_uri": "https://localhost:8080/",
          "height": 406
        },
        "outputId": "579cf246-7a6b-4102-d1f2-2ef9bce8f12e"
      },
      "source": [
        "plt.subplots(figsize=(8,6))\n",
        "has_superstructure_rc_non_engineered =  total_train['has_superstructure_rc_non_engineered'].value_counts()\n",
        "plt.bar(has_superstructure_rc_non_engineered.index ,  has_superstructure_rc_non_engineered.values ,color= colors  )\n",
        "plt.title(\"Was Superstructure made of non engineered reinforced concrete?\" ,fontsize=15 )\n",
        "plt.xlabel(\"0 = no ; 1 = yes\")\n",
        "plt.show()"
      ],
      "execution_count": 84,
      "outputs": [
        {
          "output_type": "display_data",
          "data": {
            "image/png": "[encoded data removed]",
            "text/plain": [
              "<Figure size 576x432 with 1 Axes>"
            ]
          },
          "metadata": {
            "tags": [],
            "needs_background": "light"
          }
        }
      ]
    },
    {
      "cell_type": "code",
      "metadata": {
        "id": "zFnmqRrXfwUp",
        "colab": {
          "base_uri": "https://localhost:8080/",
          "height": 406
        },
        "outputId": "9a1fbc17-7699-4d05-a00c-8a77266c93ce"
      },
      "source": [
        "plt.subplots(figsize=(8,6))\n",
        "has_superstructure_rc_engineered =  total_train['has_superstructure_rc_engineered'].value_counts()\n",
        "plt.bar(has_superstructure_rc_engineered.index ,  has_superstructure_rc_engineered.values ,color= colors  )\n",
        "plt.title(\"Was superstructure  made of engineered reinforced concrete?\" ,fontsize=15 )\n",
        "\n",
        "plt.xlabel(\"0 = no ; 1 = yes\")\n",
        "plt.show()"
      ],
      "execution_count": 85,
      "outputs": [
        {
          "output_type": "display_data",
          "data": {
            "image/png": "[encoded data removed]",
            "text/plain": [
              "<Figure size 576x432 with 1 Axes>"
            ]
          },
          "metadata": {
            "tags": [],
            "needs_background": "light"
          }
        }
      ]
    },
    {
      "cell_type": "code",
      "metadata": {
        "id": "pkKFwx0Wf2pu",
        "colab": {
          "base_uri": "https://localhost:8080/",
          "height": 406
        },
        "outputId": "13c0f040-68ff-4010-f347-ccb91391e7ab"
      },
      "source": [
        "plt.subplots(figsize=(8,6))\n",
        "has_superstructure_cement_mortar_stone =  total_train['has_superstructure_cement_mortar_stone'].value_counts()\n",
        "plt.bar(has_superstructure_cement_mortar_stone.index , has_superstructure_cement_mortar_stone.values ,color= colors  )\n",
        "plt.title(\"Was superstructure made of cement mortar?\" ,fontsize=15 )\n",
        "\n",
        "plt.xlabel(\"0 = no ; 1 = yes\")\n",
        "plt.show()"
      ],
      "execution_count": 86,
      "outputs": [
        {
          "output_type": "display_data",
          "data": {
            "image/png": "[encoded data removed]",
            "text/plain": [
              "<Figure size 576x432 with 1 Axes>"
            ]
          },
          "metadata": {
            "tags": [],
            "needs_background": "light"
          }
        }
      ]
    },
    {
      "cell_type": "code",
      "metadata": {
        "id": "Z7Z9UZhegeKA",
        "colab": {
          "base_uri": "https://localhost:8080/",
          "height": 406
        },
        "outputId": "755e4d99-977e-49c2-d29b-93ed9890c75c"
      },
      "source": [
        "plt.subplots(figsize=(8,6))\n",
        "has_superstructure_mud_mortar_stone  =  total_train['has_superstructure_mud_mortar_stone'].value_counts()\n",
        "plt.bar(has_superstructure_mud_mortar_stone.index , has_superstructure_mud_mortar_stone.values ,color= colors  )\n",
        "plt.title(\"was the superstructure  mud mortar stone ?\" ,fontsize=15 )\n",
        "\n",
        "plt.xlabel(\"0 = no ; 1 = yes\")\n",
        "plt.show()"
      ],
      "execution_count": 137,
      "outputs": [
        {
          "output_type": "display_data",
          "data": {
            "image/png": "[encoded data removed]",
            "text/plain": [
              "<Figure size 576x432 with 1 Axes>"
            ]
          },
          "metadata": {
            "tags": [],
            "needs_background": "light"
          }
        }
      ]
    },
    {
      "cell_type": "code",
      "metadata": {
        "id": "dD1sU6-P_YvA",
        "colab": {
          "base_uri": "https://localhost:8080/",
          "height": 609
        },
        "outputId": "441a3a0c-1301-469d-ccb5-69a1ffc2728f"
      },
      "source": [
        "start = 0.0\n",
        "stop = 1.0\n",
        "number_of_lines= 100\n",
        "cm_subsection = np.linspace(start, stop, number_of_lines) \n",
        "colors5 = [ cm.jet(x) for x in cm_subsection ]\n",
        "\n",
        "plt.subplots(figsize=(12,10))\n",
        "age  =  total_train['age'].value_counts()\n",
        "plt.bar(age.index , age.values ,color= colors5  )\n",
        "plt.title(\"age\" ,fontsize=15 )\n",
        "\n",
        "plt.xlabel(\"\")\n",
        "plt.show()"
      ],
      "execution_count": 88,
      "outputs": [
        {
          "output_type": "display_data",
          "data": {
            "image/png": "[encoded data removed]",
            "text/plain": [
              "<Figure size 864x720 with 1 Axes>"
            ]
          },
          "metadata": {
            "tags": [],
            "needs_background": "light"
          }
        }
      ]
    },
    {
      "cell_type": "markdown",
      "metadata": {
        "id": "EEq39YZZACw5"
      },
      "source": [
        "**As** **can** **be** **seen** **there** **is** **an** **anomaly** **in** **the** **age** **columns**. **We** **have** **to** **fix** **this**."
      ]
    },
    {
      "cell_type": "code",
      "metadata": {
        "id": "9CaKScYUMVxu"
      },
      "source": [
        "total_df = pd.concat([x_train , x_test],axis = 0)"
      ],
      "execution_count": 89,
      "outputs": []
    },
    {
      "cell_type": "code",
      "metadata": {
        "id": "aY9a1okZMixX"
      },
      "source": [
        "unique, counts = np.unique(total_df['age'].values, return_counts=True)\n",
        "age_dict = dict(zip(unique, counts))"
      ],
      "execution_count": 90,
      "outputs": []
    },
    {
      "cell_type": "code",
      "metadata": {
        "id": "WaSe5-8qMp52",
        "colab": {
          "base_uri": "https://localhost:8080/"
        },
        "outputId": "25ffa515-5e1b-4d01-fd89-6445c31190e9"
      },
      "source": [
        "print(age_dict)"
      ],
      "execution_count": 91,
      "outputs": [
        {
          "output_type": "stream",
          "text": [
            "{0: 34725, 5: 45045, 10: 51680, 15: 48074, 20: 42792, 25: 32586, 30: 23977, 35: 14420, 40: 14050, 45: 6255, 50: 9619, 55: 2695, 60: 4773, 65: 1497, 70: 2679, 75: 693, 80: 4087, 85: 1133, 90: 1426, 95: 547, 100: 1880, 105: 119, 110: 142, 115: 30, 120: 236, 125: 62, 130: 13, 135: 5, 140: 11, 145: 3, 150: 179, 155: 4, 160: 8, 165: 2, 170: 7, 175: 5, 180: 11, 185: 1, 190: 5, 195: 2, 200: 140, 995: 1851}\n"
          ],
          "name": "stdout"
        }
      ]
    },
    {
      "cell_type": "code",
      "metadata": {
        "id": "53ib_oP6Be6u",
        "colab": {
          "base_uri": "https://localhost:8080/"
        },
        "outputId": "f4b14e60-5bc2-46e9-ab6c-1d54efd6aea4"
      },
      "source": [
        "age_df.mean()"
      ],
      "execution_count": 92,
      "outputs": [
        {
          "output_type": "execute_result",
          "data": {
            "text/plain": [
              "26.535028645323695"
            ]
          },
          "metadata": {
            "tags": []
          },
          "execution_count": 92
        }
      ]
    },
    {
      "cell_type": "code",
      "metadata": {
        "id": "jQSmeZHUGBck"
      },
      "source": [
        "total_df['age'].replace(995,27, inplace =True)"
      ],
      "execution_count": 93,
      "outputs": []
    },
    {
      "cell_type": "markdown",
      "metadata": {
        "id": "hUag7CaIeCQI"
      },
      "source": [
        "# Columns Encoding\n",
        "\n",
        "---\n",
        "\n",
        "\n",
        "\n",
        "\n",
        "\n",
        "\n"
      ]
    },
    {
      "cell_type": "markdown",
      "metadata": {
        "id": "czVDrlU2dHbK"
      },
      "source": [
        "**Age**"
      ]
    },
    {
      "cell_type": "code",
      "metadata": {
        "id": "NrolqGe_Gaqu"
      },
      "source": [
        "total_df['age'].replace([ _ for _ in range(15)],'very new', inplace =True)\n",
        "total_df['age'].replace([ _ for _ in range(15,31)],'new', inplace =True)\n",
        "total_df['age'].replace([ _ for _ in range(31,61)],'middle aged', inplace =True)\n",
        "total_df['age'].replace([ _ for _ in range(61,102) ],'old', inplace =True)\n",
        "total_df['age'].replace([ _ for _ in range(102,202) ],'very old', inplace =True)"
      ],
      "execution_count": 94,
      "outputs": []
    },
    {
      "cell_type": "code",
      "metadata": {
        "id": "xVCW_hGdeLWa",
        "colab": {
          "base_uri": "https://localhost:8080/",
          "height": 392
        },
        "outputId": "1efb3918-8a1a-4d3b-bc53-a76c0330dfa1"
      },
      "source": [
        "start = 0.0\n",
        "stop = 1.0\n",
        "number_of_lines= 5\n",
        "cm_subsection = np.linspace(start, stop, number_of_lines) \n",
        "colors4 = [ cm.jet(x) for x in cm_subsection ]\n",
        "\n",
        "plt.subplots(figsize=(8,6))\n",
        "age = total_df['age'].value_counts()\n",
        "plt.bar(x = age.index , height = age.values, color = colors4)\n",
        "plt.title(\"New Age Columns\" ,fontsize=15 )\n",
        "plt.show()"
      ],
      "execution_count": 95,
      "outputs": [
        {
          "output_type": "display_data",
          "data": {
            "image/png": "[encoded data removed]",
            "text/plain": [
              "<Figure size 576x432 with 1 Axes>"
            ]
          },
          "metadata": {
            "tags": [],
            "needs_background": "light"
          }
        }
      ]
    },
    {
      "cell_type": "markdown",
      "metadata": {
        "id": "yPHizVe_aMr-"
      },
      "source": [
        "**Count** **Floors**"
      ]
    },
    {
      "cell_type": "code",
      "metadata": {
        "id": "Cx-gpdSLY9Pl",
        "colab": {
          "base_uri": "https://localhost:8080/",
          "height": 472
        },
        "outputId": "d815132b-01f1-41f2-b71e-bce1dc080e2e"
      },
      "source": [
        "total_df.head(10)"
      ],
      "execution_count": 96,
      "outputs": [
        {
          "output_type": "execute_result",
          "data": {
            "text/html": [
              "<div>\n",
              "<style scoped>\n",
              "    .dataframe tbody tr th:only-of-type {\n",
              "        vertical-align: middle;\n",
              "    }\n",
              "\n",
              "    .dataframe tbody tr th {\n",
              "        vertical-align: top;\n",
              "    }\n",
              "\n",
              "    .dataframe thead th {\n",
              "        text-align: right;\n",
              "    }\n",
              "</style>\n",
              "<table border=\"1\" class=\"dataframe\">\n",
              "  <thead>\n",
              "    <tr style=\"text-align: right;\">\n",
              "      <th></th>\n",
              "      <th>geo_level_1_id</th>\n",
              "      <th>geo_level_2_id</th>\n",
              "      <th>geo_level_3_id</th>\n",
              "      <th>count_floors_pre_eq</th>\n",
              "      <th>age</th>\n",
              "      <th>area_percentage</th>\n",
              "      <th>height_percentage</th>\n",
              "      <th>land_surface_condition</th>\n",
              "      <th>foundation_type</th>\n",
              "      <th>roof_type</th>\n",
              "      <th>ground_floor_type</th>\n",
              "      <th>other_floor_type</th>\n",
              "      <th>position</th>\n",
              "      <th>plan_configuration</th>\n",
              "      <th>has_superstructure_adobe_mud</th>\n",
              "      <th>has_superstructure_mud_mortar_stone</th>\n",
              "      <th>has_superstructure_stone_flag</th>\n",
              "      <th>has_superstructure_cement_mortar_stone</th>\n",
              "      <th>has_superstructure_mud_mortar_brick</th>\n",
              "      <th>has_superstructure_cement_mortar_brick</th>\n",
              "      <th>has_superstructure_timber</th>\n",
              "      <th>has_superstructure_bamboo</th>\n",
              "      <th>has_superstructure_rc_non_engineered</th>\n",
              "      <th>has_superstructure_rc_engineered</th>\n",
              "      <th>has_superstructure_other</th>\n",
              "      <th>legal_ownership_status</th>\n",
              "      <th>count_families</th>\n",
              "      <th>has_secondary_use</th>\n",
              "      <th>has_secondary_use_agriculture</th>\n",
              "      <th>has_secondary_use_hotel</th>\n",
              "      <th>has_secondary_use_rental</th>\n",
              "      <th>has_secondary_use_institution</th>\n",
              "      <th>has_secondary_use_school</th>\n",
              "      <th>has_secondary_use_industry</th>\n",
              "      <th>has_secondary_use_health_post</th>\n",
              "      <th>has_secondary_use_gov_office</th>\n",
              "      <th>has_secondary_use_use_police</th>\n",
              "      <th>has_secondary_use_other</th>\n",
              "    </tr>\n",
              "  </thead>\n",
              "  <tbody>\n",
              "    <tr>\n",
              "      <th>0</th>\n",
              "      <td>6</td>\n",
              "      <td>487</td>\n",
              "      <td>12198</td>\n",
              "      <td>2</td>\n",
              "      <td>new</td>\n",
              "      <td>6</td>\n",
              "      <td>5</td>\n",
              "      <td>t</td>\n",
              "      <td>r</td>\n",
              "      <td>n</td>\n",
              "      <td>f</td>\n",
              "      <td>q</td>\n",
              "      <td>t</td>\n",
              "      <td>d</td>\n",
              "      <td>1</td>\n",
              "      <td>1</td>\n",
              "      <td>0</td>\n",
              "      <td>0</td>\n",
              "      <td>0</td>\n",
              "      <td>0</td>\n",
              "      <td>0</td>\n",
              "      <td>0</td>\n",
              "      <td>0</td>\n",
              "      <td>0</td>\n",
              "      <td>0</td>\n",
              "      <td>v</td>\n",
              "      <td>1</td>\n",
              "      <td>0</td>\n",
              "      <td>0</td>\n",
              "      <td>0</td>\n",
              "      <td>0</td>\n",
              "      <td>0</td>\n",
              "      <td>0</td>\n",
              "      <td>0</td>\n",
              "      <td>0</td>\n",
              "      <td>0</td>\n",
              "      <td>0</td>\n",
              "      <td>0</td>\n",
              "    </tr>\n",
              "    <tr>\n",
              "      <th>1</th>\n",
              "      <td>8</td>\n",
              "      <td>900</td>\n",
              "      <td>2812</td>\n",
              "      <td>2</td>\n",
              "      <td>very new</td>\n",
              "      <td>8</td>\n",
              "      <td>7</td>\n",
              "      <td>o</td>\n",
              "      <td>r</td>\n",
              "      <td>n</td>\n",
              "      <td>x</td>\n",
              "      <td>q</td>\n",
              "      <td>s</td>\n",
              "      <td>d</td>\n",
              "      <td>0</td>\n",
              "      <td>1</td>\n",
              "      <td>0</td>\n",
              "      <td>0</td>\n",
              "      <td>0</td>\n",
              "      <td>0</td>\n",
              "      <td>0</td>\n",
              "      <td>0</td>\n",
              "      <td>0</td>\n",
              "      <td>0</td>\n",
              "      <td>0</td>\n",
              "      <td>v</td>\n",
              "      <td>1</td>\n",
              "      <td>0</td>\n",
              "      <td>0</td>\n",
              "      <td>0</td>\n",
              "      <td>0</td>\n",
              "      <td>0</td>\n",
              "      <td>0</td>\n",
              "      <td>0</td>\n",
              "      <td>0</td>\n",
              "      <td>0</td>\n",
              "      <td>0</td>\n",
              "      <td>0</td>\n",
              "    </tr>\n",
              "    <tr>\n",
              "      <th>2</th>\n",
              "      <td>21</td>\n",
              "      <td>363</td>\n",
              "      <td>8973</td>\n",
              "      <td>2</td>\n",
              "      <td>very new</td>\n",
              "      <td>5</td>\n",
              "      <td>5</td>\n",
              "      <td>t</td>\n",
              "      <td>r</td>\n",
              "      <td>n</td>\n",
              "      <td>f</td>\n",
              "      <td>x</td>\n",
              "      <td>t</td>\n",
              "      <td>d</td>\n",
              "      <td>0</td>\n",
              "      <td>1</td>\n",
              "      <td>0</td>\n",
              "      <td>0</td>\n",
              "      <td>0</td>\n",
              "      <td>0</td>\n",
              "      <td>0</td>\n",
              "      <td>0</td>\n",
              "      <td>0</td>\n",
              "      <td>0</td>\n",
              "      <td>0</td>\n",
              "      <td>v</td>\n",
              "      <td>1</td>\n",
              "      <td>0</td>\n",
              "      <td>0</td>\n",
              "      <td>0</td>\n",
              "      <td>0</td>\n",
              "      <td>0</td>\n",
              "      <td>0</td>\n",
              "      <td>0</td>\n",
              "      <td>0</td>\n",
              "      <td>0</td>\n",
              "      <td>0</td>\n",
              "      <td>0</td>\n",
              "    </tr>\n",
              "    <tr>\n",
              "      <th>3</th>\n",
              "      <td>22</td>\n",
              "      <td>418</td>\n",
              "      <td>10694</td>\n",
              "      <td>2</td>\n",
              "      <td>very new</td>\n",
              "      <td>6</td>\n",
              "      <td>5</td>\n",
              "      <td>t</td>\n",
              "      <td>r</td>\n",
              "      <td>n</td>\n",
              "      <td>f</td>\n",
              "      <td>x</td>\n",
              "      <td>s</td>\n",
              "      <td>d</td>\n",
              "      <td>0</td>\n",
              "      <td>1</td>\n",
              "      <td>0</td>\n",
              "      <td>0</td>\n",
              "      <td>0</td>\n",
              "      <td>0</td>\n",
              "      <td>1</td>\n",
              "      <td>1</td>\n",
              "      <td>0</td>\n",
              "      <td>0</td>\n",
              "      <td>0</td>\n",
              "      <td>v</td>\n",
              "      <td>1</td>\n",
              "      <td>0</td>\n",
              "      <td>0</td>\n",
              "      <td>0</td>\n",
              "      <td>0</td>\n",
              "      <td>0</td>\n",
              "      <td>0</td>\n",
              "      <td>0</td>\n",
              "      <td>0</td>\n",
              "      <td>0</td>\n",
              "      <td>0</td>\n",
              "      <td>0</td>\n",
              "    </tr>\n",
              "    <tr>\n",
              "      <th>4</th>\n",
              "      <td>11</td>\n",
              "      <td>131</td>\n",
              "      <td>1488</td>\n",
              "      <td>3</td>\n",
              "      <td>new</td>\n",
              "      <td>8</td>\n",
              "      <td>9</td>\n",
              "      <td>t</td>\n",
              "      <td>r</td>\n",
              "      <td>n</td>\n",
              "      <td>f</td>\n",
              "      <td>x</td>\n",
              "      <td>s</td>\n",
              "      <td>d</td>\n",
              "      <td>1</td>\n",
              "      <td>0</td>\n",
              "      <td>0</td>\n",
              "      <td>0</td>\n",
              "      <td>0</td>\n",
              "      <td>0</td>\n",
              "      <td>0</td>\n",
              "      <td>0</td>\n",
              "      <td>0</td>\n",
              "      <td>0</td>\n",
              "      <td>0</td>\n",
              "      <td>v</td>\n",
              "      <td>1</td>\n",
              "      <td>0</td>\n",
              "      <td>0</td>\n",
              "      <td>0</td>\n",
              "      <td>0</td>\n",
              "      <td>0</td>\n",
              "      <td>0</td>\n",
              "      <td>0</td>\n",
              "      <td>0</td>\n",
              "      <td>0</td>\n",
              "      <td>0</td>\n",
              "      <td>0</td>\n",
              "    </tr>\n",
              "    <tr>\n",
              "      <th>5</th>\n",
              "      <td>8</td>\n",
              "      <td>558</td>\n",
              "      <td>6089</td>\n",
              "      <td>2</td>\n",
              "      <td>very new</td>\n",
              "      <td>9</td>\n",
              "      <td>5</td>\n",
              "      <td>t</td>\n",
              "      <td>r</td>\n",
              "      <td>n</td>\n",
              "      <td>f</td>\n",
              "      <td>q</td>\n",
              "      <td>s</td>\n",
              "      <td>d</td>\n",
              "      <td>0</td>\n",
              "      <td>1</td>\n",
              "      <td>0</td>\n",
              "      <td>0</td>\n",
              "      <td>0</td>\n",
              "      <td>0</td>\n",
              "      <td>0</td>\n",
              "      <td>0</td>\n",
              "      <td>0</td>\n",
              "      <td>0</td>\n",
              "      <td>0</td>\n",
              "      <td>v</td>\n",
              "      <td>1</td>\n",
              "      <td>1</td>\n",
              "      <td>1</td>\n",
              "      <td>0</td>\n",
              "      <td>0</td>\n",
              "      <td>0</td>\n",
              "      <td>0</td>\n",
              "      <td>0</td>\n",
              "      <td>0</td>\n",
              "      <td>0</td>\n",
              "      <td>0</td>\n",
              "      <td>0</td>\n",
              "    </tr>\n",
              "    <tr>\n",
              "      <th>6</th>\n",
              "      <td>9</td>\n",
              "      <td>475</td>\n",
              "      <td>12066</td>\n",
              "      <td>2</td>\n",
              "      <td>new</td>\n",
              "      <td>3</td>\n",
              "      <td>4</td>\n",
              "      <td>n</td>\n",
              "      <td>r</td>\n",
              "      <td>n</td>\n",
              "      <td>x</td>\n",
              "      <td>q</td>\n",
              "      <td>s</td>\n",
              "      <td>d</td>\n",
              "      <td>0</td>\n",
              "      <td>1</td>\n",
              "      <td>0</td>\n",
              "      <td>0</td>\n",
              "      <td>0</td>\n",
              "      <td>0</td>\n",
              "      <td>0</td>\n",
              "      <td>0</td>\n",
              "      <td>0</td>\n",
              "      <td>0</td>\n",
              "      <td>0</td>\n",
              "      <td>v</td>\n",
              "      <td>1</td>\n",
              "      <td>0</td>\n",
              "      <td>0</td>\n",
              "      <td>0</td>\n",
              "      <td>0</td>\n",
              "      <td>0</td>\n",
              "      <td>0</td>\n",
              "      <td>0</td>\n",
              "      <td>0</td>\n",
              "      <td>0</td>\n",
              "      <td>0</td>\n",
              "      <td>0</td>\n",
              "    </tr>\n",
              "    <tr>\n",
              "      <th>7</th>\n",
              "      <td>20</td>\n",
              "      <td>323</td>\n",
              "      <td>12236</td>\n",
              "      <td>2</td>\n",
              "      <td>very new</td>\n",
              "      <td>8</td>\n",
              "      <td>6</td>\n",
              "      <td>t</td>\n",
              "      <td>w</td>\n",
              "      <td>q</td>\n",
              "      <td>v</td>\n",
              "      <td>x</td>\n",
              "      <td>s</td>\n",
              "      <td>u</td>\n",
              "      <td>0</td>\n",
              "      <td>0</td>\n",
              "      <td>0</td>\n",
              "      <td>0</td>\n",
              "      <td>0</td>\n",
              "      <td>1</td>\n",
              "      <td>1</td>\n",
              "      <td>0</td>\n",
              "      <td>0</td>\n",
              "      <td>0</td>\n",
              "      <td>0</td>\n",
              "      <td>v</td>\n",
              "      <td>1</td>\n",
              "      <td>0</td>\n",
              "      <td>0</td>\n",
              "      <td>0</td>\n",
              "      <td>0</td>\n",
              "      <td>0</td>\n",
              "      <td>0</td>\n",
              "      <td>0</td>\n",
              "      <td>0</td>\n",
              "      <td>0</td>\n",
              "      <td>0</td>\n",
              "      <td>0</td>\n",
              "    </tr>\n",
              "    <tr>\n",
              "      <th>8</th>\n",
              "      <td>0</td>\n",
              "      <td>757</td>\n",
              "      <td>7219</td>\n",
              "      <td>2</td>\n",
              "      <td>new</td>\n",
              "      <td>8</td>\n",
              "      <td>6</td>\n",
              "      <td>t</td>\n",
              "      <td>r</td>\n",
              "      <td>q</td>\n",
              "      <td>f</td>\n",
              "      <td>q</td>\n",
              "      <td>s</td>\n",
              "      <td>d</td>\n",
              "      <td>0</td>\n",
              "      <td>1</td>\n",
              "      <td>0</td>\n",
              "      <td>0</td>\n",
              "      <td>0</td>\n",
              "      <td>0</td>\n",
              "      <td>1</td>\n",
              "      <td>0</td>\n",
              "      <td>0</td>\n",
              "      <td>0</td>\n",
              "      <td>0</td>\n",
              "      <td>v</td>\n",
              "      <td>1</td>\n",
              "      <td>0</td>\n",
              "      <td>0</td>\n",
              "      <td>0</td>\n",
              "      <td>0</td>\n",
              "      <td>0</td>\n",
              "      <td>0</td>\n",
              "      <td>0</td>\n",
              "      <td>0</td>\n",
              "      <td>0</td>\n",
              "      <td>0</td>\n",
              "      <td>0</td>\n",
              "    </tr>\n",
              "    <tr>\n",
              "      <th>9</th>\n",
              "      <td>26</td>\n",
              "      <td>886</td>\n",
              "      <td>994</td>\n",
              "      <td>1</td>\n",
              "      <td>very new</td>\n",
              "      <td>13</td>\n",
              "      <td>4</td>\n",
              "      <td>t</td>\n",
              "      <td>i</td>\n",
              "      <td>n</td>\n",
              "      <td>v</td>\n",
              "      <td>j</td>\n",
              "      <td>s</td>\n",
              "      <td>d</td>\n",
              "      <td>0</td>\n",
              "      <td>0</td>\n",
              "      <td>0</td>\n",
              "      <td>0</td>\n",
              "      <td>0</td>\n",
              "      <td>1</td>\n",
              "      <td>0</td>\n",
              "      <td>0</td>\n",
              "      <td>0</td>\n",
              "      <td>0</td>\n",
              "      <td>0</td>\n",
              "      <td>v</td>\n",
              "      <td>1</td>\n",
              "      <td>0</td>\n",
              "      <td>0</td>\n",
              "      <td>0</td>\n",
              "      <td>0</td>\n",
              "      <td>0</td>\n",
              "      <td>0</td>\n",
              "      <td>0</td>\n",
              "      <td>0</td>\n",
              "      <td>0</td>\n",
              "      <td>0</td>\n",
              "      <td>0</td>\n",
              "    </tr>\n",
              "  </tbody>\n",
              "</table>\n",
              "</div>"
            ],
            "text/plain": [
              "   geo_level_1_id  ...  has_secondary_use_other\n",
              "0               6  ...                        0\n",
              "1               8  ...                        0\n",
              "2              21  ...                        0\n",
              "3              22  ...                        0\n",
              "4              11  ...                        0\n",
              "5               8  ...                        0\n",
              "6               9  ...                        0\n",
              "7              20  ...                        0\n",
              "8               0  ...                        0\n",
              "9              26  ...                        0\n",
              "\n",
              "[10 rows x 38 columns]"
            ]
          },
          "metadata": {
            "tags": []
          },
          "execution_count": 96
        }
      ]
    },
    {
      "cell_type": "code",
      "metadata": {
        "id": "1Jpec9SUZUxk",
        "colab": {
          "base_uri": "https://localhost:8080/"
        },
        "outputId": "2c79bb59-20e9-4fd7-d70d-736a678247af"
      },
      "source": [
        "unique, counts = np.unique(total_df['count_floors_pre_eq'].values, return_counts=True)\n",
        "count_dict = dict(zip(unique, counts))\n",
        "print(count_dict)"
      ],
      "execution_count": 97,
      "outputs": [
        {
          "output_type": "stream",
          "text": [
            "{1: 53705, 2: 209029, 3: 74171, 4: 7186, 5: 3039, 6: 283, 7: 52, 8: 3, 9: 1}\n"
          ],
          "name": "stdout"
        }
      ]
    },
    {
      "cell_type": "code",
      "metadata": {
        "id": "g428xCJ-Y3N_"
      },
      "source": [
        "total_df['count_floors_pre_eq'].replace([ _ for _ in range(0,2)],'1 floor', inplace =True)\n",
        "total_df['count_floors_pre_eq'].replace([ _ for _ in range(2,3)],'2 floors', inplace =True)\n",
        "total_df['count_floors_pre_eq'].replace([ _ for _ in range(3,4)],'3 floors', inplace =True)\n",
        "total_df['count_floors_pre_eq'].replace([ _ for _ in range(4,5)],'4 floors', inplace =True)\n",
        "total_df['count_floors_pre_eq'].replace([ _ for _ in range(5,7)],'5-6 floors', inplace =True)\n",
        "total_df['count_floors_pre_eq'].replace([ _ for _ in range(7,10) ],'7+ floors', inplace =True)"
      ],
      "execution_count": 98,
      "outputs": []
    },
    {
      "cell_type": "code",
      "metadata": {
        "id": "8bDCoqBAalTJ",
        "colab": {
          "base_uri": "https://localhost:8080/",
          "height": 392
        },
        "outputId": "64b19619-75cc-4cba-88b3-3ebde60c32a8"
      },
      "source": [
        "start = 0.0\n",
        "stop = 1.0\n",
        "number_of_lines= 6\n",
        "cm_subsection = np.linspace(start, stop, number_of_lines) \n",
        "colors4 = [ cm.jet(x) for x in cm_subsection ]\n",
        "\n",
        "plt.subplots(figsize=(8,6))\n",
        "floor = total_df['count_floors_pre_eq'].value_counts()\n",
        "plt.bar(x = floor.index , height = floor.values, color = colors4)\n",
        "plt.title(\"New Number of Floors\" ,fontsize=15 )\n",
        "plt.show()"
      ],
      "execution_count": 99,
      "outputs": [
        {
          "output_type": "display_data",
          "data": {
            "image/png": "[encoded data removed]",
            "text/plain": [
              "<Figure size 576x432 with 1 Axes>"
            ]
          },
          "metadata": {
            "tags": [],
            "needs_background": "light"
          }
        }
      ]
    },
    {
      "cell_type": "markdown",
      "metadata": {
        "id": "5CenIWI0dY06"
      },
      "source": [
        "**Area** **Percentage**"
      ]
    },
    {
      "cell_type": "code",
      "metadata": {
        "id": "2ZI7AR8Wc4lC"
      },
      "source": [
        "unique, counts = np.unique(total_df['area_percentage'].values, return_counts=True)\n",
        "area_dict = dict(zip(unique, counts))"
      ],
      "execution_count": 100,
      "outputs": []
    },
    {
      "cell_type": "code",
      "metadata": {
        "id": "fekggrB2pnK8",
        "colab": {
          "base_uri": "https://localhost:8080/"
        },
        "outputId": "74f68af1-6df9-44f9-f9f7-424511fe72c3"
      },
      "source": [
        "print(area_dict)"
      ],
      "execution_count": 101,
      "outputs": [
        {
          "output_type": "stream",
          "text": [
            "{1: 125, 2: 4275, 3: 15687, 4: 25675, 5: 43556, 6: 55959, 7: 49140, 8: 37988, 9: 29572, 10: 21030, 11: 18390, 12: 10148, 13: 7725, 14: 5532, 15: 4668, 16: 3465, 17: 3237, 18: 1738, 19: 2118, 20: 1411, 21: 892, 22: 526, 23: 1157, 24: 548, 25: 345, 26: 334, 27: 312, 28: 216, 29: 259, 30: 114, 31: 207, 32: 75, 33: 104, 34: 132, 35: 151, 36: 41, 37: 18, 38: 99, 39: 42, 40: 38, 41: 14, 42: 46, 43: 17, 44: 11, 45: 19, 46: 26, 47: 10, 48: 25, 49: 17, 50: 12, 51: 4, 52: 31, 53: 7, 54: 11, 55: 2, 56: 7, 57: 16, 58: 14, 59: 5, 60: 3, 61: 5, 62: 6, 63: 8, 64: 5, 65: 8, 66: 10, 67: 8, 69: 5, 70: 11, 72: 8, 73: 3, 75: 1, 76: 2, 77: 10, 78: 2, 80: 2, 81: 1, 82: 1, 83: 4, 84: 3, 85: 5, 86: 7, 90: 1, 92: 3, 96: 3, 100: 1}\n"
          ],
          "name": "stdout"
        }
      ]
    },
    {
      "cell_type": "code",
      "metadata": {
        "id": "dm5JTaGOqOVW"
      },
      "source": [
        "total_df['area_percentage'].replace([ _ for _ in range(0,7)],'very low percentage', inplace =True)\n",
        "total_df['area_percentage'].replace([ _ for _ in range(7,10)],'low percentage', inplace =True)\n",
        "total_df['area_percentage'].replace([ _ for _ in range(10,22)],'middle percentage', inplace =True)\n",
        "total_df['area_percentage'].replace([ _ for _ in range(22,35)],'high percentage', inplace =True)\n",
        "total_df['area_percentage'].replace([ _ for _ in range(35,101)],'very high percentage', inplace =True)\n"
      ],
      "execution_count": 102,
      "outputs": []
    },
    {
      "cell_type": "code",
      "metadata": {
        "id": "FZzu-3bnrl_p",
        "colab": {
          "base_uri": "https://localhost:8080/",
          "height": 598
        },
        "outputId": "32e9344e-ee87-451d-a8d7-7a73939c4d11"
      },
      "source": [
        "start = 0.0\n",
        "stop = 1.0\n",
        "number_of_lines= 4\n",
        "cm_subsection = np.linspace(start, stop, number_of_lines) \n",
        "colors4 = [ cm.jet(x) for x in cm_subsection ]\n",
        "\n",
        "plt.subplots(figsize=(10,8))\n",
        "area_percentage = total_df['area_percentage'].value_counts()\n",
        "plt.bar(x = area_percentage.index , height = area_percentage.values, color = colors4)\n",
        "plt.xticks(rotation='90')\n",
        "plt.title(\"New Area Footprints Percentage \" ,fontsize=15 )\n",
        "plt.show()"
      ],
      "execution_count": 103,
      "outputs": [
        {
          "output_type": "display_data",
          "data": {
            "image/png": "[encoded data removed]",
            "text/plain": [
              "<Figure size 720x576 with 1 Axes>"
            ]
          },
          "metadata": {
            "tags": [],
            "needs_background": "light"
          }
        }
      ]
    },
    {
      "cell_type": "markdown",
      "metadata": {
        "id": "tFEwQm_NubHQ"
      },
      "source": [
        "**Height** **Percentage**"
      ]
    },
    {
      "cell_type": "code",
      "metadata": {
        "id": "A_CXsPhwt1-5",
        "colab": {
          "base_uri": "https://localhost:8080/"
        },
        "outputId": "06061357-062a-4010-8bf8-b5103b3bf50e"
      },
      "source": [
        "unique, counts = np.unique(total_df['height_percentage'].values, return_counts=True)\n",
        "height_dict = dict(zip(unique, counts))\n",
        "print(height_dict)"
      ],
      "execution_count": 104,
      "outputs": [
        {
          "output_type": "stream",
          "text": [
            "{2: 12348, 3: 34535, 4: 50427, 5: 104869, 6: 61837, 7: 47360, 8: 18460, 9: 7146, 10: 5934, 11: 1242, 12: 1246, 13: 1036, 14: 85, 15: 399, 16: 246, 17: 11, 18: 95, 19: 8, 20: 41, 21: 21, 22: 3, 23: 12, 24: 6, 25: 4, 26: 3, 28: 2, 29: 1, 31: 2, 32: 90}\n"
          ],
          "name": "stdout"
        }
      ]
    },
    {
      "cell_type": "code",
      "metadata": {
        "id": "ijGD7cJAu1F1"
      },
      "source": [
        "total_df['height_percentage'].replace([ _ for _ in range(0,5)],'very low height', inplace =True)\n",
        "total_df['height_percentage'].replace([ _ for _ in range(5,6)],'low height', inplace =True)\n",
        "total_df['height_percentage'].replace([ _ for _ in range(6,8)],'middle height', inplace =True)\n",
        "total_df['height_percentage'].replace([ _ for _ in range(8,101)],'high height', inplace =True)"
      ],
      "execution_count": 105,
      "outputs": []
    },
    {
      "cell_type": "code",
      "metadata": {
        "id": "OG4jBYOpyzD8",
        "colab": {
          "base_uri": "https://localhost:8080/",
          "height": 568
        },
        "outputId": "c256c236-4f23-41d4-9a66-5d84b26f2c0d"
      },
      "source": [
        "start = 0.0\n",
        "stop = 1.0\n",
        "number_of_lines= 4\n",
        "cm_subsection = np.linspace(start, stop, number_of_lines) \n",
        "colors4 = [ cm.jet(x) for x in cm_subsection ]\n",
        "\n",
        "plt.subplots(figsize=(10,8))\n",
        "height_percentage = total_df['height_percentage'].value_counts()\n",
        "plt.bar(x = height_percentage.index , height = height_percentage.values, color = colors4)\n",
        "plt.xticks(rotation='90')\n",
        "plt.title(\"Height Footprints Percentage\" ,fontsize=15 )\n",
        "plt.show()"
      ],
      "execution_count": 106,
      "outputs": [
        {
          "output_type": "display_data",
          "data": {
            "image/png": "[encoded data removed]",
            "text/plain": [
              "<Figure size 720x576 with 1 Axes>"
            ]
          },
          "metadata": {
            "tags": [],
            "needs_background": "light"
          }
        }
      ]
    },
    {
      "cell_type": "code",
      "metadata": {
        "id": "c-T38TS69fKM",
        "colab": {
          "base_uri": "https://localhost:8080/"
        },
        "outputId": "d7014d7e-50d8-4718-d572-73964010c2eb"
      },
      "source": [
        "unique, counts = np.unique(total_df['geo_level_1_id'].values, return_counts=True)\n",
        "geo_level_1_dict = dict(zip(unique, counts))\n",
        "print(geo_level_1_dict)"
      ],
      "execution_count": 107,
      "outputs": [
        {
          "output_type": "stream",
          "text": [
            "{0: 5358, 1: 3588, 2: 1221, 3: 9995, 4: 19462, 5: 3579, 6: 32485, 7: 25565, 8: 25465, 9: 5213, 10: 29399, 11: 10895, 12: 4204, 13: 12846, 14: 2319, 15: 3134, 16: 5724, 17: 29265, 18: 4200, 19: 496, 20: 22761, 21: 19944, 22: 8358, 23: 1498, 24: 1737, 25: 7489, 26: 30002, 27: 16786, 28: 349, 29: 537, 30: 3595}\n"
          ],
          "name": "stdout"
        }
      ]
    },
    {
      "cell_type": "code",
      "metadata": {
        "id": "ZmKo2idw2EAK",
        "colab": {
          "base_uri": "https://localhost:8080/",
          "height": 270
        },
        "outputId": "a0874e9f-3b27-4cdb-b692-53b102cba11b"
      },
      "source": [
        "total_df.head()"
      ],
      "execution_count": 108,
      "outputs": [
        {
          "output_type": "execute_result",
          "data": {
            "text/html": [
              "<div>\n",
              "<style scoped>\n",
              "    .dataframe tbody tr th:only-of-type {\n",
              "        vertical-align: middle;\n",
              "    }\n",
              "\n",
              "    .dataframe tbody tr th {\n",
              "        vertical-align: top;\n",
              "    }\n",
              "\n",
              "    .dataframe thead th {\n",
              "        text-align: right;\n",
              "    }\n",
              "</style>\n",
              "<table border=\"1\" class=\"dataframe\">\n",
              "  <thead>\n",
              "    <tr style=\"text-align: right;\">\n",
              "      <th></th>\n",
              "      <th>geo_level_1_id</th>\n",
              "      <th>geo_level_2_id</th>\n",
              "      <th>geo_level_3_id</th>\n",
              "      <th>count_floors_pre_eq</th>\n",
              "      <th>age</th>\n",
              "      <th>area_percentage</th>\n",
              "      <th>height_percentage</th>\n",
              "      <th>land_surface_condition</th>\n",
              "      <th>foundation_type</th>\n",
              "      <th>roof_type</th>\n",
              "      <th>ground_floor_type</th>\n",
              "      <th>other_floor_type</th>\n",
              "      <th>position</th>\n",
              "      <th>plan_configuration</th>\n",
              "      <th>has_superstructure_adobe_mud</th>\n",
              "      <th>has_superstructure_mud_mortar_stone</th>\n",
              "      <th>has_superstructure_stone_flag</th>\n",
              "      <th>has_superstructure_cement_mortar_stone</th>\n",
              "      <th>has_superstructure_mud_mortar_brick</th>\n",
              "      <th>has_superstructure_cement_mortar_brick</th>\n",
              "      <th>has_superstructure_timber</th>\n",
              "      <th>has_superstructure_bamboo</th>\n",
              "      <th>has_superstructure_rc_non_engineered</th>\n",
              "      <th>has_superstructure_rc_engineered</th>\n",
              "      <th>has_superstructure_other</th>\n",
              "      <th>legal_ownership_status</th>\n",
              "      <th>count_families</th>\n",
              "      <th>has_secondary_use</th>\n",
              "      <th>has_secondary_use_agriculture</th>\n",
              "      <th>has_secondary_use_hotel</th>\n",
              "      <th>has_secondary_use_rental</th>\n",
              "      <th>has_secondary_use_institution</th>\n",
              "      <th>has_secondary_use_school</th>\n",
              "      <th>has_secondary_use_industry</th>\n",
              "      <th>has_secondary_use_health_post</th>\n",
              "      <th>has_secondary_use_gov_office</th>\n",
              "      <th>has_secondary_use_use_police</th>\n",
              "      <th>has_secondary_use_other</th>\n",
              "    </tr>\n",
              "  </thead>\n",
              "  <tbody>\n",
              "    <tr>\n",
              "      <th>0</th>\n",
              "      <td>6</td>\n",
              "      <td>487</td>\n",
              "      <td>12198</td>\n",
              "      <td>2 floors</td>\n",
              "      <td>new</td>\n",
              "      <td>very low percentage</td>\n",
              "      <td>low height</td>\n",
              "      <td>t</td>\n",
              "      <td>r</td>\n",
              "      <td>n</td>\n",
              "      <td>f</td>\n",
              "      <td>q</td>\n",
              "      <td>t</td>\n",
              "      <td>d</td>\n",
              "      <td>1</td>\n",
              "      <td>1</td>\n",
              "      <td>0</td>\n",
              "      <td>0</td>\n",
              "      <td>0</td>\n",
              "      <td>0</td>\n",
              "      <td>0</td>\n",
              "      <td>0</td>\n",
              "      <td>0</td>\n",
              "      <td>0</td>\n",
              "      <td>0</td>\n",
              "      <td>v</td>\n",
              "      <td>1</td>\n",
              "      <td>0</td>\n",
              "      <td>0</td>\n",
              "      <td>0</td>\n",
              "      <td>0</td>\n",
              "      <td>0</td>\n",
              "      <td>0</td>\n",
              "      <td>0</td>\n",
              "      <td>0</td>\n",
              "      <td>0</td>\n",
              "      <td>0</td>\n",
              "      <td>0</td>\n",
              "    </tr>\n",
              "    <tr>\n",
              "      <th>1</th>\n",
              "      <td>8</td>\n",
              "      <td>900</td>\n",
              "      <td>2812</td>\n",
              "      <td>2 floors</td>\n",
              "      <td>very new</td>\n",
              "      <td>low percentage</td>\n",
              "      <td>middle height</td>\n",
              "      <td>o</td>\n",
              "      <td>r</td>\n",
              "      <td>n</td>\n",
              "      <td>x</td>\n",
              "      <td>q</td>\n",
              "      <td>s</td>\n",
              "      <td>d</td>\n",
              "      <td>0</td>\n",
              "      <td>1</td>\n",
              "      <td>0</td>\n",
              "      <td>0</td>\n",
              "      <td>0</td>\n",
              "      <td>0</td>\n",
              "      <td>0</td>\n",
              "      <td>0</td>\n",
              "      <td>0</td>\n",
              "      <td>0</td>\n",
              "      <td>0</td>\n",
              "      <td>v</td>\n",
              "      <td>1</td>\n",
              "      <td>0</td>\n",
              "      <td>0</td>\n",
              "      <td>0</td>\n",
              "      <td>0</td>\n",
              "      <td>0</td>\n",
              "      <td>0</td>\n",
              "      <td>0</td>\n",
              "      <td>0</td>\n",
              "      <td>0</td>\n",
              "      <td>0</td>\n",
              "      <td>0</td>\n",
              "    </tr>\n",
              "    <tr>\n",
              "      <th>2</th>\n",
              "      <td>21</td>\n",
              "      <td>363</td>\n",
              "      <td>8973</td>\n",
              "      <td>2 floors</td>\n",
              "      <td>very new</td>\n",
              "      <td>very low percentage</td>\n",
              "      <td>low height</td>\n",
              "      <td>t</td>\n",
              "      <td>r</td>\n",
              "      <td>n</td>\n",
              "      <td>f</td>\n",
              "      <td>x</td>\n",
              "      <td>t</td>\n",
              "      <td>d</td>\n",
              "      <td>0</td>\n",
              "      <td>1</td>\n",
              "      <td>0</td>\n",
              "      <td>0</td>\n",
              "      <td>0</td>\n",
              "      <td>0</td>\n",
              "      <td>0</td>\n",
              "      <td>0</td>\n",
              "      <td>0</td>\n",
              "      <td>0</td>\n",
              "      <td>0</td>\n",
              "      <td>v</td>\n",
              "      <td>1</td>\n",
              "      <td>0</td>\n",
              "      <td>0</td>\n",
              "      <td>0</td>\n",
              "      <td>0</td>\n",
              "      <td>0</td>\n",
              "      <td>0</td>\n",
              "      <td>0</td>\n",
              "      <td>0</td>\n",
              "      <td>0</td>\n",
              "      <td>0</td>\n",
              "      <td>0</td>\n",
              "    </tr>\n",
              "    <tr>\n",
              "      <th>3</th>\n",
              "      <td>22</td>\n",
              "      <td>418</td>\n",
              "      <td>10694</td>\n",
              "      <td>2 floors</td>\n",
              "      <td>very new</td>\n",
              "      <td>very low percentage</td>\n",
              "      <td>low height</td>\n",
              "      <td>t</td>\n",
              "      <td>r</td>\n",
              "      <td>n</td>\n",
              "      <td>f</td>\n",
              "      <td>x</td>\n",
              "      <td>s</td>\n",
              "      <td>d</td>\n",
              "      <td>0</td>\n",
              "      <td>1</td>\n",
              "      <td>0</td>\n",
              "      <td>0</td>\n",
              "      <td>0</td>\n",
              "      <td>0</td>\n",
              "      <td>1</td>\n",
              "      <td>1</td>\n",
              "      <td>0</td>\n",
              "      <td>0</td>\n",
              "      <td>0</td>\n",
              "      <td>v</td>\n",
              "      <td>1</td>\n",
              "      <td>0</td>\n",
              "      <td>0</td>\n",
              "      <td>0</td>\n",
              "      <td>0</td>\n",
              "      <td>0</td>\n",
              "      <td>0</td>\n",
              "      <td>0</td>\n",
              "      <td>0</td>\n",
              "      <td>0</td>\n",
              "      <td>0</td>\n",
              "      <td>0</td>\n",
              "    </tr>\n",
              "    <tr>\n",
              "      <th>4</th>\n",
              "      <td>11</td>\n",
              "      <td>131</td>\n",
              "      <td>1488</td>\n",
              "      <td>3 floors</td>\n",
              "      <td>new</td>\n",
              "      <td>low percentage</td>\n",
              "      <td>high height</td>\n",
              "      <td>t</td>\n",
              "      <td>r</td>\n",
              "      <td>n</td>\n",
              "      <td>f</td>\n",
              "      <td>x</td>\n",
              "      <td>s</td>\n",
              "      <td>d</td>\n",
              "      <td>1</td>\n",
              "      <td>0</td>\n",
              "      <td>0</td>\n",
              "      <td>0</td>\n",
              "      <td>0</td>\n",
              "      <td>0</td>\n",
              "      <td>0</td>\n",
              "      <td>0</td>\n",
              "      <td>0</td>\n",
              "      <td>0</td>\n",
              "      <td>0</td>\n",
              "      <td>v</td>\n",
              "      <td>1</td>\n",
              "      <td>0</td>\n",
              "      <td>0</td>\n",
              "      <td>0</td>\n",
              "      <td>0</td>\n",
              "      <td>0</td>\n",
              "      <td>0</td>\n",
              "      <td>0</td>\n",
              "      <td>0</td>\n",
              "      <td>0</td>\n",
              "      <td>0</td>\n",
              "      <td>0</td>\n",
              "    </tr>\n",
              "  </tbody>\n",
              "</table>\n",
              "</div>"
            ],
            "text/plain": [
              "   geo_level_1_id  ...  has_secondary_use_other\n",
              "0               6  ...                        0\n",
              "1               8  ...                        0\n",
              "2              21  ...                        0\n",
              "3              22  ...                        0\n",
              "4              11  ...                        0\n",
              "\n",
              "[5 rows x 38 columns]"
            ]
          },
          "metadata": {
            "tags": []
          },
          "execution_count": 108
        }
      ]
    },
    {
      "cell_type": "markdown",
      "metadata": {
        "id": "Pp59YBxv6tM-"
      },
      "source": [
        "# Missing Datas"
      ]
    },
    {
      "cell_type": "code",
      "metadata": {
        "id": "vS67jL0FiPDh",
        "colab": {
          "base_uri": "https://localhost:8080/"
        },
        "outputId": "f40fe1d6-e4c4-4821-f011-b115654ce99e"
      },
      "source": [
        "total_train.isnull().sum()"
      ],
      "execution_count": 109,
      "outputs": [
        {
          "output_type": "execute_result",
          "data": {
            "text/plain": [
              "geo_level_1_id                            0\n",
              "geo_level_2_id                            0\n",
              "geo_level_3_id                            0\n",
              "count_floors_pre_eq                       0\n",
              "age                                       0\n",
              "area_percentage                           0\n",
              "height_percentage                         0\n",
              "land_surface_condition                    0\n",
              "foundation_type                           0\n",
              "roof_type                                 0\n",
              "ground_floor_type                         0\n",
              "other_floor_type                          0\n",
              "position                                  0\n",
              "plan_configuration                        0\n",
              "has_superstructure_adobe_mud              0\n",
              "has_superstructure_mud_mortar_stone       0\n",
              "has_superstructure_stone_flag             0\n",
              "has_superstructure_cement_mortar_stone    0\n",
              "has_superstructure_mud_mortar_brick       0\n",
              "has_superstructure_cement_mortar_brick    0\n",
              "has_superstructure_timber                 0\n",
              "has_superstructure_bamboo                 0\n",
              "has_superstructure_rc_non_engineered      0\n",
              "has_superstructure_rc_engineered          0\n",
              "has_superstructure_other                  0\n",
              "legal_ownership_status                    0\n",
              "count_families                            0\n",
              "has_secondary_use                         0\n",
              "has_secondary_use_agriculture             0\n",
              "has_secondary_use_hotel                   0\n",
              "has_secondary_use_rental                  0\n",
              "has_secondary_use_institution             0\n",
              "has_secondary_use_school                  0\n",
              "has_secondary_use_industry                0\n",
              "has_secondary_use_health_post             0\n",
              "has_secondary_use_gov_office              0\n",
              "has_secondary_use_use_police              0\n",
              "has_secondary_use_other                   0\n",
              "damage_grade                              0\n",
              "dtype: int64"
            ]
          },
          "metadata": {
            "tags": []
          },
          "execution_count": 109
        }
      ]
    },
    {
      "cell_type": "markdown",
      "metadata": {
        "id": "_eKWsx2C-plY"
      },
      "source": [
        "**Dataset does not contain null values**\n",
        "\n",
        "\n"
      ]
    },
    {
      "cell_type": "markdown",
      "metadata": {
        "id": "H9JGKMDGI409"
      },
      "source": [
        "**Defining** **the** **columns** **types**"
      ]
    },
    {
      "cell_type": "code",
      "metadata": {
        "id": "JN5hFcYMMF5R"
      },
      "source": [
        "def Column_labeler(Df,Label):\n",
        "\n",
        "    bin_col = []\n",
        "    cat_col = []\n",
        "    for x in Label:\n",
        "            if len(np.unique(Df[x].values)) == 2 and [y for y in Df[x] if type(y) == str ] :\n",
        "                 bin_col.append(x)\n",
        "            elif [y for y in Df[x] if type(y) == str ]:\n",
        "                cat_col.append(x)\n",
        "                \n",
        "    return  bin_col , cat_col"
      ],
      "execution_count": 110,
      "outputs": []
    },
    {
      "cell_type": "code",
      "metadata": {
        "id": "CLpLBssyKA_a"
      },
      "source": [
        "columns_list = list(total_df.columns.values) \n",
        "\n",
        "bin_col , cat_col = Column_labeler(total_df,columns_list)"
      ],
      "execution_count": 111,
      "outputs": []
    },
    {
      "cell_type": "markdown",
      "metadata": {
        "id": "-ldxh3kFKli6"
      },
      "source": [
        "**Label** **encoding**"
      ]
    },
    {
      "cell_type": "code",
      "metadata": {
        "id": "Mz9_9eEzKmxH"
      },
      "source": [
        "Lb = LabelEncoder()\n",
        "for x in bin_col:\n",
        "    total_df[x] = Lb.fit_transform(total_df[x])"
      ],
      "execution_count": 112,
      "outputs": []
    },
    {
      "cell_type": "markdown",
      "metadata": {
        "id": "SayWSS-nKt9F"
      },
      "source": [
        "**One** **hot** **encoding**"
      ]
    },
    {
      "cell_type": "code",
      "metadata": {
        "id": "0xQrkofBKtZT"
      },
      "source": [
        "total_df =  pd.get_dummies(total_df , columns =[x for x in cat_col])"
      ],
      "execution_count": 113,
      "outputs": []
    },
    {
      "cell_type": "code",
      "metadata": {
        "id": "GppJvxpxgo58",
        "colab": {
          "base_uri": "https://localhost:8080/",
          "height": 265
        },
        "outputId": "a75238aa-d7f5-447a-c191-85cb07153fd0"
      },
      "source": [
        "total_df.head()"
      ],
      "execution_count": 114,
      "outputs": [
        {
          "output_type": "execute_result",
          "data": {
            "text/html": [
              "<div>\n",
              "<style scoped>\n",
              "    .dataframe tbody tr th:only-of-type {\n",
              "        vertical-align: middle;\n",
              "    }\n",
              "\n",
              "    .dataframe tbody tr th {\n",
              "        vertical-align: top;\n",
              "    }\n",
              "\n",
              "    .dataframe thead th {\n",
              "        text-align: right;\n",
              "    }\n",
              "</style>\n",
              "<table border=\"1\" class=\"dataframe\">\n",
              "  <thead>\n",
              "    <tr style=\"text-align: right;\">\n",
              "      <th></th>\n",
              "      <th>geo_level_1_id</th>\n",
              "      <th>geo_level_2_id</th>\n",
              "      <th>geo_level_3_id</th>\n",
              "      <th>has_superstructure_adobe_mud</th>\n",
              "      <th>has_superstructure_mud_mortar_stone</th>\n",
              "      <th>has_superstructure_stone_flag</th>\n",
              "      <th>has_superstructure_cement_mortar_stone</th>\n",
              "      <th>has_superstructure_mud_mortar_brick</th>\n",
              "      <th>has_superstructure_cement_mortar_brick</th>\n",
              "      <th>has_superstructure_timber</th>\n",
              "      <th>has_superstructure_bamboo</th>\n",
              "      <th>has_superstructure_rc_non_engineered</th>\n",
              "      <th>has_superstructure_rc_engineered</th>\n",
              "      <th>has_superstructure_other</th>\n",
              "      <th>count_families</th>\n",
              "      <th>has_secondary_use</th>\n",
              "      <th>has_secondary_use_agriculture</th>\n",
              "      <th>has_secondary_use_hotel</th>\n",
              "      <th>has_secondary_use_rental</th>\n",
              "      <th>has_secondary_use_institution</th>\n",
              "      <th>has_secondary_use_school</th>\n",
              "      <th>has_secondary_use_industry</th>\n",
              "      <th>has_secondary_use_health_post</th>\n",
              "      <th>has_secondary_use_gov_office</th>\n",
              "      <th>has_secondary_use_use_police</th>\n",
              "      <th>has_secondary_use_other</th>\n",
              "      <th>count_floors_pre_eq_1 floor</th>\n",
              "      <th>count_floors_pre_eq_2 floors</th>\n",
              "      <th>count_floors_pre_eq_3 floors</th>\n",
              "      <th>count_floors_pre_eq_4 floors</th>\n",
              "      <th>count_floors_pre_eq_5-6 floors</th>\n",
              "      <th>count_floors_pre_eq_7+ floors</th>\n",
              "      <th>age_middle aged</th>\n",
              "      <th>age_new</th>\n",
              "      <th>age_old</th>\n",
              "      <th>age_very new</th>\n",
              "      <th>age_very old</th>\n",
              "      <th>area_percentage_high percentage</th>\n",
              "      <th>area_percentage_low percentage</th>\n",
              "      <th>area_percentage_middle percentage</th>\n",
              "      <th>...</th>\n",
              "      <th>height_percentage_middle height</th>\n",
              "      <th>height_percentage_very low height</th>\n",
              "      <th>land_surface_condition_n</th>\n",
              "      <th>land_surface_condition_o</th>\n",
              "      <th>land_surface_condition_t</th>\n",
              "      <th>foundation_type_h</th>\n",
              "      <th>foundation_type_i</th>\n",
              "      <th>foundation_type_r</th>\n",
              "      <th>foundation_type_u</th>\n",
              "      <th>foundation_type_w</th>\n",
              "      <th>roof_type_n</th>\n",
              "      <th>roof_type_q</th>\n",
              "      <th>roof_type_x</th>\n",
              "      <th>ground_floor_type_f</th>\n",
              "      <th>ground_floor_type_m</th>\n",
              "      <th>ground_floor_type_v</th>\n",
              "      <th>ground_floor_type_x</th>\n",
              "      <th>ground_floor_type_z</th>\n",
              "      <th>other_floor_type_j</th>\n",
              "      <th>other_floor_type_q</th>\n",
              "      <th>other_floor_type_s</th>\n",
              "      <th>other_floor_type_x</th>\n",
              "      <th>position_j</th>\n",
              "      <th>position_o</th>\n",
              "      <th>position_s</th>\n",
              "      <th>position_t</th>\n",
              "      <th>plan_configuration_a</th>\n",
              "      <th>plan_configuration_c</th>\n",
              "      <th>plan_configuration_d</th>\n",
              "      <th>plan_configuration_f</th>\n",
              "      <th>plan_configuration_m</th>\n",
              "      <th>plan_configuration_n</th>\n",
              "      <th>plan_configuration_o</th>\n",
              "      <th>plan_configuration_q</th>\n",
              "      <th>plan_configuration_s</th>\n",
              "      <th>plan_configuration_u</th>\n",
              "      <th>legal_ownership_status_a</th>\n",
              "      <th>legal_ownership_status_r</th>\n",
              "      <th>legal_ownership_status_v</th>\n",
              "      <th>legal_ownership_status_w</th>\n",
              "    </tr>\n",
              "  </thead>\n",
              "  <tbody>\n",
              "    <tr>\n",
              "      <th>0</th>\n",
              "      <td>6</td>\n",
              "      <td>487</td>\n",
              "      <td>12198</td>\n",
              "      <td>1</td>\n",
              "      <td>1</td>\n",
              "      <td>0</td>\n",
              "      <td>0</td>\n",
              "      <td>0</td>\n",
              "      <td>0</td>\n",
              "      <td>0</td>\n",
              "      <td>0</td>\n",
              "      <td>0</td>\n",
              "      <td>0</td>\n",
              "      <td>0</td>\n",
              "      <td>1</td>\n",
              "      <td>0</td>\n",
              "      <td>0</td>\n",
              "      <td>0</td>\n",
              "      <td>0</td>\n",
              "      <td>0</td>\n",
              "      <td>0</td>\n",
              "      <td>0</td>\n",
              "      <td>0</td>\n",
              "      <td>0</td>\n",
              "      <td>0</td>\n",
              "      <td>0</td>\n",
              "      <td>0</td>\n",
              "      <td>1</td>\n",
              "      <td>0</td>\n",
              "      <td>0</td>\n",
              "      <td>0</td>\n",
              "      <td>0</td>\n",
              "      <td>0</td>\n",
              "      <td>1</td>\n",
              "      <td>0</td>\n",
              "      <td>0</td>\n",
              "      <td>0</td>\n",
              "      <td>0</td>\n",
              "      <td>0</td>\n",
              "      <td>0</td>\n",
              "      <td>...</td>\n",
              "      <td>0</td>\n",
              "      <td>0</td>\n",
              "      <td>0</td>\n",
              "      <td>0</td>\n",
              "      <td>1</td>\n",
              "      <td>0</td>\n",
              "      <td>0</td>\n",
              "      <td>1</td>\n",
              "      <td>0</td>\n",
              "      <td>0</td>\n",
              "      <td>1</td>\n",
              "      <td>0</td>\n",
              "      <td>0</td>\n",
              "      <td>1</td>\n",
              "      <td>0</td>\n",
              "      <td>0</td>\n",
              "      <td>0</td>\n",
              "      <td>0</td>\n",
              "      <td>0</td>\n",
              "      <td>1</td>\n",
              "      <td>0</td>\n",
              "      <td>0</td>\n",
              "      <td>0</td>\n",
              "      <td>0</td>\n",
              "      <td>0</td>\n",
              "      <td>1</td>\n",
              "      <td>0</td>\n",
              "      <td>0</td>\n",
              "      <td>1</td>\n",
              "      <td>0</td>\n",
              "      <td>0</td>\n",
              "      <td>0</td>\n",
              "      <td>0</td>\n",
              "      <td>0</td>\n",
              "      <td>0</td>\n",
              "      <td>0</td>\n",
              "      <td>0</td>\n",
              "      <td>0</td>\n",
              "      <td>1</td>\n",
              "      <td>0</td>\n",
              "    </tr>\n",
              "    <tr>\n",
              "      <th>1</th>\n",
              "      <td>8</td>\n",
              "      <td>900</td>\n",
              "      <td>2812</td>\n",
              "      <td>0</td>\n",
              "      <td>1</td>\n",
              "      <td>0</td>\n",
              "      <td>0</td>\n",
              "      <td>0</td>\n",
              "      <td>0</td>\n",
              "      <td>0</td>\n",
              "      <td>0</td>\n",
              "      <td>0</td>\n",
              "      <td>0</td>\n",
              "      <td>0</td>\n",
              "      <td>1</td>\n",
              "      <td>0</td>\n",
              "      <td>0</td>\n",
              "      <td>0</td>\n",
              "      <td>0</td>\n",
              "      <td>0</td>\n",
              "      <td>0</td>\n",
              "      <td>0</td>\n",
              "      <td>0</td>\n",
              "      <td>0</td>\n",
              "      <td>0</td>\n",
              "      <td>0</td>\n",
              "      <td>0</td>\n",
              "      <td>1</td>\n",
              "      <td>0</td>\n",
              "      <td>0</td>\n",
              "      <td>0</td>\n",
              "      <td>0</td>\n",
              "      <td>0</td>\n",
              "      <td>0</td>\n",
              "      <td>0</td>\n",
              "      <td>1</td>\n",
              "      <td>0</td>\n",
              "      <td>0</td>\n",
              "      <td>1</td>\n",
              "      <td>0</td>\n",
              "      <td>...</td>\n",
              "      <td>1</td>\n",
              "      <td>0</td>\n",
              "      <td>0</td>\n",
              "      <td>1</td>\n",
              "      <td>0</td>\n",
              "      <td>0</td>\n",
              "      <td>0</td>\n",
              "      <td>1</td>\n",
              "      <td>0</td>\n",
              "      <td>0</td>\n",
              "      <td>1</td>\n",
              "      <td>0</td>\n",
              "      <td>0</td>\n",
              "      <td>0</td>\n",
              "      <td>0</td>\n",
              "      <td>0</td>\n",
              "      <td>1</td>\n",
              "      <td>0</td>\n",
              "      <td>0</td>\n",
              "      <td>1</td>\n",
              "      <td>0</td>\n",
              "      <td>0</td>\n",
              "      <td>0</td>\n",
              "      <td>0</td>\n",
              "      <td>1</td>\n",
              "      <td>0</td>\n",
              "      <td>0</td>\n",
              "      <td>0</td>\n",
              "      <td>1</td>\n",
              "      <td>0</td>\n",
              "      <td>0</td>\n",
              "      <td>0</td>\n",
              "      <td>0</td>\n",
              "      <td>0</td>\n",
              "      <td>0</td>\n",
              "      <td>0</td>\n",
              "      <td>0</td>\n",
              "      <td>0</td>\n",
              "      <td>1</td>\n",
              "      <td>0</td>\n",
              "    </tr>\n",
              "    <tr>\n",
              "      <th>2</th>\n",
              "      <td>21</td>\n",
              "      <td>363</td>\n",
              "      <td>8973</td>\n",
              "      <td>0</td>\n",
              "      <td>1</td>\n",
              "      <td>0</td>\n",
              "      <td>0</td>\n",
              "      <td>0</td>\n",
              "      <td>0</td>\n",
              "      <td>0</td>\n",
              "      <td>0</td>\n",
              "      <td>0</td>\n",
              "      <td>0</td>\n",
              "      <td>0</td>\n",
              "      <td>1</td>\n",
              "      <td>0</td>\n",
              "      <td>0</td>\n",
              "      <td>0</td>\n",
              "      <td>0</td>\n",
              "      <td>0</td>\n",
              "      <td>0</td>\n",
              "      <td>0</td>\n",
              "      <td>0</td>\n",
              "      <td>0</td>\n",
              "      <td>0</td>\n",
              "      <td>0</td>\n",
              "      <td>0</td>\n",
              "      <td>1</td>\n",
              "      <td>0</td>\n",
              "      <td>0</td>\n",
              "      <td>0</td>\n",
              "      <td>0</td>\n",
              "      <td>0</td>\n",
              "      <td>0</td>\n",
              "      <td>0</td>\n",
              "      <td>1</td>\n",
              "      <td>0</td>\n",
              "      <td>0</td>\n",
              "      <td>0</td>\n",
              "      <td>0</td>\n",
              "      <td>...</td>\n",
              "      <td>0</td>\n",
              "      <td>0</td>\n",
              "      <td>0</td>\n",
              "      <td>0</td>\n",
              "      <td>1</td>\n",
              "      <td>0</td>\n",
              "      <td>0</td>\n",
              "      <td>1</td>\n",
              "      <td>0</td>\n",
              "      <td>0</td>\n",
              "      <td>1</td>\n",
              "      <td>0</td>\n",
              "      <td>0</td>\n",
              "      <td>1</td>\n",
              "      <td>0</td>\n",
              "      <td>0</td>\n",
              "      <td>0</td>\n",
              "      <td>0</td>\n",
              "      <td>0</td>\n",
              "      <td>0</td>\n",
              "      <td>0</td>\n",
              "      <td>1</td>\n",
              "      <td>0</td>\n",
              "      <td>0</td>\n",
              "      <td>0</td>\n",
              "      <td>1</td>\n",
              "      <td>0</td>\n",
              "      <td>0</td>\n",
              "      <td>1</td>\n",
              "      <td>0</td>\n",
              "      <td>0</td>\n",
              "      <td>0</td>\n",
              "      <td>0</td>\n",
              "      <td>0</td>\n",
              "      <td>0</td>\n",
              "      <td>0</td>\n",
              "      <td>0</td>\n",
              "      <td>0</td>\n",
              "      <td>1</td>\n",
              "      <td>0</td>\n",
              "    </tr>\n",
              "    <tr>\n",
              "      <th>3</th>\n",
              "      <td>22</td>\n",
              "      <td>418</td>\n",
              "      <td>10694</td>\n",
              "      <td>0</td>\n",
              "      <td>1</td>\n",
              "      <td>0</td>\n",
              "      <td>0</td>\n",
              "      <td>0</td>\n",
              "      <td>0</td>\n",
              "      <td>1</td>\n",
              "      <td>1</td>\n",
              "      <td>0</td>\n",
              "      <td>0</td>\n",
              "      <td>0</td>\n",
              "      <td>1</td>\n",
              "      <td>0</td>\n",
              "      <td>0</td>\n",
              "      <td>0</td>\n",
              "      <td>0</td>\n",
              "      <td>0</td>\n",
              "      <td>0</td>\n",
              "      <td>0</td>\n",
              "      <td>0</td>\n",
              "      <td>0</td>\n",
              "      <td>0</td>\n",
              "      <td>0</td>\n",
              "      <td>0</td>\n",
              "      <td>1</td>\n",
              "      <td>0</td>\n",
              "      <td>0</td>\n",
              "      <td>0</td>\n",
              "      <td>0</td>\n",
              "      <td>0</td>\n",
              "      <td>0</td>\n",
              "      <td>0</td>\n",
              "      <td>1</td>\n",
              "      <td>0</td>\n",
              "      <td>0</td>\n",
              "      <td>0</td>\n",
              "      <td>0</td>\n",
              "      <td>...</td>\n",
              "      <td>0</td>\n",
              "      <td>0</td>\n",
              "      <td>0</td>\n",
              "      <td>0</td>\n",
              "      <td>1</td>\n",
              "      <td>0</td>\n",
              "      <td>0</td>\n",
              "      <td>1</td>\n",
              "      <td>0</td>\n",
              "      <td>0</td>\n",
              "      <td>1</td>\n",
              "      <td>0</td>\n",
              "      <td>0</td>\n",
              "      <td>1</td>\n",
              "      <td>0</td>\n",
              "      <td>0</td>\n",
              "      <td>0</td>\n",
              "      <td>0</td>\n",
              "      <td>0</td>\n",
              "      <td>0</td>\n",
              "      <td>0</td>\n",
              "      <td>1</td>\n",
              "      <td>0</td>\n",
              "      <td>0</td>\n",
              "      <td>1</td>\n",
              "      <td>0</td>\n",
              "      <td>0</td>\n",
              "      <td>0</td>\n",
              "      <td>1</td>\n",
              "      <td>0</td>\n",
              "      <td>0</td>\n",
              "      <td>0</td>\n",
              "      <td>0</td>\n",
              "      <td>0</td>\n",
              "      <td>0</td>\n",
              "      <td>0</td>\n",
              "      <td>0</td>\n",
              "      <td>0</td>\n",
              "      <td>1</td>\n",
              "      <td>0</td>\n",
              "    </tr>\n",
              "    <tr>\n",
              "      <th>4</th>\n",
              "      <td>11</td>\n",
              "      <td>131</td>\n",
              "      <td>1488</td>\n",
              "      <td>1</td>\n",
              "      <td>0</td>\n",
              "      <td>0</td>\n",
              "      <td>0</td>\n",
              "      <td>0</td>\n",
              "      <td>0</td>\n",
              "      <td>0</td>\n",
              "      <td>0</td>\n",
              "      <td>0</td>\n",
              "      <td>0</td>\n",
              "      <td>0</td>\n",
              "      <td>1</td>\n",
              "      <td>0</td>\n",
              "      <td>0</td>\n",
              "      <td>0</td>\n",
              "      <td>0</td>\n",
              "      <td>0</td>\n",
              "      <td>0</td>\n",
              "      <td>0</td>\n",
              "      <td>0</td>\n",
              "      <td>0</td>\n",
              "      <td>0</td>\n",
              "      <td>0</td>\n",
              "      <td>0</td>\n",
              "      <td>0</td>\n",
              "      <td>1</td>\n",
              "      <td>0</td>\n",
              "      <td>0</td>\n",
              "      <td>0</td>\n",
              "      <td>0</td>\n",
              "      <td>1</td>\n",
              "      <td>0</td>\n",
              "      <td>0</td>\n",
              "      <td>0</td>\n",
              "      <td>0</td>\n",
              "      <td>1</td>\n",
              "      <td>0</td>\n",
              "      <td>...</td>\n",
              "      <td>0</td>\n",
              "      <td>0</td>\n",
              "      <td>0</td>\n",
              "      <td>0</td>\n",
              "      <td>1</td>\n",
              "      <td>0</td>\n",
              "      <td>0</td>\n",
              "      <td>1</td>\n",
              "      <td>0</td>\n",
              "      <td>0</td>\n",
              "      <td>1</td>\n",
              "      <td>0</td>\n",
              "      <td>0</td>\n",
              "      <td>1</td>\n",
              "      <td>0</td>\n",
              "      <td>0</td>\n",
              "      <td>0</td>\n",
              "      <td>0</td>\n",
              "      <td>0</td>\n",
              "      <td>0</td>\n",
              "      <td>0</td>\n",
              "      <td>1</td>\n",
              "      <td>0</td>\n",
              "      <td>0</td>\n",
              "      <td>1</td>\n",
              "      <td>0</td>\n",
              "      <td>0</td>\n",
              "      <td>0</td>\n",
              "      <td>1</td>\n",
              "      <td>0</td>\n",
              "      <td>0</td>\n",
              "      <td>0</td>\n",
              "      <td>0</td>\n",
              "      <td>0</td>\n",
              "      <td>0</td>\n",
              "      <td>0</td>\n",
              "      <td>0</td>\n",
              "      <td>0</td>\n",
              "      <td>1</td>\n",
              "      <td>0</td>\n",
              "    </tr>\n",
              "  </tbody>\n",
              "</table>\n",
              "<p>5 rows × 84 columns</p>\n",
              "</div>"
            ],
            "text/plain": [
              "   geo_level_1_id  ...  legal_ownership_status_w\n",
              "0               6  ...                         0\n",
              "1               8  ...                         0\n",
              "2              21  ...                         0\n",
              "3              22  ...                         0\n",
              "4              11  ...                         0\n",
              "\n",
              "[5 rows x 84 columns]"
            ]
          },
          "metadata": {
            "tags": []
          },
          "execution_count": 114
        }
      ]
    },
    {
      "cell_type": "markdown",
      "metadata": {
        "id": "jMOrVphJmIZb"
      },
      "source": [
        "Our dataset contains various data types. Such as object ,  uint8 ,int64. We have to convert all of these to float data types. \n",
        "Otherwise this model will not work."
      ]
    },
    {
      "cell_type": "code",
      "metadata": {
        "id": "yOLRsdEhlL_o"
      },
      "source": [
        "New_columns_list = list(total_df.columns.values) \n",
        "for columns in New_columns_list :\n",
        "    total_df[columns] = total_df[columns].astype(float)"
      ],
      "execution_count": 115,
      "outputs": []
    },
    {
      "cell_type": "code",
      "metadata": {
        "id": "uP0M4zeImvFL",
        "colab": {
          "base_uri": "https://localhost:8080/"
        },
        "outputId": "992e8321-07a9-44b8-9d01-b855976c0deb"
      },
      "source": [
        "total_df.info()"
      ],
      "execution_count": 116,
      "outputs": [
        {
          "output_type": "stream",
          "text": [
            "<class 'pandas.core.frame.DataFrame'>\n",
            "Int64Index: 347469 entries, 0 to 86867\n",
            "Data columns (total 84 columns):\n",
            " #   Column                                  Non-Null Count   Dtype  \n",
            "---  ------                                  --------------   -----  \n",
            " 0   geo_level_1_id                          347469 non-null  float64\n",
            " 1   geo_level_2_id                          347469 non-null  float64\n",
            " 2   geo_level_3_id                          347469 non-null  float64\n",
            " 3   has_superstructure_adobe_mud            347469 non-null  float64\n",
            " 4   has_superstructure_mud_mortar_stone     347469 non-null  float64\n",
            " 5   has_superstructure_stone_flag           347469 non-null  float64\n",
            " 6   has_superstructure_cement_mortar_stone  347469 non-null  float64\n",
            " 7   has_superstructure_mud_mortar_brick     347469 non-null  float64\n",
            " 8   has_superstructure_cement_mortar_brick  347469 non-null  float64\n",
            " 9   has_superstructure_timber               347469 non-null  float64\n",
            " 10  has_superstructure_bamboo               347469 non-null  float64\n",
            " 11  has_superstructure_rc_non_engineered    347469 non-null  float64\n",
            " 12  has_superstructure_rc_engineered        347469 non-null  float64\n",
            " 13  has_superstructure_other                347469 non-null  float64\n",
            " 14  count_families                          347469 non-null  float64\n",
            " 15  has_secondary_use                       347469 non-null  float64\n",
            " 16  has_secondary_use_agriculture           347469 non-null  float64\n",
            " 17  has_secondary_use_hotel                 347469 non-null  float64\n",
            " 18  has_secondary_use_rental                347469 non-null  float64\n",
            " 19  has_secondary_use_institution           347469 non-null  float64\n",
            " 20  has_secondary_use_school                347469 non-null  float64\n",
            " 21  has_secondary_use_industry              347469 non-null  float64\n",
            " 22  has_secondary_use_health_post           347469 non-null  float64\n",
            " 23  has_secondary_use_gov_office            347469 non-null  float64\n",
            " 24  has_secondary_use_use_police            347469 non-null  float64\n",
            " 25  has_secondary_use_other                 347469 non-null  float64\n",
            " 26  count_floors_pre_eq_1 floor             347469 non-null  float64\n",
            " 27  count_floors_pre_eq_2 floors            347469 non-null  float64\n",
            " 28  count_floors_pre_eq_3 floors            347469 non-null  float64\n",
            " 29  count_floors_pre_eq_4 floors            347469 non-null  float64\n",
            " 30  count_floors_pre_eq_5-6 floors          347469 non-null  float64\n",
            " 31  count_floors_pre_eq_7+ floors           347469 non-null  float64\n",
            " 32  age_middle aged                         347469 non-null  float64\n",
            " 33  age_new                                 347469 non-null  float64\n",
            " 34  age_old                                 347469 non-null  float64\n",
            " 35  age_very new                            347469 non-null  float64\n",
            " 36  age_very old                            347469 non-null  float64\n",
            " 37  area_percentage_high percentage         347469 non-null  float64\n",
            " 38  area_percentage_low percentage          347469 non-null  float64\n",
            " 39  area_percentage_middle percentage       347469 non-null  float64\n",
            " 40  area_percentage_very high percentage    347469 non-null  float64\n",
            " 41  area_percentage_very low percentage     347469 non-null  float64\n",
            " 42  height_percentage_high height           347469 non-null  float64\n",
            " 43  height_percentage_low height            347469 non-null  float64\n",
            " 44  height_percentage_middle height         347469 non-null  float64\n",
            " 45  height_percentage_very low height       347469 non-null  float64\n",
            " 46  land_surface_condition_n                347469 non-null  float64\n",
            " 47  land_surface_condition_o                347469 non-null  float64\n",
            " 48  land_surface_condition_t                347469 non-null  float64\n",
            " 49  foundation_type_h                       347469 non-null  float64\n",
            " 50  foundation_type_i                       347469 non-null  float64\n",
            " 51  foundation_type_r                       347469 non-null  float64\n",
            " 52  foundation_type_u                       347469 non-null  float64\n",
            " 53  foundation_type_w                       347469 non-null  float64\n",
            " 54  roof_type_n                             347469 non-null  float64\n",
            " 55  roof_type_q                             347469 non-null  float64\n",
            " 56  roof_type_x                             347469 non-null  float64\n",
            " 57  ground_floor_type_f                     347469 non-null  float64\n",
            " 58  ground_floor_type_m                     347469 non-null  float64\n",
            " 59  ground_floor_type_v                     347469 non-null  float64\n",
            " 60  ground_floor_type_x                     347469 non-null  float64\n",
            " 61  ground_floor_type_z                     347469 non-null  float64\n",
            " 62  other_floor_type_j                      347469 non-null  float64\n",
            " 63  other_floor_type_q                      347469 non-null  float64\n",
            " 64  other_floor_type_s                      347469 non-null  float64\n",
            " 65  other_floor_type_x                      347469 non-null  float64\n",
            " 66  position_j                              347469 non-null  float64\n",
            " 67  position_o                              347469 non-null  float64\n",
            " 68  position_s                              347469 non-null  float64\n",
            " 69  position_t                              347469 non-null  float64\n",
            " 70  plan_configuration_a                    347469 non-null  float64\n",
            " 71  plan_configuration_c                    347469 non-null  float64\n",
            " 72  plan_configuration_d                    347469 non-null  float64\n",
            " 73  plan_configuration_f                    347469 non-null  float64\n",
            " 74  plan_configuration_m                    347469 non-null  float64\n",
            " 75  plan_configuration_n                    347469 non-null  float64\n",
            " 76  plan_configuration_o                    347469 non-null  float64\n",
            " 77  plan_configuration_q                    347469 non-null  float64\n",
            " 78  plan_configuration_s                    347469 non-null  float64\n",
            " 79  plan_configuration_u                    347469 non-null  float64\n",
            " 80  legal_ownership_status_a                347469 non-null  float64\n",
            " 81  legal_ownership_status_r                347469 non-null  float64\n",
            " 82  legal_ownership_status_v                347469 non-null  float64\n",
            " 83  legal_ownership_status_w                347469 non-null  float64\n",
            "dtypes: float64(84)\n",
            "memory usage: 225.3 MB\n"
          ],
          "name": "stdout"
        }
      ]
    },
    {
      "cell_type": "markdown",
      "metadata": {
        "id": "Wxvhi4TZpfBO"
      },
      "source": [
        "# Model and Predictions"
      ]
    },
    {
      "cell_type": "code",
      "metadata": {
        "id": "TCZmylTtplyT"
      },
      "source": [
        "\n",
        "from sklearn.preprocessing import StandardScaler"
      ],
      "execution_count": 117,
      "outputs": []
    },
    {
      "cell_type": "markdown",
      "metadata": {
        "id": "oDpZDPAporhc"
      },
      "source": [
        " **This function will give us  defines which columns need to standardization process.**"
      ]
    },
    {
      "cell_type": "code",
      "metadata": {
        "id": "s2IbwthKqdJ2"
      },
      "source": [
        "def Standartize_preprocessing(Df,Label):\n",
        "    bin_col = []\n",
        "    other_col = []\n",
        "    for rtx in Label:\n",
        "          if  1.0 in np.unique(Df[rtx].values)  and  0.0 in np.unique(Df[rtx].values) and len(np.unique(Df[rtx].values)) == 2 :\n",
        "                bin_col.append(rtx)\n",
        "          else:\n",
        "              other_col.append(rtx)\n",
        "              \n",
        "    return  bin_col ,  other_col"
      ],
      "execution_count": 118,
      "outputs": []
    },
    {
      "cell_type": "code",
      "metadata": {
        "id": "nvMyvcgxvth5"
      },
      "source": [
        "Ns , S  = Standartize_preprocessing(total_df  , New_columns_list)"
      ],
      "execution_count": 119,
      "outputs": []
    },
    {
      "cell_type": "code",
      "metadata": {
        "id": "CDvBeNybAw9m"
      },
      "source": [
        "for std in S:\n",
        "   total_df[[std]] = StandardScaler().fit_transform(total_df[[std]])\n",
        "  "
      ],
      "execution_count": 120,
      "outputs": []
    },
    {
      "cell_type": "code",
      "metadata": {
        "id": "8_vvGu4RLWd5",
        "colab": {
          "base_uri": "https://localhost:8080/"
        },
        "outputId": "f32ce8e7-6fdd-4a64-c889-c922d9083949"
      },
      "source": [
        "print( x_train.shape , '  ',  x_test.shape, '   ' , total_df.shape)"
      ],
      "execution_count": 121,
      "outputs": [
        {
          "output_type": "stream",
          "text": [
            "(260601, 38)    (86868, 38)     (347469, 84)\n"
          ],
          "name": "stdout"
        }
      ]
    },
    {
      "cell_type": "markdown",
      "metadata": {
        "id": "13gxRT77LGYc"
      },
      "source": [
        "# Separating  Data\n",
        "\n",
        "---\n",
        "\n"
      ]
    },
    {
      "cell_type": "code",
      "metadata": {
        "id": "AopmSXVuLFKW"
      },
      "source": [
        "Ready_xtrain = total_df.iloc[:260601]\n",
        "\n",
        "Ready_xtest = total_df.iloc[260601: ,:]"
      ],
      "execution_count": 122,
      "outputs": []
    },
    {
      "cell_type": "code",
      "metadata": {
        "id": "Z7AkPmcB4bS-"
      },
      "source": [
        "\n",
        "y_train = pd.get_dummies(y_train, columns = y_train.columns.tolist() )"
      ],
      "execution_count": 123,
      "outputs": []
    },
    {
      "cell_type": "code",
      "metadata": {
        "id": "oo7WLlLiqqtK",
        "colab": {
          "base_uri": "https://localhost:8080/",
          "height": 35
        },
        "outputId": "e40e348f-f3c6-493a-cc43-5bbc9660456b"
      },
      "source": [
        "tf.test.gpu_device_name()"
      ],
      "execution_count": 124,
      "outputs": [
        {
          "output_type": "execute_result",
          "data": {
            "application/vnd.google.colaboratory.intrinsic+json": {
              "type": "string"
            },
            "text/plain": [
              "'/device:GPU:0'"
            ]
          },
          "metadata": {
            "tags": []
          },
          "execution_count": 124
        }
      ]
    },
    {
      "cell_type": "code",
      "metadata": {
        "id": "Cc0c9jmbrQ-g",
        "colab": {
          "base_uri": "https://localhost:8080/"
        },
        "outputId": "d2f6e156-1fe5-45d5-aead-ec78d1a7f48b"
      },
      "source": [
        "print(\"Num GPUs Available: \", len(tf.config.experimental.list_physical_devices('GPU')))"
      ],
      "execution_count": 125,
      "outputs": [
        {
          "output_type": "stream",
          "text": [
            "Num GPUs Available:  1\n"
          ],
          "name": "stdout"
        }
      ]
    },
    {
      "cell_type": "markdown",
      "metadata": {
        "id": "SKOtJqeBvzFG"
      },
      "source": [
        "**Dataset is very big and we are going to use too many epochs therefore we use dropout layers. Because dropout layers prevent overfitting.**"
      ]
    },
    {
      "cell_type": "code",
      "metadata": {
        "id": "QmQSFPXyK-3X",
        "colab": {
          "base_uri": "https://localhost:8080/"
        },
        "outputId": "300863f2-470b-4213-cb3a-88cb73e3aba3"
      },
      "source": [
        "with tf.device('/GPU:0'):\n",
        "    tf.keras.backend.set_floatx('float64')\n",
        "    model = tf.keras.models.Sequential([\n",
        "        tf.keras.layers.Flatten()  ,                              \n",
        "        tf.keras.layers.Dense(2000, activation=\"relu\"),\n",
        "        tf.keras.layers.Dropout(0.2),\n",
        "        tf.keras.layers.Dense(2000, activation=\"relu\"),\n",
        "        tf.keras.layers.Dropout(0.2),\n",
        "        tf.keras.layers.Dense(1000, activation=\"relu\"),\n",
        "        tf.keras.layers.Dense(500, activation=\"relu\"),\n",
        " \n",
        "        tf.keras.layers.Dense(3 ,activation=\"softmax\")\n",
        "        ])\n",
        "    \n",
        "    model.compile(\n",
        "        optimizer='adam',\n",
        "        loss='categorical_crossentropy',\n",
        "        metrics=['accuracy' , 'mse'] )\n",
        "   \n",
        "    history = model.fit( Ready_xtrain , y_train, epochs=10 )\n",
        "     \n",
        "    "
      ],
      "execution_count": 126,
      "outputs": [
        {
          "output_type": "stream",
          "text": [
            "Epoch 1/10\n",
            "8144/8144 [==============================] - 126s 15ms/step - loss: 0.7826 - accuracy: 0.6076 - mse: 0.1645\n",
            "Epoch 2/10\n",
            "8144/8144 [==============================] - 128s 16ms/step - loss: 0.7197 - accuracy: 0.6569 - mse: 0.1505\n",
            "Epoch 3/10\n",
            "8144/8144 [==============================] - 126s 16ms/step - loss: 0.7034 - accuracy: 0.6681 - mse: 0.1468\n",
            "Epoch 4/10\n",
            "8144/8144 [==============================] - 126s 16ms/step - loss: 0.6918 - accuracy: 0.6746 - mse: 0.1443\n",
            "Epoch 5/10\n",
            "8144/8144 [==============================] - 126s 15ms/step - loss: 0.6851 - accuracy: 0.6793 - mse: 0.1430\n",
            "Epoch 6/10\n",
            "8144/8144 [==============================] - 126s 15ms/step - loss: 0.6789 - accuracy: 0.6825 - mse: 0.1415\n",
            "Epoch 7/10\n",
            "8144/8144 [==============================] - 126s 16ms/step - loss: 0.6701 - accuracy: 0.6879 - mse: 0.1396\n",
            "Epoch 8/10\n",
            "8144/8144 [==============================] - 126s 15ms/step - loss: 0.6664 - accuracy: 0.6907 - mse: 0.1388\n",
            "Epoch 9/10\n",
            "8144/8144 [==============================] - 126s 15ms/step - loss: 0.6605 - accuracy: 0.6924 - mse: 0.1377\n",
            "Epoch 10/10\n",
            "8144/8144 [==============================] - 125s 15ms/step - loss: 0.6552 - accuracy: 0.6964 - mse: 0.1364\n"
          ],
          "name": "stdout"
        }
      ]
    },
    {
      "cell_type": "code",
      "metadata": {
        "id": "PJ6JNUlMKQX4"
      },
      "source": [
        "predict = model.predict(Ready_xtest)"
      ],
      "execution_count": 127,
      "outputs": []
    },
    {
      "cell_type": "code",
      "metadata": {
        "id": "egcysmbXd9Bd"
      },
      "source": [
        "acc      = history.history[ 'accuracy' ]\n",
        "loss     = history.history[ 'loss' ]\n",
        "epochs   = range(len(acc)) \n",
        "mse =  history.history[ 'mse' ]"
      ],
      "execution_count": 128,
      "outputs": []
    },
    {
      "cell_type": "code",
      "metadata": {
        "id": "L3BgROi2PunC"
      },
      "source": [
        "def labeler(data):\n",
        "  predicts_list = []\n",
        "  for x in data:\n",
        "    x = x.tolist()\n",
        "    predict = x.index(max(x))+1\n",
        "    predicts_list.append(predict)\n",
        "  return predicts_list  "
      ],
      "execution_count": 129,
      "outputs": []
    },
    {
      "cell_type": "code",
      "metadata": {
        "id": "ad50L4hEP8Wu"
      },
      "source": [
        "predicts = labeler(predict)"
      ],
      "execution_count": 130,
      "outputs": []
    },
    {
      "cell_type": "code",
      "metadata": {
        "id": "Mbeo4Huvd9jX",
        "colab": {
          "base_uri": "https://localhost:8080/",
          "height": 784
        },
        "outputId": "85772af7-89ae-443d-aefb-99410b3a0e3e"
      },
      "source": [
        "plt.subplots(figsize=(12,6))\n",
        "plt.plot  (epochs, acc ,'b', label='Training accuracy' )\n",
        "plt.plot  (epochs, loss  , 'r' , label='Training loss')\n",
        "plt.title ('Training Accuracy and Training Loss  '   )\n",
        "plt.legend(loc=0)\n",
        "plt.figure()\n",
        "plt.subplots(figsize=(12,6))\n",
        "plt.plot  (epochs, acc ,'b', label='Training accuracy' )\n",
        "plt.plot  (epochs, mse  , 'r' , label='Training MSE')\n",
        "plt.legend(loc=0)\n",
        "plt.figure()\n",
        "\n",
        "plt.show()"
      ],
      "execution_count": 131,
      "outputs": [
        {
          "output_type": "display_data",
          "data": {
            "image/png": "[encoded data removed]",
            "text/plain": [
              "<Figure size 864x432 with 1 Axes>"
            ]
          },
          "metadata": {
            "tags": [],
            "needs_background": "light"
          }
        },
        {
          "output_type": "display_data",
          "data": {
            "text/plain": [
              "<Figure size 432x288 with 0 Axes>"
            ]
          },
          "metadata": {
            "tags": []
          }
        },
        {
          "output_type": "display_data",
          "data": {
            "image/png": "[encoded data removed]",
            "text/plain": [
              "<Figure size 864x432 with 1 Axes>"
            ]
          },
          "metadata": {
            "tags": [],
            "needs_background": "light"
          }
        },
        {
          "output_type": "display_data",
          "data": {
            "text/plain": [
              "<Figure size 432x288 with 0 Axes>"
            ]
          },
          "metadata": {
            "tags": []
          }
        }
      ]
    },
    {
      "cell_type": "code",
      "metadata": {
        "id": "kwVR34YVor7A"
      },
      "source": [
        "submission = pd.read_csv(\"drive/My Drive/earthquake/submission_format.csv\")"
      ],
      "execution_count": 132,
      "outputs": []
    },
    {
      "cell_type": "code",
      "metadata": {
        "id": "QdBXjhMypIMC"
      },
      "source": [
        "predictions = pd.DataFrame(predicts , columns = ['damage_grade'])"
      ],
      "execution_count": 133,
      "outputs": []
    },
    {
      "cell_type": "code",
      "metadata": {
        "id": "alIn2865pQ5j",
        "colab": {
          "base_uri": "https://localhost:8080/",
          "height": 198
        },
        "outputId": "ecfe737e-8cfc-4368-f2f9-8a6a7e5ab29e"
      },
      "source": [
        "predictions.head()"
      ],
      "execution_count": 134,
      "outputs": [
        {
          "output_type": "execute_result",
          "data": {
            "text/html": [
              "<div>\n",
              "<style scoped>\n",
              "    .dataframe tbody tr th:only-of-type {\n",
              "        vertical-align: middle;\n",
              "    }\n",
              "\n",
              "    .dataframe tbody tr th {\n",
              "        vertical-align: top;\n",
              "    }\n",
              "\n",
              "    .dataframe thead th {\n",
              "        text-align: right;\n",
              "    }\n",
              "</style>\n",
              "<table border=\"1\" class=\"dataframe\">\n",
              "  <thead>\n",
              "    <tr style=\"text-align: right;\">\n",
              "      <th></th>\n",
              "      <th>damage_grade</th>\n",
              "    </tr>\n",
              "  </thead>\n",
              "  <tbody>\n",
              "    <tr>\n",
              "      <th>0</th>\n",
              "      <td>3</td>\n",
              "    </tr>\n",
              "    <tr>\n",
              "      <th>1</th>\n",
              "      <td>2</td>\n",
              "    </tr>\n",
              "    <tr>\n",
              "      <th>2</th>\n",
              "      <td>2</td>\n",
              "    </tr>\n",
              "    <tr>\n",
              "      <th>3</th>\n",
              "      <td>2</td>\n",
              "    </tr>\n",
              "    <tr>\n",
              "      <th>4</th>\n",
              "      <td>3</td>\n",
              "    </tr>\n",
              "  </tbody>\n",
              "</table>\n",
              "</div>"
            ],
            "text/plain": [
              "   damage_grade\n",
              "0             3\n",
              "1             2\n",
              "2             2\n",
              "3             2\n",
              "4             3"
            ]
          },
          "metadata": {
            "tags": []
          },
          "execution_count": 134
        }
      ]
    },
    {
      "cell_type": "code",
      "metadata": {
        "id": "zYO6Yi-yoyaF",
        "colab": {
          "base_uri": "https://localhost:8080/",
          "height": 198
        },
        "outputId": "4183ff02-8343-42fe-ca83-87c5fa96ed30"
      },
      "source": [
        "Result =  pd.concat([submission[['building_id']],predictions],axis=1)\n",
        "Result.head()"
      ],
      "execution_count": 135,
      "outputs": [
        {
          "output_type": "execute_result",
          "data": {
            "text/html": [
              "<div>\n",
              "<style scoped>\n",
              "    .dataframe tbody tr th:only-of-type {\n",
              "        vertical-align: middle;\n",
              "    }\n",
              "\n",
              "    .dataframe tbody tr th {\n",
              "        vertical-align: top;\n",
              "    }\n",
              "\n",
              "    .dataframe thead th {\n",
              "        text-align: right;\n",
              "    }\n",
              "</style>\n",
              "<table border=\"1\" class=\"dataframe\">\n",
              "  <thead>\n",
              "    <tr style=\"text-align: right;\">\n",
              "      <th></th>\n",
              "      <th>building_id</th>\n",
              "      <th>damage_grade</th>\n",
              "    </tr>\n",
              "  </thead>\n",
              "  <tbody>\n",
              "    <tr>\n",
              "      <th>0</th>\n",
              "      <td>300051</td>\n",
              "      <td>3</td>\n",
              "    </tr>\n",
              "    <tr>\n",
              "      <th>1</th>\n",
              "      <td>99355</td>\n",
              "      <td>2</td>\n",
              "    </tr>\n",
              "    <tr>\n",
              "      <th>2</th>\n",
              "      <td>890251</td>\n",
              "      <td>2</td>\n",
              "    </tr>\n",
              "    <tr>\n",
              "      <th>3</th>\n",
              "      <td>745817</td>\n",
              "      <td>2</td>\n",
              "    </tr>\n",
              "    <tr>\n",
              "      <th>4</th>\n",
              "      <td>421793</td>\n",
              "      <td>3</td>\n",
              "    </tr>\n",
              "  </tbody>\n",
              "</table>\n",
              "</div>"
            ],
            "text/plain": [
              "   building_id  damage_grade\n",
              "0       300051             3\n",
              "1        99355             2\n",
              "2       890251             2\n",
              "3       745817             2\n",
              "4       421793             3"
            ]
          },
          "metadata": {
            "tags": []
          },
          "execution_count": 135
        }
      ]
    },
    {
      "cell_type": "code",
      "metadata": {
        "id": "4Lvtnx1npWju"
      },
      "source": [
        "Result.to_csv('drive/My Drive/kaggle/Earthquakepredict1.csv',index=False)"
      ],
      "execution_count": 136,
      "outputs": []
    }
  ]
}